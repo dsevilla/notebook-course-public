{
 "cells": [
  {
   "cell_type": "markdown",
   "metadata": {},
   "source": [
    "# Creación de notebooks personalizados"
   ]
  },
  {
   "cell_type": "markdown",
   "metadata": {},
   "source": [
    "+ La generación de notebooks se puede realizar de forma **programática**.\n",
    "+ Existen librerías especializadas en la creación de notebooks, siendo la más conocida **nbformat** en Python.\n",
    "+ Un conocimiento básico del formato **ipynb** de los notebooks es necesario para implementar de forma más eficaz la generación de notebooks."
   ]
  },
  {
   "cell_type": "markdown",
   "metadata": {},
   "source": [
    "## El formato _ipynb_"
   ]
  },
  {
   "cell_type": "markdown",
   "metadata": {},
   "source": [
    "+ Los notebooks son ficheros con extensión **ipynb**.\n",
    "+ Formato JSON siguiendo un determinado esquema:\n",
    "  - https://github.com/jupyter/nbformat/blob/master/nbformat/v4/nbformat.v4.schema.json\n",
    "+ Este esquema es útil como documentación y como forma de **validar** rápidamente si un notebook es válido.\n",
    "+ **OJO**: El formato de los notebooks es algo que cambia de forma relativamente frecuente entre versiones.\n",
    "  - Lo desarrollado aquí podría ser ligeramente distinto de la realidad según la versión.\n",
    "  - En ocasiones se introducen cambios que no son compatibles con versiones anteriores."
   ]
  },
  {
   "cell_type": "markdown",
   "metadata": {},
   "source": [
    "![notebook_schema](img/notebook_schema.png)"
   ]
  },
  {
   "cell_type": "markdown",
   "metadata": {},
   "source": [
    "## Estructura del notebook\n",
    "\n",
    "+ Un notebook consiste en un diccionario en JSON con cuatro elementos principales:\n",
    "  - **\"cells\"**: Una lista de objetos JSON con información sobre las celdas.\n",
    "  - **\"nbformat\"**: Un entero que indica la _major version_ de nbformat usada.\n",
    "  - **\"nbformat_minor\"**: Un entero que indica la _minor version_ de nbformat usada.\n",
    "  - **\"metadata\"**: Un diccionario con información sobre el formato del fichero, el tipo de kernel asociado y demás."
   ]
  },
  {
   "cell_type": "markdown",
   "metadata": {},
   "source": [
    "```json\n",
    "{\n",
    "    \"cells\" : [\n",
    "          # Lista de celdas...\n",
    "    ],\n",
    "    \"nbformat\": 4,\n",
    "    \"nbformat_minor\": 4,\n",
    "    \"metadata\" : {\n",
    "        \"kernelspec\": {\n",
    "            \"display_name\": \"Python 3 (ipykernel)\",\n",
    "            \"language\": \"python\",\n",
    "            \"name\": \"python3\"\n",
    "        },\n",
    "        \"language_info\": {\n",
    "            \"codemirror_mode\": {\n",
    "                \"name\": \"ipython\",\n",
    "                \"version\": 3\n",
    "            },\n",
    "            \"file_extension\": \".py\",\n",
    "            \"mimetype\": \"text/x-python\",\n",
    "            \"name\": \"python\",\n",
    "            \"nbconvert_exporter\": \"python\",\n",
    "            \"pygments_lexer\": \"ipython3\",\n",
    "            \"version\": \"3.10.6\"\n",
    "        },\n",
    "        \"toc\": {\n",
    "        ...\n",
    "        }\n",
    "    }\n",
    "}\n",
    "```"
   ]
  },
  {
   "cell_type": "markdown",
   "metadata": {},
   "source": [
    "### Campo \"cells\". Tipos de celdas\n",
    "\n",
    "+ Aunque las celdas pueden ser de varios tipos (markdown, código), todas siguen una estructura común:\n",
    "\n",
    "```json\n",
    "{\n",
    "    \"cell_type\" : \"<type>\",\n",
    "    \"metadata\" : {},\n",
    "    \"source\" : \"<single string or [list, of, strings]>\",\n",
    "}\n",
    "```\n",
    "\n",
    "+ Algunos campos, especialmente celdas de código o salida de texto, pueden consistir en varias líneas, y **a veces** se almacenan internamente como listas de cadenas de texto que deben concatenarse al mostrarse el notebook.\n",
    "+ Las librerías de manipulación de notebooks suelen hacer este proceso **automáticamente**.\n",
    "\n",
    "#### Celdas en Markdown\n",
    "\n",
    "+ Estas celdas de texto son de tipo **\"markdown\"** con la siguiente estructura:\n",
    "\n",
    "```json\n",
    "{\n",
    "    \"cell_type\" : \"markdown\",\n",
    "    \"metadata\" : {},\n",
    "    \"source\" : \"[multi-line *markdown*]\",\n",
    "}\n",
    "```\n",
    "\n",
    "+ En versiones anteriores existían campos adicionales que se han eliminado recientemente.\n",
    "+ Ejemplo:"
   ]
  },
  {
   "cell_type": "markdown",
   "metadata": {},
   "source": [
    "```json\n",
    "{\n",
    "   \"cell_type\": \"markdown\",\n",
    "   \"metadata\": {},\n",
    "   \"source\": [\n",
    "    \"# Manejo básico de hojas Jupyter\\n\",\n",
    "    \"\\n\",\n",
    "    \"## Tipos de celdas\\n\",\n",
    "    \"Una hoja Jupyter contiene una sucesión de celdas. Estas celdas pueden ser, principalmente, de dos tipos:\\n\",\n",
    "    \"\\n\",\n",
    "    \"+ Celdas de texto: Contienen texto en formato _Markdown_\\n\",\n",
    "    \"+ Celdas de código: Contienen código a ser ejecutado por el _kernel_. Cuando el código se ejecuta, el resultado obtenido se muestra a continuación de la celda de código.\"\n",
    "   ]\n",
    "  }\n",
    "```"
   ]
  },
  {
   "cell_type": "markdown",
   "metadata": {},
   "source": [
    "##### Contenido adjunto en celdas Markdown\n",
    "\n",
    "+ Las celdas en markdown permiten adjuntar ficheros, normalmente imágenes, en una celda.\n",
    "+ Aparece un campo `attachments` dentro del JSON de la celda con una serie de claves que describen el contenido.\n",
    "+ Si no hay contenido adjunto en una celda, el campo `attachments` puede ser nulo o no existir."
   ]
  },
  {
   "attachments": {
    "attachment.png": {
     "image/png": "[encoded data removed]"
    }
   },
   "cell_type": "markdown",
   "metadata": {},
   "source": [
    "##### Ejemplo de una imagen adjunta:\n",
    "\n",
    "![attachment.png](attachment:attachment.png)"
   ]
  },
  {
   "cell_type": "markdown",
   "metadata": {},
   "source": [
    "```json\n",
    "{\n",
    "    \"attachments\": {\n",
    "        \"attachment.png\": {\n",
    "         \"image/png\": \"....................................\"\n",
    "        }\n",
    "    },\n",
    "    \"cell_type\": \"markdown\",\n",
    "    \"metadata\": {},\n",
    "    \"source\": [\n",
    "        \"##### Ejemplo de una imagen adjunta:\\n\",\n",
    "        \"\\n\",\n",
    "        \"![attachment.png](attachment:attachment.png)\"\n",
    "    ]\n",
    "}\n",
    "```"
   ]
  },
  {
   "cell_type": "markdown",
   "metadata": {},
   "source": [
    "#### Celdas de código\n",
    "\n",
    "+ Las celdas de código contienen, principalmente, los siguientes elementos:\n",
    "  - El código fuente en el lenguaje del kernel.\n",
    "  - Una lista de salidas asociadas a la celda.\n",
    "  - El número de ejecución de la celda.\n",
    "    * `null` si la celda no se ha ejecutado.\n",
    "```json\n",
    "    {\n",
    "      \"cell_type\" : \"code\",\n",
    "      \"execution_count\": 1, # integer or null\n",
    "      \"metadata\" : {\n",
    "          \"collapsed\" : True, # whether the output of the cell is collapsed\n",
    "          \"scrolled\": False, # any of true, false or \"auto\"\n",
    "          ...\n",
    "      },\n",
    "      \"source\" : \"[some multi-line code]\",\n",
    "      \"outputs\": [{\n",
    "          # list of output dicts\n",
    "          \"output_type\": \"stream\",\n",
    "          ...\n",
    "      }],\n",
    "    }\n",
    "```\n",
    "\n",
    "+ En versiones anteriores existían los campos `input` y `prompt_number`, que han sido renombrados a `source` y `execution_count`.\n",
    "+ Por ejemplo, una celda de código como la siguiente:"
   ]
  },
  {
   "cell_type": "code",
   "execution_count": null,
   "metadata": {},
   "outputs": [],
   "source": [
    "print(\"Celda de código en Python\")\n",
    "\n",
    "var1 = \"Value 1\"\n",
    "var2 = \"Value 2\"\n",
    "var3 = 42\n",
    "\n",
    "def myDef(arg1, arg2):\n",
    "    return arg1 + arg2\n",
    "\n",
    "print(myDef(var1, var2))\n",
    "print(myDef(var3, var3))"
   ]
  },
  {
   "cell_type": "markdown",
   "metadata": {},
   "source": [
    "+ ...se representa internamente de la siguiente manera:"
   ]
  },
  {
   "cell_type": "markdown",
   "metadata": {},
   "source": [
    "```json\n",
    "{\n",
    "    \"cell_type\": \"code\",\n",
    "    \"execution_count\": 9,\n",
    "    \"metadata\": {},\n",
    "    \"outputs\": [\n",
    "    {\n",
    "        \"name\": \"stdout\",\n",
    "        \"output_type\": \"stream\",\n",
    "        \"text\": [\n",
    "            \"Celda de código en Python\\n\",\n",
    "            \"Value 1Value 2\\n\",\n",
    "            \"84\\n\"\n",
    "        ]\n",
    "    }],\n",
    "   \"source\": [\n",
    "       \"print(\\\"Celda de código en Python\\\")\\n\",\n",
    "       \"\\n\",\n",
    "       \"var1 = \\\"Value 1\\\"\\n\",\n",
    "       \"var2 = \\\"Value 2\\\"\\n\",\n",
    "       \"var3 = 42\\n\",\n",
    "       \"\\n\",\n",
    "       \"def myDef(arg1, arg2):\\n\",\n",
    "       \"    return arg1 + arg2\\n\",\n",
    "       \"\\n\",\n",
    "       \"print(myDef(var1, var2))\\n\",\n",
    "       \"print(myDef(var3, var3))\"\n",
    "   ]\n",
    "}\n",
    "```"
   ]
  },
  {
   "cell_type": "markdown",
   "metadata": {},
   "source": [
    "#### Salida de las celdas de código\n",
    "\n",
    "+ El campo `outputs` de las celdas de código puede ser de tipo _stream_ o de distintos tipos MIME.\n",
    "+ Todas las salidas tienen un campo `output_type` de cadena de texto indicando esto.\n",
    "\n",
    "##### Tipo de salida \"stream\":\n",
    "\n",
    "+ El tipo de salida más común para celdas de código.\n",
    "+ `\"output_type\" : \"stream\"`\n",
    "+ Un campo `name` indica si la salida se ha generado por `stdout` o `stderr`\n",
    "\n",
    "```json\n",
    "{\n",
    "    \"output_type\" : \"stream\",\n",
    "    \"name\" : \"stdout\", # or stderr\n",
    "    \"text\" : \"[multiline stream text]\",\n",
    "}\n",
    "```\n",
    "\n",
    "##### Tipo de salida \"display_data\":\n",
    "\n",
    "+ Cuando la salida es de tipo MIME.\n",
    "+ `\"output_type\" : \"display_data\"`\n",
    "+ Se utilizan nuevos campos `data` y `metadata` para proporcionar información adicional sobre la salida generada.\n",
    "\n",
    "```json\n",
    "{\n",
    "    \"output_type\" : \"display_data\",\n",
    "    \"data\" : {\n",
    "        \"text/plain\" : \"[multiline text data]\",\n",
    "        \"image/png\": \"[base64-encoded-multiline-png-data]\",\n",
    "        \"application/json\": {\n",
    "            # JSON data is included as-is\n",
    "            \"key1\": \"data\",\n",
    "            \"key2\": [\"some\", \"values\"],\n",
    "            \"key3\": {\"more\": \"data\"}\n",
    "        },\n",
    "        \"application/vnd.exampleorg.type+json\": {\n",
    "            # JSON data, included as-is, when the mime-type key ends in +json\n",
    "            \"key1\": \"data\",\n",
    "            \"key2\": [\"some\", \"values\"],\n",
    "            \"key3\": {\"more\": \"data\"}\n",
    "        }\n",
    "    },\n",
    "    \"metadata\" : {\n",
    "        \"image/png\": {\n",
    "            \"width\": 640,\n",
    "            \"height\": 480,\n",
    "        },\n",
    "    },\n",
    "}\n",
    "```\n",
    "\n",
    "##### Tipo de salida \"execute_result\":\n",
    "\n",
    "+ Para registrar resultados de la ejecución de una celda con el `displayhook` de Python.\n",
    "+ `\"output_type\" : \"execute_result\"`\n",
    "+ Campos similares al tipo de salida `display_data`, pero añadiendo el campo `execution_count` (entero).\n",
    "\n",
    "```json\n",
    "{\n",
    "    \"output_type\" : \"execute_result\",\n",
    "    \"execution_count\": 42,\n",
    "    \"data\" : {\n",
    "        \"text/plain\" : \"[multiline text data]\",\n",
    "        \"image/png\": \"[base64-encoded-multiline-png-data]\",\n",
    "        \"application/json\": {\n",
    "            # JSON data is included as-is\n",
    "            \"json\": \"data\",\n",
    "        },\n",
    "    },\n",
    "    \"metadata\" : {\n",
    "        \"image/png\": {\n",
    "            \"width\": 640,\n",
    "            \"height\": 480,\n",
    "        },\n",
    "    },\n",
    "}\n",
    "```\n",
    "\n",
    "##### Tipo de salida \"error\":\n",
    "\n",
    "+ Provocado por una ejecución fallida:\n",
    "+ `\"output_type\" : \"error\"`\n",
    "+ Proporciona información sobre el error en el campo `\"traceback\"`\n",
    "\n",
    "```json\n",
    "{\n",
    "    'output_type': 'error',\n",
    "    'ename' : str,   # Exception name, as a string\n",
    "    'evalue' : str,  # Exception value, as a string\n",
    "    # The traceback will contain a list of frames,\n",
    "    # represented each as a string.\n",
    "    'traceback' : list,\n",
    "}\n",
    "```"
   ]
  },
  {
   "cell_type": "markdown",
   "metadata": {},
   "source": [
    "### Identificadores de celdas\n",
    "\n",
    "+ Desde la versión 4.5 del esquema las celdas declaran un campo `id`.\n",
    "+ Cadena de texto de hasta 64 caracteres alfanuméricos, `-` y `_`.\n",
    "\n",
    "```json\n",
    "{\n",
    "    \"cell_type\": \"markdown\",\n",
    "    \"id\": \"d88999af\",\n",
    "    \"metadata\": {},\n",
    "    \"source\": [\n",
    "        \"![docker-logo](img/docker_logo.png)\"\n",
    "    ]\n",
    "}\n",
    "```"
   ]
  },
  {
   "cell_type": "markdown",
   "metadata": {},
   "source": [
    "### Campo \"metadata\"\n",
    "\n",
    "+ El campo \"metadata\" es el lugar en el que se puede colocar información arbitraria en formato JSON sobre el notebook, las celdas o la salida.\n",
    "\n",
    "+ Los metadatos se organizan en un espacio de nombres.\n",
    "  - Si el desarrollador introduce sus propios metadatos, puede hacerlo en un nuevo espacio de nombres.\n",
    "\n",
    "+ Los notebooks de Jupyter definen algunos campos de metadatos (nombre, tipo, valores) que veremos más adelante, pero ninguno de estos campos es requerido: **Todos** los campos de metadatos son opcionales.\n",
    "\n",
    "#### Metadatos del notebook\n",
    "\n",
    "+ A nivel de notebook algunos metadatos interesantes son los siguientes:\n",
    "\n",
    "|Clave| Valor |Interpretación|\n",
    "|---|---|---|\n",
    "|kernelspec | dict |La especificación del kernel|\n",
    "|kernelspec.display_name | str | El nombre del kernel|\n",
    "|kernelspec.language | str | El lenguaje de programación|\n",
    "|authors |list of dicts|La lista de autores del notebook|\n",
    "|language_info|dict|Detalles sobre el lenguaje del kernel|\n",
    "\n",
    "```json\n",
    "nb.metadata.authors = [\n",
    "    {\n",
    "        'name': 'Diego Sevilla',\n",
    "    },\n",
    "    {\n",
    "        'name': 'Alberto Hernández',\n",
    "    },\n",
    "]\n",
    "```\n",
    "\n",
    "#### Metadatos de las celdas\n",
    "\n",
    "+ Los metadatos introducidos por Jupyter se sitúan en el espacio de nombres `metadata.jupyter`.\n",
    "\n",
    "|Clave| Valor |Interpretación|\n",
    "|---|---|---|\n",
    "|collapsed |bool | Indica si la salida de la celda debería estar colapsada |\n",
    "|scrolled |bool or 'auto'| Indica si la salida de la celda debe tener barra desplazadora |\n",
    "|deletable |bool |Si 'False', no permite la eliminación de la celda | \n",
    "|editable |bool| Si 'False', no permite la edición de la celda (ni su eliminación) |\n",
    "|name |str|  El nombre de una celda. Debe ser único en todo el notebook |\n",
    "|tags |list of str |Una lista de etiquetas para la celda |\n",
    "|jupyter| dict | El espacio de nombres para campos manejados específicamente por Jupyter |\n",
    "| jupyter.source_hidden |bool | Indica si se debe mostrar el código fuente de la celda |\n",
    "|execution |dict | El espacio de nombres para campos referentes a la ejecución de la celda |\n",
    "\n",
    "+ **OJO**: Dependiendo de la versión de Jupyter quizá algunos metadatos se ignoren.\n",
    "+ A continuación se muestran algunos metadatos del espacio de nombres `execution`. Son de relativo bajo nivel y normalmente el usuario no deberá editarlos:\n",
    "\n",
    "|Clave| Valor |Interpretación|\n",
    "|---|---|---|\n",
    "|iopub.execute_input |ISO 8601 format |Indica el momento en el que el kernel envía un mensaje `execute_input` |\n",
    "|iopub.status.busy |ISO 8601 format | Indica el momento en el que el kernel cambia a modo 'busy'. Es decir, cuándo el kernel inició la tarea |\n",
    "|shell.execute_reply |ISO 8601 format | Indica el momento en el que se crea el mensaje 'execute_reply'. Es decir, cuándo el kernel acabó la tarea |\n",
    "|iopub.status.idle |ISO 8601 format | Indica el momento en que el estado del kernel pasó a ser 'idle'. Es decir, cuándo el kernel está listo para aceptar otra tarea |\n",
    "\n",
    "#### Metadatos de salida\n",
    "\n",
    "+ Metadatos asociados al campo `cell.outputs`:\n",
    "\n",
    "|Clave| Valor |Interpretación|\n",
    "|---|---|---|\n",
    "|isolated |bool | Indica si la salida debería embeberse en un IFrame |\n"
   ]
  },
  {
   "cell_type": "markdown",
   "metadata": {},
   "source": [
    "### Compatibilidad entre distintas versiones de notebooks\n",
    "\n",
    "+ El formato de los notebooks cambia frecuentemente.\n",
    "+ Los nuevos campos que se van añadiendo no son renderizados por los intérpretes que no reconocen dichos campos."
   ]
  },
  {
   "cell_type": "markdown",
   "metadata": {},
   "source": [
    "## Librería Python para trabajar con notebooks\n",
    "\n",
    "https://nbformat.readthedocs.io/en/latest/api.html\n",
    "\n",
    "+ Aunque los notebooks se almacenan en formato JSON, se recomienda usar librerías especializadas en lugar de crear objetos JSON a mano.\n",
    "+ La librería para crear y manejar notebooks en Python es **nbformat**."
   ]
  },
  {
   "cell_type": "markdown",
   "metadata": {},
   "source": [
    "### Hello World"
   ]
  },
  {
   "cell_type": "code",
   "execution_count": null,
   "metadata": {},
   "outputs": [],
   "source": [
    "import nbformat as nbf\n",
    "\n",
    "nb = nbf.v4.new_notebook()\n",
    "\n",
    "markdownCell = \"This is a generated markdown cell\"\n",
    "codeCell = \"1 + 2\"\n",
    "\n",
    "nb[\"cells\"] = [nbf.v4.new_markdown_cell(markdownCell), nbf.v4.new_code_cell(codeCell)]\n",
    "\n",
    "filename = \"test.ipynb\"\n",
    "\n",
    "with open(filename, \"w\") as file:\n",
    "  nbf.write(nb, file)"
   ]
  },
  {
   "cell_type": "markdown",
   "metadata": {},
   "source": [
    "+ Para construir notebooks las llamadas más importantes son:\n",
    "\n",
    "  - `nbformat.v4.new_notebook(**kwargs)`\n",
    "    * Inicializa un objeto notebook\n",
    "    * Se puede acceder a los miembros `cells`, `nbformat`, `nbformat_minor` y `metadata` como si fuera un diccionario.\n",
    "  - `nbformat.v4.new_code_cell(source='', **kwargs)`\n",
    "  - `nbformat.v4.new_markdown_cell(source='', **kwargs)`\n",
    "    * Aceptan como parámetro el contenido de la celda.\n",
    "  - `nbformat.write(nb, fp, version=nbformat.NO_CONVERT, capture_validation_error=None, **kwargs)`\n",
    "    * Un `write` adaptado a formato notebook. Rellena campos `nbformat` y `nbformat_minor` si no se suministran."
   ]
  },
  {
   "cell_type": "markdown",
   "metadata": {},
   "source": [
    "### Lectura y escritura de notebooks\n",
    "\n",
    "+ Se muestran las funciones más importantes a la hora de interactuar con notebooks.\n",
    "\n",
    "+ `nbformat.read(fp, as_version, capture_validation_error=None, **kwargs)`\n",
    "  - Lee un notebook de un fichero y lo convierte a la versión dada por `as_version`.\n",
    "  - Cualquier error de lectura o conversión se registra en el log.\n",
    "  - Parámetros más importantes:\n",
    "    * `fp` (file o str): Un **fichero** con un método `read` o una ruta a dicho fichero como cadena de texto.\n",
    "    * `as_version` (int): La versión del formato de notebook a devolver. Se convertirá el notebook leído de ser necesario.\n",
    "  - Devuelve un objeto `NotebookNode`.\n",
    "\n",
    "+ `nbformat.reads(s, as_version, capture_validation_error=None, **kwargs)`\n",
    "  - Lee un notebook a partir de un string y retorna un objeto `NotebookNode` con la versión indicada.\n",
    "\n",
    "\n",
    "+ Ejemplo:\n",
    "\n",
    "```python\n",
    "nb = nbformat.read('path/to/notebook.ipynb', as_version=4)`\n",
    "```\n",
    "\n",
    "\n",
    "+ `nbformat.write(nb, fp, version=nbformat.NO_CONVERT, capture_validation_error=None, **kwargs)`\n",
    "  - Escribe un notebook en un fichero en una versión dada.\n",
    "  - Parámetros más importantes:\n",
    "    * `nb` (NotebookNode): El notebook a escribir.\n",
    "    * `fp` (file o str): Un **fichero** con un método `write` o una ruta a dicho fichero como cadena de texto.\n",
    "    * `version` (int, optional): La versión en la que escribir el notebook. Si no se especifica o se especifica `nbformat.NO_CONVERT`, el notebook se almacena con la versión con la que se creó.\n",
    "\n",
    "+ `nbformat.writes(nb, version=nbformat.NO_CONVERT, capture_validation_error=None, **kwargs)`\n",
    "  - Serializa un notebook como cadena de texto en formato JSON."
   ]
  },
  {
   "cell_type": "markdown",
   "metadata": {},
   "source": [
    "### Objetos NotebookNode\n",
    "\n",
    "+ Los objetos `NotebookNode` son la representación interna en Python de los notebooks.\n",
    "+ Estos objetos se comportan, básicamente, como diccionarios.\n",
    "+ Permiten acceso a sus atributos `cells`, `metadata`, etc.\n",
    "\n",
    "\n",
    "+ `class nbformat.NotebookNode(*args, **kw)`\n",
    "\n",
    "\n",
    "+ `nbformat.from_dict(d)`: Permite crear un objeto NotebookNode a partir de un diccionario.\n",
    "  - No comprueba que el objeto notebook tenga campos correctos o esté bien formado."
   ]
  },
  {
   "cell_type": "code",
   "execution_count": null,
   "metadata": {
    "scrolled": true
   },
   "outputs": [],
   "source": [
    "import nbformat\n",
    "\n",
    "myDict = {\"cells\": [], \"metadata\": {}}\n",
    "myNotebookObject = nbformat.from_dict(myDict)\n",
    "\n",
    "print(myNotebookObject)"
   ]
  },
  {
   "cell_type": "markdown",
   "metadata": {},
   "source": [
    "+ `nbformat.convert(nb, to_version)`: Convierte un NotebookNote a una versión específica. Pasa el objeto de versión en versión iterativamente.\n",
    "  - Recibe el NotebookNote a transformar y un entero indicando la versión **major** a la que pasar el objeto."
   ]
  },
  {
   "cell_type": "code",
   "execution_count": null,
   "metadata": {
    "scrolled": true
   },
   "outputs": [],
   "source": [
    "nbformat.convert(myNotebookObject, 3)"
   ]
  },
  {
   "cell_type": "markdown",
   "metadata": {},
   "source": [
    "### Ejemplo de creación de treinta notebooks\n",
    "\n",
    "+ Consideramos treinta alumnos y un notebook de diez preguntas.\n",
    "+ Cada pregunta viene seguida de una celda de código para escribir la solución.\n",
    "+ Escribimos algunos metadatos:\n",
    "  - El nombre del profesor.\n",
    "  - El DNI del alumno para identificar el notebook."
   ]
  },
  {
   "cell_type": "code",
   "execution_count": null,
   "metadata": {},
   "outputs": [],
   "source": [
    "import nbformat\n",
    "import random\n",
    "import os\n",
    "\n",
    "OUTPUT_ROUTE = \"gen/\"\n",
    "N_STUDENTS = 30\n",
    "ID_STUDENTS = [random.randint(1111111, 9999999) for i in range(N_STUDENTS)]\n",
    "HEADER = \"# Serie de notebooks autogenerados\"\n",
    "STATEMENTS = [\"## Statement 1\",\n",
    "              \"## Statement 2\",\n",
    "              \"## Statement 3\",\n",
    "              \"## Statement 4\",\n",
    "              \"## Statement 5\",\n",
    "              \"## Statement 6\",\n",
    "              \"## Statement 7\",\n",
    "              \"## Statement 8\",\n",
    "              \"## Statement 9\",\n",
    "              \"## Statement 10\"]\n",
    "\n",
    "NOTEBOOKS = []\n",
    "\n",
    "for x in range(N_STUDENTS):\n",
    "    currentNb = nbformat.v4.new_notebook()\n",
    "    currentNb[\"cells\"].append(nbformat.v4.new_markdown_cell(HEADER))\n",
    "    for y in STATEMENTS:\n",
    "        currentNb[\"cells\"].append(nbformat.v4.new_markdown_cell(y))\n",
    "        currentNb[\"cells\"].append(nbformat.v4.new_code_cell())\n",
    "\n",
    "    currentNb[\"metadata\"][\"authors\"] = [{\"name\": \"Author's name\"}]\n",
    "    currentNb[\"metadata\"][\"grading\"] = {\"student_id\": ID_STUDENTS[x]}\n",
    "    # Remaining metadata\n",
    "    NOTEBOOKS.append(currentNb)\n",
    "\n",
    "print(NOTEBOOKS)\n",
    "\n",
    "if not os.path.exists(OUTPUT_ROUTE):\n",
    "    os.mkdir(\"gen/\")\n",
    "\n",
    "for x in NOTEBOOKS:\n",
    "    nbFile = \"gen/student_\" + str(x[\"metadata\"][\"grading\"][\"student_id\"]) + \".ipynb\"\n",
    "    with open(nbFile, \"w\") as file:\n",
    "        #print(nbFile)\n",
    "        nbformat.write(x, nbFile)"
   ]
  },
  {
   "cell_type": "markdown",
   "metadata": {},
   "source": [
    "![notebook_generated](img/notebook_generated.png)"
   ]
  }
 ],
 "metadata": {
  "kernelspec": {
   "display_name": "Python 3",
   "language": "python",
   "name": "python3"
  },
  "language_info": {
   "codemirror_mode": {
    "name": "ipython",
    "version": 3
   },
   "file_extension": ".py",
   "mimetype": "text/x-python",
   "name": "python",
   "nbconvert_exporter": "python",
   "pygments_lexer": "ipython3",
   "version": "3.7.2"
  }
 },
 "nbformat": 4,
 "nbformat_minor": 5
}
