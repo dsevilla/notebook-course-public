{
 "cells": [
  {
   "cell_type": "markdown",
   "metadata": {
    "id": "_7gRpQLXQSID"
   },
   "source": [
    "# Colab: Forms\n",
    "\n",
    "Los Forms ofrecen una manera sencilla de parametrizar código. En una celda de código, se selecciona **Insert → Add form field**. Cuando se cambia un valor en el formulario, cambiará en el código. Esto puede hacer que los alumnos se sientan más identificados con el notebook."
   ]
  },
  {
   "cell_type": "code",
   "execution_count": null,
   "metadata": {
    "id": "3jKM6GfzlgpS"
   },
   "outputs": [],
   "source": [
    "#@title Campos String\n",
    "\n",
    "text = 'value' #@param {type:\"string\"}\n",
    "dropdown = '1st option' #@param [\"1st option\", \"2nd option\", \"3rd option\"]\n",
    "text_and_dropdown = 'value' #@param [\"1st option\", \"2nd option\", \"3rd option\"] {allow-input: true}\n",
    "\n",
    "print(text)\n",
    "print(dropdown)\n",
    "print(text_and_dropdown)"
   ]
  },
  {
   "cell_type": "code",
   "execution_count": null,
   "metadata": {
    "id": "bf5LUmgZt-kT"
   },
   "outputs": [],
   "source": [
    "#@title Campos Raw\n",
    "\n",
    "raw_input = None #@param {type:\"raw\"}\n",
    "raw_dropdown = raw_input #@param [1, \"raw_input\", \"False\", \"'string'\"] {type:\"raw\"}\n",
    "\n",
    "print(raw_input)\n",
    "print(raw_dropdown)"
   ]
  },
  {
   "cell_type": "code",
   "execution_count": null,
   "metadata": {
    "id": "aw5lgeRbubeF"
   },
   "outputs": [],
   "source": [
    "#@title Campos Fecha\n",
    "date_input = '2013-03-22' #@param {type:\"date\"}\n",
    "\n",
    "print(date_input)"
   ]
  },
  {
   "cell_type": "code",
   "execution_count": null,
   "metadata": {
    "id": "eFN7-fUKs-Bu"
   },
   "outputs": [],
   "source": [
    "#@title Campos numéricos\n",
    "number_input = 10.0 #@param {type:\"number\"}\n",
    "number_slider = 0 #@param {type:\"slider\", min:-1, max:1, step:0.1}\n",
    "\n",
    "integer_input = 10 #@param {type:\"integer\"}\n",
    "integer_slider = 1 #@param {type:\"slider\", min:0, max:100, step:1}\n",
    "\n",
    "print(number_input)\n",
    "print(number_slider)\n",
    "\n",
    "print(integer_input)\n",
    "print(integer_slider)"
   ]
  },
  {
   "cell_type": "code",
   "execution_count": null,
   "metadata": {
    "id": "ig8PIYeLtM8g"
   },
   "outputs": [],
   "source": [
    "#@title Campos Booleanos\n",
    "boolean_checkbox = True #@param {type:\"boolean\"}\n",
    "boolean_dropdown = True #@param [\"False\", \"True\"] {type:\"raw\"}\n",
    "\n",
    "print(boolean_checkbox)\n",
    "print(boolean_dropdown)"
   ]
  },
  {
   "cell_type": "code",
   "execution_count": null,
   "metadata": {
    "id": "ZCEBZPwUDGOg"
   },
   "outputs": [],
   "source": [
    "#@title ## Markdown\n",
    "#@markdown Se puede incluir Markdown en Forms\n",
    "\n",
    "#@markdown ---\n",
    "#@markdown ### Entre un path de un fichero:\n",
    "file_path = \"\" #@param {type:\"string\"}\n",
    "#@markdown ---\n",
    "\n"
   ]
  },
  {
   "cell_type": "markdown",
   "metadata": {
    "id": "62YnDE7i9dqP"
   },
   "source": [
    "# Usando los Widgets de Jupyter Widgets para interactividad\n",
    "\n",
    "Colab soporta el conjunto de los Widgets de Jupyter para ofrecer interacciones entre Python y el browser.\n",
    "\n",
    "Aquí [la documentación oficial](https://ipywidgets.readthedocs.io/en/latest/examples/Widget%20Basics.html)."
   ]
  },
  {
   "cell_type": "code",
   "execution_count": null,
   "metadata": {
    "id": "WPib9hvO8Pmb"
   },
   "outputs": [],
   "source": [
    "import ipywidgets as widgets\n",
    "from IPython.display import display\n",
    "button = widgets.Button(description=\"Click Me!\")\n",
    "output = widgets.Output()\n",
    "\n",
    "def on_button_clicked(b):\n",
    "  # Display the message within the output widget.\n",
    "  with output:\n",
    "    print(\"Button clicked.\")\n",
    "\n",
    "button.on_click(on_button_clicked)\n",
    "display(button, output)"
   ]
  },
  {
   "cell_type": "markdown",
   "metadata": {
    "id": "F9zl8NDWCKbS"
   },
   "source": [
    "### Usando los sliders de los Widgets de Jupyter"
   ]
  },
  {
   "cell_type": "code",
   "execution_count": null,
   "metadata": {
    "id": "8JNPFRy9BBhS"
   },
   "outputs": [],
   "source": [
    "import ipywidgets as widgets\n",
    "slider = widgets.IntSlider(value=5, max=10)\n",
    "display(slider)"
   ]
  },
  {
   "cell_type": "code",
   "execution_count": null,
   "metadata": {
    "id": "KxoHySheBE0G"
   },
   "outputs": [],
   "source": [
    "# El valor del slider\n",
    "slider.value"
   ]
  }
 ],
 "metadata": {
  "colab": {
   "provenance": []
  },
  "kernelspec": {
   "display_name": "Python 3",
   "language": "python",
   "name": "python3"
  },
  "language_info": {
   "codemirror_mode": {
    "name": "ipython",
    "version": 3
   },
   "file_extension": ".py",
   "mimetype": "text/x-python",
   "name": "python",
   "nbconvert_exporter": "python",
   "pygments_lexer": "ipython3",
   "version": "3.7.2"
  }
 },
 "nbformat": 4,
 "nbformat_minor": 5
}
