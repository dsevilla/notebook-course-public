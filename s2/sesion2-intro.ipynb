{
 "cells": [
  {
   "cell_type": "markdown",
   "metadata": {},
   "source": [
    "![presentacion_0](https://raw.githubusercontent.com/dsevilla/notebook-course-public/main/s1/img/presentacion_0.png)"
   ]
  },
  {
   "cell_type": "markdown",
   "metadata": {},
   "source": [
    "# Vicerrectorado de Formación Continua"
   ]
  },
  {
   "cell_type": "markdown",
   "metadata": {},
   "source": [
    "## Plan de Formación Corporativa 2022"
   ]
  },
  {
   "cell_type": "markdown",
   "metadata": {},
   "source": [
    "# APLICACIÓN A LA DOCENCIA DE LOS NOTEBOOKS INTERACTIVOS"
   ]
  },
  {
   "cell_type": "markdown",
   "metadata": {},
   "source": [
    "## Segunda sesión: **Martes 8 de noviembre de 16:00 a 19:00 horas**"
   ]
  },
  {
   "cell_type": "markdown",
   "metadata": {},
   "source": [
    "## Contenidos\n",
    "\n",
    "1. Ejecución de notebooks desde Google Colab\n",
    "  + https://colab.research.google.com/github/dsevilla/notebook-course-public/blob/main/s2/colab.ipynb\n",
    "  \n",
    "  \n",
    "2. Tensorflow + Colab con GPU y TPU\n",
    "  + https://colab.research.google.com/github/dsevilla/notebook-course-public/blob/main/s2/GPU_TPU.ipynb\n",
    "  \n",
    "  \n",
    "3. Creación de notebooks personalizados\n",
    "  + https://colab.research.google.com/github/dsevilla/notebook-course-public/blob/main/s2/notebook_gen.ipynb\n",
    "  \n",
    "  \n",
    "4. Extensiones y depuración en Jupyter Lab\n",
    "  + https://colab.research.google.com/github/dsevilla/notebook-course-public/blob/main/s2/jupyter_extensions_debugger.ipynb\n",
    "\n",
    "\n",
    "5. Widgets en notebooks\n",
    "  + https://colab.research.google.com/github/dsevilla/notebook-course-public/blob/main/s1/ipywidgets.ipynb\n",
    "  \n",
    "  \n",
    "6. Preparación de examenes\n",
    "  + https://colab.research.google.com/github/dsevilla/notebook-course-public/blob/main/s2/examenes.ipynb\n",
    "\n",
    "\n",
    "7. Salida enriquecida de celdas\n",
    "  + https://colab.research.google.com/github/dsevilla/notebook-course-public/blob/main/s2/salida-celdas.ipynb"
   ]
  }
 ],
 "metadata": {
  "kernelspec": {
   "display_name": "Python 3",
   "language": "python",
   "name": "python3"
  },
  "language_info": {
   "codemirror_mode": {
    "name": "ipython",
    "version": 3
   },
   "file_extension": ".py",
   "mimetype": "text/x-python",
   "name": "python",
   "nbconvert_exporter": "python",
   "pygments_lexer": "ipython3",
   "version": "3.7.2"
  },
  "toc": {
   "base_numbering": 1,
   "nav_menu": {},
   "number_sections": true,
   "sideBar": true,
   "skip_h1_title": false,
   "title_cell": "Table of Contents",
   "title_sidebar": "Contents",
   "toc_cell": false,
   "toc_position": {},
   "toc_section_display": true,
   "toc_window_display": false
  }
 },
 "nbformat": 4,
 "nbformat_minor": 4
}
