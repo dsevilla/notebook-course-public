{
 "cells": [
  {
   "cell_type": "markdown",
   "metadata": {
    "id": "BcYPUhd0oksP"
   },
   "source": [
    "# Salida de las celdas"
   ]
  },
  {
   "cell_type": "markdown",
   "metadata": {
    "id": "XF7eXaJIoksV"
   },
   "source": [
    "En Python, los objetos pueden declarar su representación textual usando el método `__repr__`. IPython expande esta idea y permite a los objetos representarse en otros formatos más ricos, incluyendo:\n",
    "\n",
    "* HTML\n",
    "* JSON\n",
    "* PNG\n",
    "* JPEG\n",
    "* SVG\n",
    "* LaTeX\n",
    "\n",
    "Un objeto puede declarar algunas o todas de esas representaciones. Todas se manejan por el systema de display de IPython. Aquí se muestra cómo hacer uso de varias formas de mostrar elementos."
   ]
  },
  {
   "cell_type": "markdown",
   "metadata": {
    "id": "m7MyGj_Ooksa"
   },
   "source": [
    "## Imports básicos de display"
   ]
  },
  {
   "cell_type": "markdown",
   "metadata": {
    "id": "tdaAraZaoksc"
   },
   "source": [
    "La función `display` es una herramienta multiusos para mostrar las diferentes representaciones de los objetos. Es como una función `print` con esas represntaciones ricas."
   ]
  },
  {
   "cell_type": "code",
   "execution_count": null,
   "metadata": {
    "id": "d-DiN6fdokse",
    "jupyter": {
     "outputs_hidden": false
    }
   },
   "outputs": [],
   "source": [
    "from IPython.display import display"
   ]
  },
  {
   "cell_type": "markdown",
   "metadata": {
    "id": "hWc-_LKhoksf"
   },
   "source": [
    "Consideraciones:\n",
    "\n",
    "* Llamar a `display` en un objeto enviará **todas** las posibles representaciones al Notebook.\n",
    "* Esas representaciones se guardan en el documento del Notebook.\n",
    "* En general el Notebook usará la representación más rica.\n",
    "\n",
    "Si se quiere mostrar una representación en concreto, hay funciones específicas para eso:"
   ]
  },
  {
   "cell_type": "code",
   "execution_count": null,
   "metadata": {
    "id": "C42XcqOAoksg",
    "jupyter": {
     "outputs_hidden": false
    }
   },
   "outputs": [],
   "source": [
    "from IPython.display import (\n",
    "    display_pretty, display_html, display_jpeg,\n",
    "    display_png, display_json, display_latex, display_svg\n",
    ")"
   ]
  },
  {
   "cell_type": "markdown",
   "metadata": {
    "id": "Jq3D0ZIeoksh"
   },
   "source": [
    "## Imágenes"
   ]
  },
  {
   "cell_type": "markdown",
   "metadata": {
    "id": "yDqOWm3boksi"
   },
   "source": [
    "Para trabajar con imágenes (jpeg, png) se usa la clase `Image`."
   ]
  },
  {
   "cell_type": "code",
   "execution_count": null,
   "metadata": {
    "id": "X1toNzIkoksk",
    "jupyter": {
     "outputs_hidden": false
    }
   },
   "outputs": [],
   "source": [
    "from IPython.display import Image"
   ]
  },
  {
   "cell_type": "code",
   "execution_count": null,
   "metadata": {
    "id": "1A6XR9nBoksl",
    "jupyter": {
     "outputs_hidden": false
    }
   },
   "outputs": [],
   "source": [
    "i = Image(filename='img/ipython_logo.png')"
   ]
  },
  {
   "cell_type": "markdown",
   "metadata": {
    "id": "DW0Rq46xoksl"
   },
   "source": [
    "Retornar un objeto imagen lo muestra automáticamente:"
   ]
  },
  {
   "cell_type": "code",
   "execution_count": null,
   "metadata": {
    "id": "mreunQP2oksm",
    "jupyter": {
     "outputs_hidden": false
    }
   },
   "outputs": [],
   "source": [
    "i"
   ]
  },
  {
   "cell_type": "markdown",
   "metadata": {
    "id": "D1tYQDc6oksm"
   },
   "source": [
    "O puedes pasar su representación a `display`:"
   ]
  },
  {
   "cell_type": "code",
   "execution_count": null,
   "metadata": {
    "id": "MtgWHFsloksn",
    "jupyter": {
     "outputs_hidden": false
    }
   },
   "outputs": [],
   "source": [
    "display(i)"
   ]
  },
  {
   "cell_type": "markdown",
   "metadata": {
    "id": "YWT6j1gxoksn"
   },
   "source": [
    "Una imagen se puede mostrar a partir de una URL o datos."
   ]
  },
  {
   "cell_type": "code",
   "execution_count": null,
   "metadata": {
    "id": "2WC0_8Acokso",
    "jupyter": {
     "outputs_hidden": false
    }
   },
   "outputs": [],
   "source": [
    "Image(url='http://python.org/images/python-logo.gif')"
   ]
  },
  {
   "cell_type": "markdown",
   "metadata": {
    "id": "vvV3AC2tokso"
   },
   "source": [
    "También se soporta SVG."
   ]
  },
  {
   "cell_type": "code",
   "execution_count": null,
   "metadata": {
    "id": "0k-0WSiioksp",
    "jupyter": {
     "outputs_hidden": false
    }
   },
   "outputs": [],
   "source": [
    "from IPython.display import SVG\n",
    "SVG(filename='img/python_logo.svg')"
   ]
  },
  {
   "cell_type": "markdown",
   "metadata": {
    "id": "xYwJw2rUoksp"
   },
   "source": [
    "### Imágenes embebidas vs. no embebidas"
   ]
  },
  {
   "cell_type": "markdown",
   "metadata": {
    "id": "9aR9i_fjoksp"
   },
   "source": [
    "Por defecto los datos de las imágenes se embeben en el Notebook para que se puedan ver offline. Sin embargo también es posible decir que una imagen se linka, y se mostrará cada vez que se ejecuta la acción. En una webcam:"
   ]
  },
  {
   "cell_type": "code",
   "execution_count": null,
   "metadata": {
    "id": "62TVJ2Rxoksq",
    "jupyter": {
     "outputs_hidden": false
    }
   },
   "outputs": [],
   "source": [
    "from IPython.display import Image\n",
    "img_url = 'http://www.lawrencehallofscience.org/static/scienceview/scienceview.berkeley.edu/html/view/view_assets/images/newview.jpg'\n",
    "\n",
    "# by default Image data are embedded\n",
    "Embed      = Image(img_url)\n",
    "\n",
    "# if kwarg `url` is given, the embedding is assumed to be false\n",
    "SoftLinked = Image(url=img_url)\n",
    "\n",
    "# In each case, embed can be specified explicitly with the `embed` kwarg\n",
    "# ForceEmbed = Image(url=img_url, embed=True)"
   ]
  },
  {
   "cell_type": "markdown",
   "metadata": {
    "id": "NZCFRr9Boksq"
   },
   "source": [
    "Aquí está la versión embebida. Esa imagen corresponde a cuando la imagen del notebook se generó."
   ]
  },
  {
   "cell_type": "code",
   "execution_count": null,
   "metadata": {
    "id": "OHxQju6koksr",
    "jupyter": {
     "outputs_hidden": false
    }
   },
   "outputs": [],
   "source": [
    "Embed"
   ]
  },
  {
   "cell_type": "markdown",
   "metadata": {
    "id": "amBo02N_oksr"
   },
   "source": [
    "Y aquí la misma imagen de la misma webcam, refrescada cada pocos minutos. Debe ser diferente a la anterior. Los notebooks que se guardan con este tipo de imágenes son más pequeños, pero no se pueden ver las imágenes offline."
   ]
  },
  {
   "cell_type": "code",
   "execution_count": null,
   "metadata": {
    "id": "R2yedDhRokss",
    "jupyter": {
     "outputs_hidden": false
    }
   },
   "outputs": [],
   "source": [
    "SoftLinked"
   ]
  },
  {
   "cell_type": "markdown",
   "metadata": {
    "id": "JkC0Wibfokss"
   },
   "source": [
    "## HTML"
   ]
  },
  {
   "cell_type": "markdown",
   "metadata": {
    "id": "xggromUxokst"
   },
   "source": [
    "Los objetos Python pueden declarar representaciones HTML que serán mostradas en los Notebooks. Se puede usar para ello la clase `HTML`."
   ]
  },
  {
   "cell_type": "code",
   "execution_count": null,
   "metadata": {
    "id": "vtL3k_PBokst",
    "jupyter": {
     "outputs_hidden": false
    }
   },
   "outputs": [],
   "source": [
    "from IPython.display import HTML"
   ]
  },
  {
   "cell_type": "code",
   "execution_count": null,
   "metadata": {
    "id": "KUAnsezFokst",
    "jupyter": {
     "outputs_hidden": false
    }
   },
   "outputs": [],
   "source": [
    "s = \"\"\"<table>\n",
    "<tr>\n",
    "<th>Header 1</th>\n",
    "<th>Header 2</th>\n",
    "</tr>\n",
    "<tr>\n",
    "<td>row 1, cell 1</td>\n",
    "<td>row 1, cell 2</td>\n",
    "</tr>\n",
    "<tr>\n",
    "<td>row 2, cell 1</td>\n",
    "<td>row 2, cell 2</td>\n",
    "</tr>\n",
    "</table>\"\"\""
   ]
  },
  {
   "cell_type": "code",
   "execution_count": null,
   "metadata": {
    "id": "lcISA5i9okst",
    "jupyter": {
     "outputs_hidden": false
    }
   },
   "outputs": [],
   "source": [
    "h = HTML(s)"
   ]
  },
  {
   "cell_type": "code",
   "execution_count": null,
   "metadata": {
    "id": "qmo38b26oksu",
    "jupyter": {
     "outputs_hidden": false
    }
   },
   "outputs": [],
   "source": [
    "display(h)"
   ]
  },
  {
   "cell_type": "markdown",
   "metadata": {
    "id": "EwD_VOsYoksu"
   },
   "source": [
    "También se puede usar el magic `%%html` para lo mismo."
   ]
  },
  {
   "cell_type": "code",
   "execution_count": null,
   "metadata": {
    "id": "xIvNIYM9oksu",
    "jupyter": {
     "outputs_hidden": false
    }
   },
   "outputs": [],
   "source": [
    "%%html\n",
    "<table>\n",
    "<tr>\n",
    "<th>Header 1</th>\n",
    "<th>Header 2</th>\n",
    "</tr>\n",
    "<tr>\n",
    "<td>row 1, cell 1</td>\n",
    "<td>row 1, cell 2</td>\n",
    "</tr>\n",
    "<tr>\n",
    "<td>row 2, cell 1</td>\n",
    "<td>row 2, cell 2</td>\n",
    "</tr>\n",
    "</table>"
   ]
  },
  {
   "cell_type": "markdown",
   "metadata": {
    "id": "QHgSj5jgoksv"
   },
   "source": [
    "## JavaScript"
   ]
  },
  {
   "cell_type": "markdown",
   "metadata": {
    "id": "ARx0_v6qoksv"
   },
   "source": [
    "El Notebook también permite declarar representaciones Javascript. Al principio puede resultar raro, pero permite sacar partido a librerías como  [d3.js](http://d3js.org) para la salida."
   ]
  },
  {
   "cell_type": "code",
   "execution_count": null,
   "metadata": {
    "id": "6eIdqMlcoksv",
    "jupyter": {
     "outputs_hidden": false
    }
   },
   "outputs": [],
   "source": [
    "from IPython.display import Javascript"
   ]
  },
  {
   "cell_type": "markdown",
   "metadata": {
    "id": "azqyFmI5oksw"
   },
   "source": [
    "Pasa una cadena de código Javascript al objeto `Javascript` y la muestra."
   ]
  },
  {
   "cell_type": "code",
   "execution_count": null,
   "metadata": {
    "id": "ibA8kE8Noksw",
    "jupyter": {
     "outputs_hidden": false
    }
   },
   "outputs": [],
   "source": [
    "js = Javascript('alert(\"hi\")');"
   ]
  },
  {
   "cell_type": "code",
   "execution_count": null,
   "metadata": {
    "id": "qLNGftezoksw",
    "jupyter": {
     "outputs_hidden": false
    }
   },
   "outputs": [],
   "source": [
    "display(js)"
   ]
  },
  {
   "cell_type": "markdown",
   "metadata": {
    "id": "Y9pZr1RVoksx"
   },
   "source": [
    "Lo mismo se puede conseguir con el magic `%%javascript`:"
   ]
  },
  {
   "cell_type": "code",
   "execution_count": null,
   "metadata": {
    "id": "Si6g1WwCoksx",
    "jupyter": {
     "outputs_hidden": false
    }
   },
   "outputs": [],
   "source": [
    "%%javascript\n",
    "\n",
    "alert(\"hi\");"
   ]
  },
  {
   "cell_type": "markdown",
   "metadata": {
    "id": "qIjfMo3Joksx"
   },
   "source": [
    "## LaTeX"
   ]
  },
  {
   "cell_type": "markdown",
   "metadata": {
    "id": "nl5oqvlnoksx"
   },
   "source": [
    "El sistema IPython también tiene soporte para mostrar expresiones matemáticas con LaTeX, que se muestra en el browser usando [MathJax](http://mathjax.org)."
   ]
  },
  {
   "cell_type": "markdown",
   "metadata": {
    "id": "yUnnQj04oksx"
   },
   "source": [
    "Se le puede pasar una cadena LaTeX a un objeto `Math`:"
   ]
  },
  {
   "cell_type": "code",
   "execution_count": null,
   "metadata": {
    "id": "oXCD9hz2oksx",
    "jupyter": {
     "outputs_hidden": false
    }
   },
   "outputs": [],
   "source": [
    "from IPython.display import Math\n",
    "Math(r'F(k) = \\int_{-\\infty}^{\\infty} f(x) e^{2\\pi i k} dx')"
   ]
  },
  {
   "cell_type": "markdown",
   "metadata": {
    "id": "voJc9zuioksx"
   },
   "source": [
    "Con la clase `Latex`, tienes que incluir los delimitadores tú mismo. Esto permite usar otras construcciones como `eqnarray`:"
   ]
  },
  {
   "cell_type": "code",
   "execution_count": null,
   "metadata": {
    "id": "tL44Y7Bzoksy",
    "jupyter": {
     "outputs_hidden": false
    }
   },
   "outputs": [],
   "source": [
    "from IPython.display import Latex\n",
    "Latex(r\"\"\"\\begin{eqnarray}\n",
    "\\nabla \\times \\vec{\\mathbf{B}} -\\, \\frac1c\\, \\frac{\\partial\\vec{\\mathbf{E}}}{\\partial t} & = \\frac{4\\pi}{c}\\vec{\\mathbf{j}} \\\\\n",
    "\\nabla \\cdot \\vec{\\mathbf{E}} & = 4 \\pi \\rho \\\\\n",
    "\\nabla \\times \\vec{\\mathbf{E}}\\, +\\, \\frac1c\\, \\frac{\\partial\\vec{\\mathbf{B}}}{\\partial t} & = \\vec{\\mathbf{0}} \\\\\n",
    "\\nabla \\cdot \\vec{\\mathbf{B}} & = 0 \n",
    "\\end{eqnarray}\"\"\")"
   ]
  },
  {
   "cell_type": "markdown",
   "metadata": {
    "id": "wxGw-y_Koksy"
   },
   "source": [
    "O se puede usar también el magic `%%latex`:"
   ]
  },
  {
   "cell_type": "code",
   "execution_count": null,
   "metadata": {
    "id": "o71ovfiQoksy",
    "jupyter": {
     "outputs_hidden": false
    }
   },
   "outputs": [],
   "source": [
    "%%latex\n",
    "\\begin{align}\n",
    "\\nabla \\times \\vec{\\mathbf{B}} -\\, \\frac1c\\, \\frac{\\partial\\vec{\\mathbf{E}}}{\\partial t} & = \\frac{4\\pi}{c}\\vec{\\mathbf{j}} \\\\\n",
    "\\nabla \\cdot \\vec{\\mathbf{E}} & = 4 \\pi \\rho \\\\\n",
    "\\nabla \\times \\vec{\\mathbf{E}}\\, +\\, \\frac1c\\, \\frac{\\partial\\vec{\\mathbf{B}}}{\\partial t} & = \\vec{\\mathbf{0}} \\\\\n",
    "\\nabla \\cdot \\vec{\\mathbf{B}} & = 0\n",
    "\\end{align}"
   ]
  },
  {
   "cell_type": "markdown",
   "metadata": {
    "id": "VLUpSYHfoksz"
   },
   "source": [
    "## Audio"
   ]
  },
  {
   "cell_type": "markdown",
   "metadata": {
    "id": "rLArZmjSoksz"
   },
   "source": [
    "IPython permite trabajar con sonido. La clase de display `Audio` permite reprorucir sonido con un control embebido en el Notebook. El interfaz es análogo al de la clase `Image`. Se soportan los formatos que soporte el browser."
   ]
  },
  {
   "cell_type": "code",
   "execution_count": null,
   "metadata": {
    "id": "Ejkt_Tkjoksz",
    "jupyter": {
     "outputs_hidden": false
    }
   },
   "outputs": [],
   "source": [
    "from IPython.display import Audio\n",
    "Audio(url=\"http://www.nch.com.au/acm/8k16bitpcm.wav\")"
   ]
  },
  {
   "cell_type": "markdown",
   "metadata": {
    "id": "xbOh0TNxoksz"
   },
   "source": [
    "Un array de numpy se puede hacer audible automáticamente. La clase `Audio` normaliza y codifica los datos y embebe el audio resultante en el Notebook.\n",
    "\n",
    "Por ejemplo, cuando dos señales sinosuidales tienen casi la misma frecuencia y se superimponen se produce el fenómeno [beats](https://en.wikipedia.org/wiki/Beat_%28acoustics%29). Se puede mostrar como sigue:"
   ]
  },
  {
   "cell_type": "code",
   "execution_count": null,
   "metadata": {
    "id": "hykS5j1poks0",
    "jupyter": {
     "outputs_hidden": false
    }
   },
   "outputs": [],
   "source": [
    "import numpy as np\n",
    "max_time = 3\n",
    "f1 = 220.0\n",
    "f2 = 224.0\n",
    "rate = 8000\n",
    "L = 3\n",
    "times = np.linspace(0,L,rate*L)\n",
    "signal = np.sin(2*np.pi*f1*times) + np.sin(2*np.pi*f2*times)\n",
    "\n",
    "Audio(data=signal, rate=rate)"
   ]
  },
  {
   "cell_type": "markdown",
   "metadata": {
    "id": "-6ZmlWJJoks1"
   },
   "source": [
    "## Video"
   ]
  },
  {
   "cell_type": "markdown",
   "metadata": {
    "id": "sox4h4d6oks1"
   },
   "source": [
    "Se pueden mostrar objetos más exóticos, mientras que soporten el display de IPython. Por ejemplo, vídeos en youtube:"
   ]
  },
  {
   "cell_type": "code",
   "execution_count": null,
   "metadata": {
    "id": "spEKd6VAoks1",
    "jupyter": {
     "outputs_hidden": false
    }
   },
   "outputs": [],
   "source": [
    "from IPython.display import YouTubeVideo\n",
    "YouTubeVideo('sjfsUzECqK0')"
   ]
  },
  {
   "cell_type": "markdown",
   "metadata": {
    "id": "TMMrzGlvoks1"
   },
   "source": [
    "Incluso se pueden mostrar vídeos de ficheros locales en la mayoría de los browsers, aunque su soporte es un poco precario en algunos de ellos:"
   ]
  },
  {
   "cell_type": "code",
   "execution_count": null,
   "metadata": {
    "id": "nb9Yxn_Ioks1",
    "jupyter": {
     "outputs_hidden": false
    }
   },
   "outputs": [],
   "source": [
    "from IPython.display import HTML\n",
    "from base64 import b64encode\n",
    "video = open(\"img/animation.m4v\", \"rb\").read()\n",
    "video_encoded = b64encode(video).decode('ascii')\n",
    "video_tag = '<video controls alt=\"test\" src=\"data:video/x-m4v;base64,{0}\">'.format(video_encoded)\n",
    "HTML(data=video_tag)"
   ]
  },
  {
   "cell_type": "markdown",
   "metadata": {
    "id": "V3_NnkEroks2"
   },
   "source": [
    "## Sitios externos"
   ]
  },
  {
   "cell_type": "markdown",
   "metadata": {
    "id": "yPJ4nVnyoks2"
   },
   "source": [
    "Se puede incluso embeber una web. No funciona bien en algunos browsers, aunque sí en Chrome."
   ]
  },
  {
   "cell_type": "code",
   "execution_count": null,
   "metadata": {
    "id": "txT-Ri5Hoks2",
    "jupyter": {
     "outputs_hidden": false
    }
   },
   "outputs": [],
   "source": [
    "from IPython.display import IFrame\n",
    "IFrame('http://jupyter.org', width='100%', height=350)"
   ]
  }
 ],
 "metadata": {
  "colab": {
   "provenance": []
  },
  "kernelspec": {
   "display_name": "Python 3",
   "language": "python",
   "name": "python3"
  },
  "language_info": {
   "codemirror_mode": {
    "name": "ipython",
    "version": 3
   },
   "file_extension": ".py",
   "mimetype": "text/x-python",
   "name": "python",
   "nbconvert_exporter": "python",
   "pygments_lexer": "ipython3",
   "version": "3.7.2"
  }
 },
 "nbformat": 4,
 "nbformat_minor": 1
}
