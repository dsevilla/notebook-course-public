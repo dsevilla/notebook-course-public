{
 "cells": [
  {
   "cell_type": "markdown",
   "id": "d0d7a1d2-85e3-47ff-b259-f34b37968ba9",
   "metadata": {},
   "source": [
    "# Trabajos Bases de Datos a Gran Escala, 2021-2022"
   ]
  },
  {
   "cell_type": "markdown",
   "id": "4c722b39-2e1b-458b-95c9-09af716063e1",
   "metadata": {},
   "source": [
    "En las siguientes transparencias se incluyen los trabajos propuestos para la asignatura. Cada trabajo incluye el estudio de una base de datos no vista en clase y la importación de los datos de Stackoverflow.\n",
    "\n",
    "**El trabajo será INDIVIDUAL**\n",
    "\n",
    "Más de un alumno podrá elegir el mismo trabajo, pero como máximo un trabajo podrá ser elegido por dos alumnos. Se entregará una memoria (y código, si se ha generado) en\n",
    "una tarea abierta a tal fin.\n",
    "\n",
    "La **fecha de entrega será el día del examen de la asignatura**."
   ]
  },
  {
   "cell_type": "markdown",
   "id": "c2c6864a-9453-43d1-a501-481cda260312",
   "metadata": {},
   "source": [
    "Para apuntarse a un trabajo el alumno tendrá que:\n",
    "\n",
    "1. Conectarse al servidor. \n",
    "   Usuario: alumno2122, \n",
    "   pass: (se enviará aparte en un mensaje en el aula virtual)\n",
    "  \n",
    "   ```bash\n",
    "   $ mysql -hneuromancer.inf.um.es -P3307 -ualumno2122 -p<password> --default-char-set=utf8 --protocol=tcp trabajos2122\n",
    "  ```\n",
    "  Esto también se puede hacer en el notebook de SQL cambiando la cadena de conexión de la celda del Notebook de la sesión 2 a: \n",
    "```sql\n",
    "%%sql \n",
    "mysql+pymysql://alumno2122:<password>@neuromancer.inf.um.es:3307/?charset=utf8mb4\n",
    "```\n",
    "\n",
    "2. Añadir una entrada a la tabla `asignacion_trabajos` con su dni, nombre y id del trabajo elegido.\n",
    "\n",
    "3. Se pueden listar qué trabajos hay y cuáles quedan libres:\n",
    "\n",
    "```\n",
    "mysql> use trabajos2122;\n",
    "Database changed\n",
    "mysql> select id,titulo from trabajos;\n",
    "+-----+-----------------------+\n",
    "| id  | titulo                |\n",
    "+-----+-----------------------+\n",
    "| Txx | Título                |\n",
    "| ... | .................     |\n",
    "+-----+-----------------------+\n",
    "mysql> select * from asignados;\n",
    "+-----+-----------------------+------------+\n",
    "| id  | titulo                | nasignados |\n",
    "+-----+-----------------------+------------+\n",
    "| Txx | Título                |          0 |\n",
    "| ... | ................      |          0 |\n",
    "+-----+-----------------------+------------+\n",
    "```\n",
    "\n",
    "- Las tablas disponibles:\n",
    "\n",
    "```\n",
    "mysql> show tables;\n",
    "+---------------------+\n",
    "| Tables_in_trabajos  |\n",
    "+---------------------+\n",
    "| asignacion_trabajos |\n",
    "| asignados           |\n",
    "| trabajos            |\n",
    "+---------------------+\n",
    "```\n"
   ]
  },
  {
   "cell_type": "markdown",
   "id": "f7f34a34-dc74-420c-8728-737463cc3dad",
   "metadata": {},
   "source": [
    "## T01 -- Open TSDB\n",
    "\n",
    "- Pasos de instalación de la base de datos\n",
    "- Descripción de la base de datos, modo de funcionamiento,\n",
    "  posibilidades de modelado de datos y características (si permite\n",
    "  transacciones, framework de procesamiento map/reduce, replicación\n",
    "  multiservidor, etc.)\n",
    "- Mostrar cómo importar los datos de Stackoverflow\n",
    "- Mostrar cómo redistribuir los datos de Stackoverflow de forma\n",
    "  óptima (uso de series de datos, como si, por ejemplo, comentarios,\n",
    "  posts, etc. se ejecutaran en un stream)\n",
    "- Mostrar cómo se realizarían las consultas RQ1 a RQ4 de los\n",
    "  artículos vistos en la sesión 2\n",
    "- Realizar pruebas de eficiencia comparada con alguna de las bases de\n",
    "  datos vistas en la asignatura\n",
    "- http://opentsdb.net/"
   ]
  },
  {
   "cell_type": "markdown",
   "id": "47e8d239-e569-45b6-aafd-721eab4bdea0",
   "metadata": {},
   "source": [
    "## T02 -- Apache Cassandra\n",
    "\n",
    "- Pasos de instalación de la base de datos\n",
    "- Descripción de la base de datos, modo de funcionamiento,\n",
    "  posibilidades de modelado de datos y características (si permite\n",
    "  transacciones, framework de procesamiento map/reduce, replicación\n",
    "  multiservidor, lenguaje de consultas CQL, etc.)\n",
    "- Mostrar cómo importar los datos de Stackoverflow\n",
    "- Mostrar cómo redistribuir los datos de Stackoverflow de forma\n",
    "  óptima (uso de agregación siguiendo el modelo de documentos)\n",
    "- Mostrar cómo se realizarían las consultas RQ1 a RQ4 de los\n",
    "  artículos vistos en la sesión 2\n",
    "- Realizar pruebas de eficiencia comparada con alguna de las bases de\n",
    "  datos vistas en la asignatura\n"
   ]
  }
 ],
 "metadata": {
  "kernelspec": {
   "display_name": "Python 3 (ipykernel)",
   "language": "python",
   "name": "python3"
  },
  "language_info": {
   "codemirror_mode": {
    "name": "ipython",
    "version": 3
   },
   "file_extension": ".py",
   "mimetype": "text/x-python",
   "name": "python",
   "nbconvert_exporter": "python",
   "pygments_lexer": "ipython3",
   "version": "3.10.6"
  }
 },
 "nbformat": 4,
 "nbformat_minor": 5
}
