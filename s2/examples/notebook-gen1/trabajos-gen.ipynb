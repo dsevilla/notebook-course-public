{
 "cells": [
  {
   "cell_type": "code",
   "execution_count": null,
   "id": "07b43366-a5ef-429f-bd5d-47c956d55ffd",
   "metadata": {
    "tags": []
   },
   "outputs": [],
   "source": [
    "#!pip install ipynbname"
   ]
  },
  {
   "cell_type": "code",
   "execution_count": null,
   "id": "1cb7ae8a-9f14-4039-b943-766022be7efa",
   "metadata": {},
   "outputs": [],
   "source": [
    "import nbformat\n",
    "#import ipynbname\n",
    "\n",
    "#notebook = nbformat.read(ipynbname.name() + '.ipynb', as_version=nbformat.NO_CONVERT)\n",
    "notebook = nbformat.read('Trabajos.ipynb', as_version=nbformat.NO_CONVERT)"
   ]
  },
  {
   "cell_type": "code",
   "execution_count": null,
   "id": "ba741101-4ad8-45c3-a77c-bb17bc1014ef",
   "metadata": {
    "tags": []
   },
   "outputs": [],
   "source": [
    "for cell in notebook.cells:\n",
    "    if cell.cell_type == 'markdown':\n",
    "        print(cell)"
   ]
  },
  {
   "cell_type": "code",
   "execution_count": null,
   "id": "2c7085c2-ceaf-4eb7-b12c-a0d00f8acfc9",
   "metadata": {},
   "outputs": [],
   "source": [
    "import re\n",
    "md_cells = filter(lambda c: c.cell_type == 'markdown' and re.match(\"^## T[0-9]+\",c.source), \n",
    "                  notebook.cells)"
   ]
  },
  {
   "cell_type": "code",
   "execution_count": null,
   "id": "551bddbf-21f9-49bc-854e-a08b65d7802b",
   "metadata": {},
   "outputs": [],
   "source": [
    "def trabajo_de_cell(c):\n",
    "    (header,rest) = c.source.split('\\n',1)\n",
    "    m = re.match(\"## (T[0-9]+) +[\\-]+ +(.*)\", header)\n",
    "    return { \"id\" : m.group(1), \"title\" : m.group(2), \"desc\" : rest};\n",
    "\n",
    "trabajos = map(trabajo_de_cell, md_cells)"
   ]
  },
  {
   "cell_type": "code",
   "execution_count": null,
   "id": "28ca1b59-e997-49e2-939c-f7266212e319",
   "metadata": {},
   "outputs": [],
   "source": [
    "import nbconvert\n",
    "\n",
    "nbconvert.filters.markdown2latex('''\n",
    "- a\n",
    "- b http://www.um.es\n",
    "''')"
   ]
  },
  {
   "cell_type": "code",
   "execution_count": null,
   "id": "d71cf021-b478-464c-89f2-2485d0846526",
   "metadata": {},
   "outputs": [],
   "source": [
    "from jinja2 import Environment, FileSystemLoader, select_autoescape\n",
    "env = Environment(\n",
    "    loader=FileSystemLoader(\"templates\"),\n",
    "    autoescape=select_autoescape()\n",
    ")"
   ]
  },
  {
   "cell_type": "code",
   "execution_count": null,
   "id": "33fc6c71-8fc0-4df0-a929-060f9bf348d9",
   "metadata": {},
   "outputs": [],
   "source": [
    "template = env.get_template(\"creatrabajos.sql.j2\")"
   ]
  },
  {
   "cell_type": "code",
   "execution_count": null,
   "id": "a8378c56-b226-49d8-9363-2efb12015bf6",
   "metadata": {},
   "outputs": [],
   "source": [
    "print(template.render(año='2122', trabajos=trabajos))"
   ]
  },
  {
   "cell_type": "code",
   "execution_count": null,
   "id": "6c821703-a732-4466-997a-6edec7e2ac1c",
   "metadata": {},
   "outputs": [],
   "source": []
  }
 ],
 "metadata": {
  "kernelspec": {
   "display_name": "Python 3 (ipykernel)",
   "language": "python",
   "name": "python3"
  },
  "language_info": {
   "codemirror_mode": {
    "name": "ipython",
    "version": 3
   },
   "file_extension": ".py",
   "mimetype": "text/x-python",
   "name": "python",
   "nbconvert_exporter": "python",
   "pygments_lexer": "ipython3",
   "version": "3.10.6"
  }
 },
 "nbformat": 4,
 "nbformat_minor": 5
}
