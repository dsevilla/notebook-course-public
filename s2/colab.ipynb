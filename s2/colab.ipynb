{
 "cells": [
  {
   "cell_type": "markdown",
   "metadata": {},
   "source": [
    "# Google Colab: Especificidades\n",
    "\n",
    "Colab aporta ciertas cuestiones propias que trataremos. Algunas también funcionan en Jupyter, pero otras no. Por lo tanto, es interesante tener una forma de comprobar si se está ejecutando un entorno colab."
   ]
  },
  {
   "cell_type": "markdown",
   "metadata": {},
   "source": [
    "## Detección de si se está ejecutando Colab\n",
    "\n",
    "Esto es interesante bien para ejecutar cuestiones específicas, o bien para modificar el comportamiento del Notebook. Por ejemplo, los notebooks que se generan en conjunto con un programa de terceros a través de un docker compose, por ejemplo, necesitan conectar a la utilidad en otro contenedor, dado su nombre. En el caso de Colab, se intenta ejecutar un entorno contenido en la máquina virtual, por lo que la mayoría de conexiones son a un servicio externo, o a localhost. En general, no hay una forma correcta, pero la más extendida es la siguiente:\n",
    "\n",
    "```python\n",
    "RunningInCOLAB = 'google.colab' in str(get_ipython()) if hasattr(__builtins__,'__IPYTHON__') else False\n",
    "```"
   ]
  },
  {
   "cell_type": "code",
   "execution_count": null,
   "metadata": {},
   "outputs": [],
   "source": [
    "RunningInCOLAB = 'google.colab' in str(get_ipython()) if hasattr(__builtins__,'__IPYTHON__') else False"
   ]
  },
  {
   "cell_type": "code",
   "execution_count": null,
   "metadata": {},
   "outputs": [],
   "source": [
    "RunningInCOLAB"
   ]
  },
  {
   "cell_type": "markdown",
   "metadata": {},
   "source": [
    "## Especificidades de Colab\n",
    "\n",
    "TODO: forms, GPU+TPU, enlaces a los notebooks."
   ]
  },
  {
   "cell_type": "markdown",
   "metadata": {},
   "source": []
  }
 ],
 "metadata": {
  "kernelspec": {
   "display_name": "Python 3",
   "language": "python",
   "name": "python3"
  },
  "language_info": {
   "codemirror_mode": {
    "name": "ipython",
    "version": 3
   },
   "file_extension": ".py",
   "mimetype": "text/x-python",
   "name": "python",
   "nbconvert_exporter": "python",
   "pygments_lexer": "ipython3",
   "version": "3.7.2"
  },
  "vscode": {
   "interpreter": {
    "hash": "767d51c1340bd893661ea55ea3124f6de3c7a262a8b4abca0554b478b1e2ff90"
   }
  }
 },
 "nbformat": 4,
 "nbformat_minor": 4
}
