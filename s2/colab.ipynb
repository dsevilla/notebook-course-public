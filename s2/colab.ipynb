{
 "cells": [
  {
   "cell_type": "markdown",
   "metadata": {
    "id": "ZigqCpVKokPO"
   },
   "source": [
    "# Google Colab: Especificidades\n",
    "\n",
    "Colab aporta ciertas cuestiones propias que trataremos. Algunas también funcionan en Jupyter, pero otras no. Por lo tanto, es interesante tener una forma de comprobar si se está ejecutando un entorno colab."
   ]
  },
  {
   "cell_type": "markdown",
   "metadata": {
    "id": "Opk1DXNSokPR"
   },
   "source": [
    "## Detección de si se está ejecutando Colab\n",
    "\n",
    "Esto es interesante bien para ejecutar cuestiones específicas, o bien para modificar el comportamiento del Notebook. Por ejemplo, los notebooks que se generan en conjunto con un programa de terceros a través de un docker compose, por ejemplo, necesitan conectar a la utilidad en otro contenedor, dado su nombre. En el caso de Colab, se intenta ejecutar un entorno contenido en la máquina virtual, por lo que la mayoría de conexiones son a un servicio externo, o a localhost. En general, no hay una forma correcta, pero la más extendida es la siguiente:\n",
    "\n",
    "```python\n",
    "RunningInCOLAB = 'google.colab' in str(get_ipython()) if hasattr(__builtins__,'__IPYTHON__') else False\n",
    "```"
   ]
  },
  {
   "cell_type": "code",
   "execution_count": null,
   "metadata": {
    "id": "KttmL7MdokPT"
   },
   "outputs": [],
   "source": [
    "RunningInCOLAB = 'google.colab' in str(get_ipython()) if hasattr(__builtins__,'__IPYTHON__') else False"
   ]
  },
  {
   "cell_type": "code",
   "execution_count": null,
   "metadata": {
    "id": "yJrRaIGeokPU"
   },
   "outputs": [],
   "source": [
    "RunningInCOLAB"
   ]
  },
  {
   "cell_type": "markdown",
   "metadata": {
    "id": "_7gRpQLXQSID"
   },
   "source": [
    "## Colab: Forms\n",
    "\n",
    "Los Forms ofrecen una manera sencilla de parametrizar código. En una celda de código, se selecciona **Insert → Add form field**. Cuando se cambia un valor en el formulario, cambiará en el código. Esto puede hacer que los alumnos se sientan más identificados con el notebook."
   ]
  },
  {
   "cell_type": "code",
   "execution_count": null,
   "metadata": {
    "cellView": "form",
    "id": "3jKM6GfzlgpS"
   },
   "outputs": [],
   "source": [
    "#@title Campos String\n",
    "\n",
    "text = 'value' #@param {type:\"string\"}\n",
    "dropdown = '1st option' #@param [\"1st option\", \"2nd option\", \"3rd option\"]\n",
    "text_and_dropdown = 'value' #@param [\"1st option\", \"2nd option\", \"3rd option\"] {allow-input: true}\n",
    "\n",
    "print(text)\n",
    "print(dropdown)\n",
    "print(text_and_dropdown)"
   ]
  },
  {
   "cell_type": "code",
   "execution_count": null,
   "metadata": {
    "id": "bf5LUmgZt-kT"
   },
   "outputs": [],
   "source": [
    "#@title Campos Raw\n",
    "\n",
    "raw_input = None #@param {type:\"raw\"}\n",
    "raw_dropdown = raw_input #@param [1, \"raw_input\", \"False\", \"'string'\"] {type:\"raw\"}\n",
    "\n",
    "print(raw_input)\n",
    "print(raw_dropdown)"
   ]
  },
  {
   "cell_type": "code",
   "execution_count": null,
   "metadata": {
    "id": "aw5lgeRbubeF"
   },
   "outputs": [],
   "source": [
    "#@title Campos Fecha\n",
    "date_input = '2013-03-22' #@param {type:\"date\"}\n",
    "\n",
    "print(date_input)"
   ]
  },
  {
   "cell_type": "code",
   "execution_count": null,
   "metadata": {
    "id": "eFN7-fUKs-Bu"
   },
   "outputs": [],
   "source": [
    "#@title Campos numéricos\n",
    "number_input = 10.0 #@param {type:\"number\"}\n",
    "number_slider = 0 #@param {type:\"slider\", min:-1, max:1, step:0.1}\n",
    "\n",
    "integer_input = 10 #@param {type:\"integer\"}\n",
    "integer_slider = 1 #@param {type:\"slider\", min:0, max:100, step:1}\n",
    "\n",
    "print(number_input)\n",
    "print(number_slider)\n",
    "\n",
    "print(integer_input)\n",
    "print(integer_slider)"
   ]
  },
  {
   "cell_type": "code",
   "execution_count": null,
   "metadata": {
    "id": "ig8PIYeLtM8g"
   },
   "outputs": [],
   "source": [
    "#@title Campos Booleanos\n",
    "boolean_checkbox = True #@param {type:\"boolean\"}\n",
    "boolean_dropdown = True #@param [\"False\", \"True\"] {type:\"raw\"}\n",
    "\n",
    "print(boolean_checkbox)\n",
    "print(boolean_dropdown)"
   ]
  },
  {
   "cell_type": "code",
   "execution_count": null,
   "metadata": {
    "id": "ZCEBZPwUDGOg"
   },
   "outputs": [],
   "source": [
    "#@title  Markdown\n",
    "#@markdown Se puede incluir Markdown en Forms\n",
    "\n",
    "#@markdown ---\n",
    "#@markdown ### Entre un path de un fichero:\n",
    "file_path = \"\" #@param {type:\"string\"}\n",
    "#@markdown ---\n",
    "\n"
   ]
  },
  {
   "cell_type": "markdown",
   "metadata": {
    "id": "mfKihFvnowQ4"
   },
   "source": [
    "## Montaje de Drive"
   ]
  },
  {
   "cell_type": "code",
   "execution_count": null,
   "metadata": {
    "id": "8yGYi9Svotf_"
   },
   "outputs": [],
   "source": [
    "from google.colab import drive\n",
    "drive.mount('/gdrive')\n",
    "%cd /gdrive"
   ]
  },
  {
   "cell_type": "markdown",
   "metadata": {
    "id": "cI8QrZqPo9Rh"
   },
   "source": [
    "## Carga de ficheros"
   ]
  },
  {
   "cell_type": "code",
   "execution_count": null,
   "metadata": {
    "id": "94dIJXpUo_Qe"
   },
   "outputs": [],
   "source": [
    "from google.colab import files\n",
    "\n",
    "uploaded = files.upload()\n",
    "\n",
    "for fn in uploaded.keys():\n",
    "  print('User uploaded file \"{name}\" with length {length} bytes'.format(\n",
    "      name=fn, length=len(uploaded[fn])))"
   ]
  }
 ],
 "metadata": {
  "colab": {
   "provenance": []
  },
  "kernelspec": {
   "display_name": "Python 3",
   "language": "python",
   "name": "python3"
  },
  "language_info": {
   "codemirror_mode": {
    "name": "ipython",
    "version": 3
   },
   "file_extension": ".py",
   "mimetype": "text/x-python",
   "name": "python",
   "nbconvert_exporter": "python",
   "pygments_lexer": "ipython3",
   "version": "3.7.2"
  },
  "vscode": {
   "interpreter": {
    "hash": "767d51c1340bd893661ea55ea3124f6de3c7a262a8b4abca0554b478b1e2ff90"
   }
  }
 },
 "nbformat": 4,
 "nbformat_minor": 1
}
