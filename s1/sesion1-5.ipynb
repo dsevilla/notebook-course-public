{
 "cells": [
  {
   "cell_type": "markdown",
   "id": "ecd744dd",
   "metadata": {},
   "source": [
    "# Aplicación de notebooks en casos paradigmáticos"
   ]
  },
  {
   "cell_type": "markdown",
   "id": "b46ea956",
   "metadata": {},
   "source": [
    "## Kernel Bash\n",
    "\n",
    "Para asignaturas que utilicen Bash. Permite ejecutar órdenes de bash dentro de un mismo entorno. Sirve para añadir documentación de funcionalidad que se puede probar dentro de un entorno de contenedor:\n",
    "\n",
    "[bash_kernel.ipynb](bash_kernel.ipynb)"
   ]
  },
  {
   "cell_type": "markdown",
   "id": "f87e3efb",
   "metadata": {},
   "source": [
    "## Acceso a BBDD SQL"
   ]
  },
  {
   "cell_type": "markdown",
   "id": "4dcf6311",
   "metadata": {},
   "source": [
    "En un primer ejemplo, hay kernels para acceso directo a bases de datos relacionales. La salida se ofrece como un dataframe de pandas. Las celdas se pueden usar con un nuevo magic (`%%SQL`) que aparece al ejecutar las celdas:\n",
    "\n",
    "https://colab.research.google.com/github/dsevilla/bdge/blob/22-23/sql/sesion1.ipynb"
   ]
  },
  {
   "cell_type": "markdown",
   "id": "e4c624d1",
   "metadata": {},
   "source": [
    "## Acceso a BBDD NoSQL\n",
    "\n",
    "En docencia que incluya bases de datos NoSQL, los Notebooks también se pueden usar para docencia en el caso de BBDD NoSQL. Veremos en la sesión 2 cómo generar cuestionarios interactivos que se respaldan con una bases de datos en Cloud, pero también en la asignatura de BDGE se ve cómo instalar la BD mongodb en local:\n",
    "\n",
    "https://colab.research.google.com/github/dsevilla/bdge/blob/22-23/mongo/sesion3.ipynb"
   ]
  },
  {
   "cell_type": "markdown",
   "id": "7d05267e",
   "metadata": {},
   "source": [
    "## Aprendizaje de lenguajes de programación\n",
    "\n",
    "Jupyter cuenta con decenas de kernels con distintos lenguajes, que funcionan interactivamente. Veremos en la sesión 2 los correspondientes a C y Java, que permiten, incluso en lenguajes tradicionalmente compilados, enseñar programación, algoritmos, calcular el tiempo de ejecución, etc."
   ]
  },
  {
   "cell_type": "markdown",
   "id": "6e8bc447",
   "metadata": {},
   "source": [
    "## IA/Machine Learning/Deep Learning\n",
    "\n",
    "En la Facultad hay varios profesores que utilizan ya los Notebooks para estas tareas. En la sesión 2 vendrán a explicarnos algunos de ellos su forma de trabajo con Notebooks en estas áreas."
   ]
  },
  {
   "cell_type": "markdown",
   "id": "12c42436",
   "metadata": {},
   "source": [
    "## Apuntes de asignaturas, cuestionarios, etc.\n",
    "\n",
    "Si los kernels o el formato de trabajo interactivo no casan con los kernels disponibles, siempre se puede utilizar para ofrecer apuntes a los alumnos, más ricos que páginas web estáticas, o PDFs."
   ]
  },
  {
   "cell_type": "markdown",
   "id": "4db49918",
   "metadata": {},
   "source": [
    "## Investigación y publicación de resultados\n",
    "\n",
    "+ Los notebooks pueden ayudar no solo a compartir resultados de investigación, sino a reproducir dichos resultados.\n",
    "+ Algunos grupos de investigación están optando por usar notebooks para mostrar fragmentos de código que apoyan sus resultados.\n",
    "+ Más sobre _reproducible research_ en la sesión 2.\n",
    "\n",
    "### Algunos ejemplos:\n",
    "\n",
    "+ Prediction of roll motion using fully nonlinear potential flow and Ikeda's method\n",
    "  - https://onepetro.org/ISOPEIOPEC/proceedings-abstract/ISOPE21/All-ISOPE21/ISOPE-I-21-3158/464628\n",
    "  - https://github.com/martinlarsalbert/Prediction-of-roll-motion-using-fully-nonlinear-potential-flow-and-Ikedas-method\n",
    "\n",
    "\n",
    "+ Salt Polygons are Caused by Convection \n",
    "  - https://ui.adsabs.harvard.edu/abs/2019arXiv190203600L/abstract\n",
    "  - https://zenodo.org/record/3831237\n",
    "\n",
    "+ PubTrends: a scientific literature explorer\n",
    "  - https://dl.acm.org/doi/10.1145/3459930.3469501\n",
    "  - https://github.com/JetBrains-Research/pubtrends"
   ]
  }
 ],
 "metadata": {
  "kernelspec": {
   "display_name": "Python 3 (ipykernel)",
   "language": "python",
   "name": "python3"
  },
  "language_info": {
   "codemirror_mode": {
    "name": "ipython",
    "version": 3
   },
   "file_extension": ".py",
   "mimetype": "text/x-python",
   "name": "python",
   "nbconvert_exporter": "python",
   "pygments_lexer": "ipython3",
   "version": "3.10.6"
  }
 },
 "nbformat": 4,
 "nbformat_minor": 5
}
