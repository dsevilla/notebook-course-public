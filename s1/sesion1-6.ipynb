{
 "cells": [
  {
   "cell_type": "markdown",
   "metadata": {},
   "source": [
    "# Integración de Jupyter y repositorios Git. Publicación de notebooks"
   ]
  },
  {
   "cell_type": "markdown",
   "metadata": {},
   "source": [
    "![github_logo](img/github_logo.png)"
   ]
  },
  {
   "cell_type": "markdown",
   "metadata": {},
   "source": [
    "+ Un fichero notebook serializa el contenido de cada celda en formato JSON...\n",
    "+ ...y además contiene metadatos, texto formateado, datos enriquecidos...\n",
    "+ Dificultad a la hora de controlar versiones.\n",
    "+ La salida de cada celda (imágenes, gráficas, tablas con datos) se puede almacenar junto con el notebook.\n",
    "    - Esto **facilita** la tarea a la hora de compartir notebooks con los resultados visibles para que el receptor no tenga que ejecutar nada:\n",
    "      + Evita problemas de librerías y dependencias.\n",
    "      + Ahorra tiempo.\n",
    "    - Pero esto **dificulta** el almacenamiento de los notebooks en sistemas de control de versiones como Git:\n",
    "      + Si se hace un cambio en una celda de código probablemente también cambie el resultado a mostrar.\n",
    "      + Complica los `diffs`.\n",
    "\n",
    "\n",
    "+ Cuando se habla de compartir notebooks, normalmente se hace referencia a uno de los dos siguientes paradigmas:\n",
    "  - El notebook muestra resultados finales (como este notebook).\n",
    "    + Se puede guardar el resultado de las celdas.\n",
    "    + Fácil de compartir, fácil de visualizar y de entender.\n",
    "  - El notebook se entiende como un medio interactivo con el que experimentar.\n",
    "    + Se puede eliminar la salida de las celdas del notebook.\n",
    "    + Fácil de modificar, fácil de extender."
   ]
  },
  {
   "cell_type": "markdown",
   "metadata": {},
   "source": [
    "### Problemática de Jupyter + Git: Conflictos"
   ]
  },
  {
   "cell_type": "markdown",
   "metadata": {},
   "source": [
    "+ Se interactúa con un notebook en un repositorio Git.\n",
    "+ Surge un conflicto debido a diversos motivos:\n",
    "  - Dos desarrolladores lo editan simultáneamente e intentan guardar sus cambios.\n",
    "  - Un usuario ejecuta la hoja y guarda la hoja con los resultados.\n",
    "  - Un usuario abre la hoja teniendo una versión distinta de Jupyter (los metadatos cambian).\n",
    "  - Los resultados cambian (por ejemplo porque hay números aleatorios involucrados).\n",
    "\n",
    "+ ...al hacer `push` surge un conflicto y la hoja queda inutilizable:"
   ]
  },
  {
   "cell_type": "markdown",
   "metadata": {},
   "source": [
    "![git_error_1](img/git_error_1.png)"
   ]
  },
  {
   "cell_type": "markdown",
   "metadata": {},
   "source": [
    "+ El notebook se almacena en formato JSON, pero Git guarda el conflicto en texto plano:"
   ]
  },
  {
   "cell_type": "markdown",
   "metadata": {},
   "source": [
    "![git_error_2](img/git_error_2.png)"
   ]
  },
  {
   "cell_type": "markdown",
   "metadata": {},
   "source": [
    "+ Esto no es un formato JSON válido, y Jupyter arrojará errores al intentar abrir la hoja.\n",
    "+ ¿Solución? Editar el notebook **a mano** desde un editor de texto.\n",
    "+ Posible solución: **nbdev2**:\n",
    "  - https://nbdev.fast.ai/\n",
    "+ nbdev2 proporciona una serie de _hooks_ a algunas operaciones en Git:\n",
    "  - Encapsula los mensajes de conflictos **como celdas** para que Jupyter pueda interpretarlos correctamente.\n",
    "  - Proporciona _hooks_ para las operaciones **merge** y **save**.\n",
    "  - ...entre otras cosas.\n",
    "+ Con esta herramienta Jupyter puede abrir notebooks con conflictos.\n",
    "+ Para resolver el conflicto, el usuario simplemente **elimina** las celdas que muestran los resultados que no se quieren mantener, o bien **combina** las celdas adecuadamente."
   ]
  },
  {
   "cell_type": "markdown",
   "metadata": {},
   "source": [
    "![git_error_3](img/git_error_3.png)"
   ]
  },
  {
   "cell_type": "markdown",
   "metadata": {},
   "source": [
    "## Almacenando notebooks en GitHub\n",
    "\n",
    "+ El notebook se almacenará con exactamente la misma apariencia que tenía cuando se guardó por última vez.\n",
    "\n",
    "### Solución 1: Limpiar la salida manualmente\n",
    "\n",
    "+ La solución **más sencilla** para asegurar que el notebook está listo para ser compartido:\n",
    "  - `Cell->All Output->Clear`.\n",
    "+ Si además se desea ejecutar el notebook y guardar las celdas de salida:\n",
    "  - `Kernel->Restart & Run All`\n",
    "+ Esperar a que se ejecuten todas las celdas y entonces:\n",
    "  - `File->Save and Checkpoint`\n",
    "  - `File->Close and Halt`\n",
    "+ Esto asegura que el notebook no se queda en un estado intermedio o a media ejecución.\n",
    "+ Nota extra: Añadir el directorio **.ipynb_checkpoints** al fichero **.gitignore**.\n",
    "+ **Problemas**: Proceso manual, se requiere volver a ejecutar el notebook, otros colaboradores pueden meter más metadatos.\n",
    "\n",
    "\n",
    "+ Idea: Trabajar con dos ramas en el repositorio:\n",
    "  - `dev branch`: Los editores del notebook trabajan sobre esta rama. No se almacena la información de las celdas de salida.\n",
    "  - `master branch`: Contiene un `commit` adicional en el que los notebooks han sido ejecutados y la salida de las celdas guardada."
   ]
  },
  {
   "cell_type": "markdown",
   "metadata": {},
   "source": [
    "### Solución 2: Utilizar herramientas externas como ReviewNB"
   ]
  },
  {
   "cell_type": "markdown",
   "metadata": {},
   "source": [
    "https://www.reviewnb.com/  \n",
    "https://blog.reviewnb.com/github-jupyter-notebook/\n",
    "\n",
    "+ Aplicación GitHub que ofrece un `diff` visual para capturar la diferencia entre notebooks de manera sencilla.\n",
    "+ Los `diff` del JSON del notebook se vuelven confusos y poco prácticos si hay datos binarios en el notebook.\n",
    "+ El software está pensado específicamente para su integración con GitHub: Poco flexible, pero fácil de manejar."
   ]
  },
  {
   "cell_type": "markdown",
   "metadata": {},
   "source": [
    "![reviewnb_1](img/reviewnb_1.png)"
   ]
  },
  {
   "cell_type": "markdown",
   "metadata": {},
   "source": [
    "![reviewnb_2](img/reviewnb_2.png)"
   ]
  },
  {
   "cell_type": "markdown",
   "metadata": {},
   "source": [
    "![reviewnb_0](img/reviewnb_0.png)"
   ]
  },
  {
   "cell_type": "markdown",
   "metadata": {},
   "source": [
    "### Bonus: Extensión de Git en Jupyter Lab\n",
    "\n",
    "+ Jupyter tiene disponible una extensión **Git** para la interfaz Lab.\n",
    "+ Interfaz point and click."
   ]
  },
  {
   "cell_type": "markdown",
   "metadata": {},
   "source": [
    "![jupyter_git](img/jupyter_git.png)"
   ]
  },
  {
   "cell_type": "markdown",
   "metadata": {},
   "source": [
    "+ Mediante la pestaña correspondiente (a la izquierda) se pueden añadir ficheros al stage.\n",
    "+ También se pueden controlar los cambios realizados a los ficheros.\n",
    "+ Se pueden hacer commits desde la misma interfaz. Similar a otros IDEs."
   ]
  },
  {
   "cell_type": "markdown",
   "metadata": {},
   "source": [
    "![jupyter_gitinit](img/jupyter_gitinit.png)"
   ]
  },
  {
   "cell_type": "markdown",
   "metadata": {},
   "source": [
    "## Publicación de notebooks"
   ]
  },
  {
   "cell_type": "markdown",
   "metadata": {},
   "source": [
    "### Mecanismos nativos\n",
    "\n",
    "+ Jupyter proporciona mecanismos nativos para exportar notebooks directamente en formato HTML o PDF:\n",
    "  - `File->Download As->...`\n",
    "+ Similar a usar el comando `jupyter nbconvert --to <format> <file>` desde la línea de comandos.\n",
    "+ https://jupyterlab.readthedocs.io/en/stable/user/export.html\n",
    "+ https://nbconvert.readthedocs.io/en/latest/usage.html\n",
    "+ Esto exporta el notebook tal cual, así como los resultados generados.\n",
    "+ Útil para compartir texto, demostraciones, resultados de investigación y ejemplos no interactivos.\n",
    "+ **Desventaja**: No permite la ejecución del notebook."
   ]
  },
  {
   "cell_type": "markdown",
   "metadata": {},
   "source": [
    "### Visualización en GitHub"
   ]
  },
  {
   "cell_type": "markdown",
   "metadata": {},
   "source": [
    "+ GitHub soporta actualmente el renderizado de ficheros _.ipynb_ directamente.\n",
    "+ El notebook se muestra como una página web estática.\n",
    "+ No es posible ejecutar celdas o modificar el notebook."
   ]
  },
  {
   "cell_type": "markdown",
   "metadata": {},
   "source": [
    "![github_shownotebook](img/github_shownotebook.png)"
   ]
  },
  {
   "cell_type": "markdown",
   "metadata": {},
   "source": [
    "+ **Alternativa**: Uso de Gist (https://gist.github.com/).\n",
    "+ El servicio **Gist** se utiliza para compartir snippets de código:\n",
    "  - Se copia el contenido JSON del notebook (fichero _.ipynb_) en el gist.\n",
    "  - Se da un nombre al fichero gist y la extensión _.ipynb_.\n",
    "  - `Create public gist`.\n",
    "  - El servicio proporciona una URL pública que se puede compartir para visualizar el notebook."
   ]
  },
  {
   "cell_type": "markdown",
   "metadata": {},
   "source": [
    "![gist_screen](img/gist_screen.png)"
   ]
  },
  {
   "cell_type": "markdown",
   "metadata": {},
   "source": [
    "### Visualización con nbviewer\n",
    "\n",
    "https://nbviewer.org/\n",
    "\n",
    "+ Nbviewer forma parte del proyecto Jupyter, y permite también mostrar notebooks almacenados en un repositorio público.\n",
    "  - Git, Dropbox, Google Drive..."
   ]
  },
  {
   "cell_type": "markdown",
   "metadata": {},
   "source": [
    "![nbviewer_load](img/nbviewer_load.png)"
   ]
  },
  {
   "cell_type": "markdown",
   "metadata": {},
   "source": [
    "+ Este proyecto fue desarrollado antes de que GitHub integrara la renderización de hojas Jupyter.\n",
    "+ Recibe como entrada una URL, un ID Gist o un repositorio GitHub.\n",
    "+ Renderiza un notebook como **página web**.\n",
    "+ Proporciona una **URL para compartir el resultado**."
   ]
  },
  {
   "cell_type": "markdown",
   "metadata": {},
   "source": [
    "![nbviewer_show](img/nbviewer_show.png)"
   ]
  },
  {
   "cell_type": "markdown",
   "metadata": {},
   "source": [
    "+ **Ojo**: Nbviewer no permite la edición o ejecución del notebook."
   ]
  },
  {
   "cell_type": "markdown",
   "metadata": {},
   "source": [
    "### Uso de Binder\n",
    "\n",
    "[https://mybinder.org/](https://mybinder.org/)\n",
    "\n",
    "+ **MyBinder** (o **Binder**) permite crear proyectos a partir de repositorios Git y proporciona **entornos de ejecución** para los notebooks almacenados.\n",
    "\n",
    "\n",
    "+ **Requisito**: El repositorio Git debe ser **público**.\n",
    "  - Binder no proporciona gestión de tokens de autentificación.\n",
    "  - Es suficiente con usar un repositorio público GitHub.\n",
    "  - Repositorio de ejemplo: `https://github.com/dsevilla/data-science-ipython-notebooks`\n",
    "  - El Binder también será público:\n",
    "    + Nada de escribir contraseñas ni pasar tokens de autentificación.\n",
    "\n",
    "\n",
    "+ **Funcionamiento**:"
   ]
  },
  {
   "cell_type": "markdown",
   "metadata": {},
   "source": [
    "![binder_howitworks](img/binder_howitworks.png)"
   ]
  },
  {
   "cell_type": "markdown",
   "metadata": {},
   "source": [
    "+ **Paso 1**: Acceder a https://mybinder.org y rellenar los campos con la información adecuadamente:"
   ]
  },
  {
   "cell_type": "markdown",
   "metadata": {},
   "source": [
    "![binder_screen](img/binder_screen.png)"
   ]
  },
  {
   "cell_type": "markdown",
   "metadata": {},
   "source": [
    "+ **Paso 2**: Acceder al link que proporciona Binder mientras se crea el entorno. El link será del estilo a: `https://mybinder.org/v2/gh/YOUR-USERNAME/my-first-binder/HEAD`. Binder está mientras tanto efectuando los siguientes pasos:\n",
    "  + Buscando el repositorio GitHub proporcionado.\n",
    "  + Analizando los contenidos del repositorio.\n",
    "  + Creando una imagen Docker basada en el repositorio.\n",
    "  + Lanzando la imagen Docker en la nube.\n",
    "  + Conectando al usuario a la imagen mediante el navegador."
   ]
  },
  {
   "cell_type": "markdown",
   "metadata": {},
   "source": [
    "![binder_load](img/binder_load.png)"
   ]
  },
  {
   "cell_type": "markdown",
   "metadata": {},
   "source": [
    "+ **Paso 3**: Una vez la imagen se ha lanzado y tenemos acceso, veremos una interfaz similar a la de Jupyter Lab y tendremos acceso para ejecutar cualquier notebook del repositorio:"
   ]
  },
  {
   "cell_type": "markdown",
   "metadata": {},
   "source": [
    "![binder_show](img/binder_show.png)"
   ]
  },
  {
   "cell_type": "markdown",
   "metadata": {},
   "source": [
    "+ **(Opcional) Paso 4**: Para añadir dependencias es necesario crear un fichero `requirements.txt`.\n",
    "  + Una línea por dependencia.\n",
    "  + `numpy==1.14.5`: Hace que Binder descargue la librería numpy con versión igual a la indicada.\n",
    "  + Las versiones de las dependencias también se pueden indicar con los símbolos `>=`, o no indicarse para traer la dependencia más actual posible.\n",
    "  + Ahora, durante el lanzamiento en el paso 2, se introduce un paso adicional en el que Binder descarga las dependencias.\n",
    "\n",
    "\n",
    "+ **(Opcional) Paso 5**: Añadir ficheros de datos mediante un fichero `postBuild`.\n",
    "  + Los ficheros de datos pequeños se pueden añadir directamente al repositorio GitHub y serán accesibles desde Binder (menos de 10MB).\n",
    "  + Los ficheros de datos de mayor tamaño se pueden incluir en el Binder mediante el fichero `postBuild`.\n",
    "  + Un fichero `postBuild` es un script que se ejecuta una única vez cuando se construye la imagen por primera vez.\n",
    "    - Se puede usar para, mediante instrucciones `wget` por ejemplo, incluir ficheros de datos en la imagen Docker.\n",
    "\n",
    "+ **Paso 6**: Compartir la URL dada en un principio. Binder creará un entorno en el que el usuario puede navegar por el repositorio, abrir notebooks, modificarlos y ejecutarlos."
   ]
  },
  {
   "cell_type": "markdown",
   "metadata": {},
   "source": [
    "### Google Colab"
   ]
  },
  {
   "cell_type": "markdown",
   "metadata": {},
   "source": [
    "![colab_intro](img/colab_intro.png)"
   ]
  },
  {
   "cell_type": "markdown",
   "metadata": {},
   "source": [
    "https://colab.research.google.com/\n",
    "\n",
    "+ Un notebook también se puede compartir utilizando **Google Colab**.\n",
    "+ Veremos los detalles del entorno Google Colab en la **siguiente sesión**.\n",
    "+ Google Colab proporciona una serie de notebooks de ejemplo sobre distintos apartados y funcionalidad:\n",
    "  - **Overview of Colaboratory Features**\n",
    "  - **Markdown Guide**\n",
    "  - **Charts in Colaboratory**\n",
    "  - **External data: Drive, Sheets, and Cloud Storage**\n",
    "  - ...\n",
    "\n",
    "\n",
    "+ Google Colab permite importar notebooks almacenados en **otros medios**:\n",
    "  - `Archivo->Abrir/Subir cuaderno`\n",
    "  - En Google Drive\n",
    "  - En GitHub\n",
    "    + **OJO**: Si se desea abrir un repositorio privado es necesario dar a Colab permisos adicionales.\n",
    "  - Ficheros locales\n",
    "\n",
    "\n",
    "+ Hace uso de **Google Cloud Platform** para proporcionar un entorno de ejecución a los notebooks importados."
   ]
  },
  {
   "cell_type": "markdown",
   "metadata": {},
   "source": [
    "![colab_open](img/colab_open.png)"
   ]
  },
  {
   "cell_type": "markdown",
   "metadata": {},
   "source": [
    "+ Una vez que se ha abierto un notebook, este se puede almacenar localmente en **Google Drive** o **GitHub**.\n",
    "  - Creación de una carpeta llamada **Colab Notebooks** en el Google Drive del usuario.\n",
    "\n",
    "\n",
    "+ El notebook ahora puede modificarse y ejecutarse."
   ]
  },
  {
   "cell_type": "markdown",
   "metadata": {},
   "source": [
    "![colab_notebook](img/colab_notebook.png)"
   ]
  }
 ],
 "metadata": {
  "kernelspec": {
   "display_name": "Python 3",
   "language": "python",
   "name": "python3"
  },
  "language_info": {
   "codemirror_mode": {
    "name": "ipython",
    "version": 3
   },
   "file_extension": ".py",
   "mimetype": "text/x-python",
   "name": "python",
   "nbconvert_exporter": "python",
   "pygments_lexer": "ipython3",
   "version": "3.7.2"
  }
 },
 "nbformat": 4,
 "nbformat_minor": 4
}
