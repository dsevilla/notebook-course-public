{
 "cells": [
  {
   "cell_type": "markdown",
   "id": "3798f508",
   "metadata": {},
   "source": [
    "# Markdown, Python y Magics"
   ]
  },
  {
   "cell_type": "markdown",
   "id": "d0ecf52a",
   "metadata": {},
   "source": [
    "# Manejo básico de Jupyter Notebook/Lab\n",
    "\n",
    "## Pestaña \"Files\"\n",
    "1. Es posible navegar por el árbol de directorios y ejecutar los notebooks existentes\n",
    "  + **Click** sobre un notebook para abrirlo en una pestaña aparte\n",
    "2. Opción **Upload**: Para almacenar ficheros en el espacio de trabajo\n",
    "3. Opción **New**: Para crear nuevos notebooks, ficheros de texto y carpetas\n",
    "\n",
    "![jupyter_files](https://raw.githubusercontent.com/dsevilla/notebook-course-public/main/s1/img/jupyter_files.png)\n",
    "\n",
    "## Pestaña \"Running\"\n",
    "\n",
    "Para gestión de terminales y notebooks actualmente abiertos en la sesión.\n",
    "\n",
    "## Pestaña \"Clusters\"\n",
    "\n",
    "Para gestión de computación en paralelo con IPython.\n",
    "\n",
    "# Cerrando Jupyter Notebook/Lab\n",
    "\n",
    "1. Para cerrar un notebook:\n",
    "    * `File->Close and Halt`\n",
    "2. Para apagar el servidor Jupyter se puede ir a la página del navegador y:\n",
    "    * `Quit`\n",
    "3. Alternativamente, también se puede cerrar desde la consola:\n",
    "    * `Ctrl+C`"
   ]
  },
  {
   "cell_type": "markdown",
   "id": "935b0862",
   "metadata": {},
   "source": [
    "# Manejo básico de hojas Jupyter\n",
    "\n",
    "## Tipos de celdas\n",
    "Una hoja Jupyter contiene una sucesión de celdas. Estas celdas pueden ser, principalmente, de dos tipos:\n",
    "\n",
    "+ Celdas de texto: Contienen texto en formato _Markdown_\n",
    "+ Celdas de código: Contienen código a ser ejecutado por el _kernel_. Cuando el código se ejecuta, el resultado obtenido se muestra a continuación de la celda de código."
   ]
  },
  {
   "cell_type": "markdown",
   "id": "0039db23",
   "metadata": {},
   "source": [
    "Ejemplo de una celda de texto en _Markdown_"
   ]
  },
  {
   "cell_type": "code",
   "execution_count": null,
   "id": "24ca1e0c",
   "metadata": {},
   "outputs": [],
   "source": [
    "print(\"Celda de código en Python\")\n",
    "\n",
    "var1 = \"Value 1\"\n",
    "var2 = \"Value 2\"\n",
    "var3 = 42\n",
    "\n",
    "def myDef(arg1, arg2):\n",
    "    return arg1 + arg2\n",
    "\n",
    "print(myDef(var1, var2))\n",
    "print(myDef(var3, var3))"
   ]
  },
  {
   "cell_type": "markdown",
   "id": "22998608",
   "metadata": {},
   "source": [
    "+ Cuando una celda con código se ejecuta, la etiqueta a su derecha pasa de ser `In [ ]` a `In [ 1, 2...n ]`.\n",
    "+ `In` significa `Input`, y el número indica en qué orden se han ejecutado las celdas de código.\n",
    "+ El resultado obtenido pasa a formar parte del notebook y se almacena con este.\n",
    "+ Una celda de código devuelve como resultado el valor de la última expresión encontrada, además de resultados mostrados con la función `print`."
   ]
  },
  {
   "cell_type": "markdown",
   "id": "058b85e4",
   "metadata": {},
   "source": [
    "## Edición y ejecución de celdas\n",
    "\n",
    "+ Una celda se vuelve editable si se hace doble click con el ratón sobre ella.\n",
    "+ La celda se interpreta (si es texto) o se ejecuta (si es código) mediante el comando `Ctrl + Enter`.\n",
    "+ Se pueden ejecutar todas las celdas en orden mediante `Cell -> Run Cells`\n",
    "+ Las celdas se pueden cortar, copiar y pegar **en un mismo notebook** mediante `Edit -> Cut/Copy Cells`\n",
    "+ Las celdas se pueden cortar, copiar y pegar **entre notebooks** mediante `Ctrl + x / Ctrl + c + Ctrl + v`"
   ]
  },
  {
   "cell_type": "markdown",
   "id": "639c1b17",
   "metadata": {},
   "source": [
    "## Otras utilidades del notebook\n",
    "\n",
    "+ `Kernel -> Restart & Clear Output`: Reinicia el notebook y borra las salidas existentes\n",
    "+ `File -> Save and Checkpoint / Ctrl + S`: Guarda el estado del notebook. Aunque el notebook tiene autoguardado, este no es de fiar :)\n",
    "+ `File -> Close and Halt`: Cierra el notebook.\n",
    "+ `File -> Rename / Click sobre el nombre del notebook`: Renombra el notebook.\n",
    "+ `Insert -> Insert cell below / Keyboard(B)`: Añade una celda vacía a continuación.\n",
    "+ `Edit -> Delete Cells / Keyboard(D + D)`: Elimina la celda seleccionada."
   ]
  },
  {
   "cell_type": "markdown",
   "id": "10743c96",
   "metadata": {},
   "source": [
    "## Compartir notebooks\n",
    "\n",
    "+ Para dejar un notebook listo para ser compartido:\n",
    "  1. `Cell -> All Output -> Clear`\n",
    "  2. `Kernel -> Restart & Run All`\n",
    "  3. `File -> Save and Checkpoint`\n",
    "\n",
    "+ El notebook queda listo para ser compartido.\n",
    "+ Otra opción consiste en exportar el notebook como un fichero HTML, PDF o en otro formato: `File -> Download as...`\n",
    "+ Por último, se puede utilizar GitHub o Nbviewer, como se verá más adelante."
   ]
  },
  {
   "cell_type": "markdown",
   "id": "1be6580f",
   "metadata": {},
   "source": [
    "# ¿Qué es Markdown?"
   ]
  },
  {
   "cell_type": "markdown",
   "id": "aa5f6bb7",
   "metadata": {},
   "source": [
    "- Markdown es un lenguaje de marcado ligero creado por John Gruber y Aaron Swartz.\n",
    "- No existe un estándar definido para Markdown. Existen diversas implementaciones de Markdown en distintas plataformas que varían ligeramente:\n",
    "  + Jupyter\n",
    "  + Github\n",
    "  + Colab\n",
    "  + ...\n",
    "\n",
    "- En Jupyter Notebook se emplean principalmente dos tipos de celdas:\n",
    "  - Celdas de código\n",
    "  - Celdas de texto\n",
    "- Markdown es el lenguaje utilizado normalmente para escribir celdas de texto\n",
    "- Para ver el contenido tal cual de una celda en Markdown: `Doble click`\n",
    "- Para ver el contenido interpretado como texto en Markdown: `Ctrl + Enter`"
   ]
  },
  {
   "cell_type": "markdown",
   "id": "238495a9",
   "metadata": {},
   "source": [
    "## Markdown básico"
   ]
  },
  {
   "cell_type": "markdown",
   "id": "1bee29bb",
   "metadata": {},
   "source": [
    "## Cabeceras\n",
    "\n",
    "`# Cabecera 1:`\n",
    "# Cabecera 1\n",
    "\n",
    "\n",
    "`## Cabecera 2:`\n",
    "## Cabecera 2\n",
    "\n",
    "\n",
    "`### Cabecera 3:`\n",
    "### Cabecera 3"
   ]
  },
  {
   "cell_type": "markdown",
   "id": "cb03d364",
   "metadata": {},
   "source": [
    "Estilos en Markdown | Resultado\n",
    "--- | ---\n",
    "`**Texto en negrita**` | **Texto en negrita**\n",
    "`*Texto en itálica*` o `_Texto en itálica_` | *Texto en itálica*\n",
    "`~~Texto tachado~~` | ~~Texto tachado~~\n",
    "`` `Texto monoespaciado` `` | `Texto monoespaciado`\n",
    "`[Link a GitHub](www.github.com)` | [Link a GitHub](www.github.com)\n",
    "`![Una figura](https://www.google.com/images/rss.png)` | ![Una figura](https://raw.githubusercontent.com/dsevilla/notebook-course-public/main/s1/https://www.google.com/images/rss.png)"
   ]
  },
  {
   "cell_type": "markdown",
   "id": "aa8d6f42",
   "metadata": {},
   "source": [
    "## Indentaciones\n",
    "\n",
    "`> Un nivel de indentación`\n",
    "> Indentación 1\n",
    "\n",
    "`>> Dos niveles de indentación`\n",
    ">> Indentación 2\n",
    "\n",
    "`>>> Tres niveles de indentación`\n",
    ">>> Indentación 3"
   ]
  },
  {
   "cell_type": "markdown",
   "id": "bac2baa1",
   "metadata": {},
   "source": [
    "## Listas ordenadas:\n",
    "\n",
    "`1. Elemento 1`  \n",
    "`2. Elemento 2`  \n",
    "`3. Elemento 3`\n",
    "\n",
    "1. Elemento 1\n",
    "2. Elemento 2\n",
    "3. Elemento 3"
   ]
  },
  {
   "cell_type": "markdown",
   "id": "9aa4d90b",
   "metadata": {},
   "source": [
    "## Listas sin ordenar:\n",
    "\n",
    "`* Elemento 1`  \n",
    "`* Elemento 2`  \n",
    "`* Elemento 3`\n",
    "\n",
    "* Elemento 1\n",
    "* Elemento 2\n",
    "* Elemento 3\n",
    "\n",
    "Se pueden emplear otros símbolos para las listas:\n",
    "\n",
    "+ Elemento 1\n",
    "+ Elemento 2\n",
    "+ Elemento 3\n",
    "\n",
    "Y anidar listas:\n",
    "\n",
    "1. Elemento 1\n",
    "  + Elemento 1.1\n",
    "  + Elemento 1.2\n",
    "2. Elemento 2\n",
    "  + Elemento 2.1\n",
    "  + Elemento 2.2"
   ]
  },
  {
   "cell_type": "markdown",
   "id": "9add2741",
   "metadata": {},
   "source": [
    "## Símbolos matemáticos\n",
    "\n",
    "Notación similar a la utilizada en LaTeX:\n",
    "\n",
    "Estilos en Markdown | Resultado\n",
    "------------------- | ----------\n",
    "`$y=x^2$` | $y=x^2$\n",
    "`$e^{i\\pi} + 1 = 0$` | $e^{i\\pi} + 1 = 0$\n",
    "`$e^x=\\sum_{i=0}^\\infty \\frac{1}{i!}x^i$` | $e^x=\\sum_{i=0}^\\infty \\frac{1}{i!}x^i$\n",
    "`$\\frac{n!}{k!(n-k)!} = {n \\choose k}$` | $\\frac{n!}{k!(n-k)!} = {n \\choose k}$"
   ]
  },
  {
   "cell_type": "markdown",
   "id": "d93df349",
   "metadata": {},
   "source": [
    "## Tablas\n",
    "\n",
    "`Cabecera primera columna | Cabecera segunda columna | ... | Cabecera N columna`  \n",
    "`---|---|---|---`  \n",
    "`Fila 1 columna 1 | Fila 1 columna 2 | ... | Fila 1 columna N`  \n",
    "`Fila 2 columna 1 | Fila 2 columna 2 | ... | Fila 2 columna N`  \n",
    "`... | ... | ... | ...`  \n",
    "`Fila M columna 1 | Fila M columna 2 | ... | Fila M columna N`  \n",
    "\n",
    "Cabecera primera columna | Cabecera segunda columna | ... | Cabecera columna N\n",
    "---|---|---|---\n",
    "Fila 1 columna 1 | Fila 1 columna 2 | ... | Fila 1 columna N\n",
    "Fila 2 columna 1 | Fila 2 columna 2 | ... | Fila 2 columna N\n",
    "... | ... | ... | ...\n",
    "Fila M columna 1 | Fila M columna 2 | ... | Fila M columna N"
   ]
  },
  {
   "cell_type": "markdown",
   "id": "48beab63",
   "metadata": {},
   "source": [
    "## Separadores\n",
    "\n",
    "`---`\n",
    "\n",
    "---"
   ]
  },
  {
   "cell_type": "markdown",
   "id": "b086937a",
   "metadata": {},
   "source": [
    "## Bloques de código\n",
    "\n",
    "### Python\n",
    "\n",
    "    ```python\n",
    "    def myFunction(arg1, arg2):\n",
    "      return arg1 + arg2\n",
    "    ```\n",
    "\n",
    "```python\n",
    "def myFunction(arg1, arg2):\n",
    "  return arg1 + arg2\n",
    "```\n",
    "\n",
    "### HTML\n",
    "\n",
    "    ```html\n",
    "    <p>Esto es un párrafo normal</p>\n",
    "    <table>\n",
    "        <tr>\n",
    "            <td>Foo</td>\n",
    "        </tr>\n",
    "    </table>\n",
    "    <p>Esto es otro párrafo normal</p>\n",
    "    ```\n",
    "\n",
    "```html\n",
    "<p>Esto es un párrafo normal</p>\n",
    "\n",
    "<table>\n",
    "  <tr>\n",
    "    <td>Foo</td>\n",
    "  </tr>\n",
    "</table>\n",
    "\n",
    "<p>Esto es otro párrafo normal</p>\n",
    "```"
   ]
  },
  {
   "cell_type": "markdown",
   "id": "b6e880b0",
   "metadata": {
    "tags": []
   },
   "source": [
    "# ¿Qué es Python?"
   ]
  },
  {
   "cell_type": "markdown",
   "id": "9184b791",
   "metadata": {},
   "source": [
    "1. **Publicado en 1991**\n",
    "2. **Diseñado por Guido van Rossum** 🇳🇱\n",
    "3. **Última versión estable:** 3.11 el 24 de octubre de 2022\n",
    "4. **Características interesantes de Python 3**:\n",
    "  + **Consola interactiva**: Python probee de una consola en la que ejecutar comandos y recibir respuestas de forma interactiva. Esto supone un modo de ejecución alternativo al de la ejecución de scripts o clases.\n",
    "  + **Lenguaje interpretado**: El código fuente Python se traduce a bytecode optimizado (ficheros con extensión .pyc) que es ejecutado por el intérprete.\n",
    "  + **Tipado fuerte y dinámico**: No es necesario indicar el tipo de las variables, pero se tiene control sobre la mezcla de tipos.\n",
    "  + **Es un lenguaje multiparadigma**: Soporta orientación a objetos pero también se puede utilizar de forma imperativa o funcional.\n",
    "  + **Lenguaje portable**: Multitud de implementaciones de Python.\n",
    "  + **Lenguaje de alto nivel**: Con una cantidad muy alta de librerías y módulos, algunos de ellos de bajo nivel.\n",
    "  + **Gran número de librerías disponibles**: Existe una comunidad muy numerosa de desarrolladores de Python que ha desarrollado un gran número de librerías de apoyo a la programación. La inmensa mayoría de tareas de programación a realizar han sido desarrolladas ya y se encuentran disponibles en alguna biblioteca pública que se puede utilizar. Algunas de sus bibliotecas más potentes cubren áreas como *machine learning*, análisis de datos o testeo de aplicaciones y procesos con **PyTest** o **PExpect**.\n",
    "\n",
    "5. **Algunas desventajas y carencias del lenguaje**:\n",
    "  + **Ejecución relativamente lenta**: Dado que se trata de un lenguaje interpretado, la ejecución de programas en este lenguaje suele ser más lenta que la ejecución de programas en lenguajes compilados.\n",
    "  + **Tendencia a arrojar errores en tiempo de ejecución**: Provocado por la particularidad de que el lenguaje es tipado dinámicamente. Esto suele propiciar que las aplicaciones desarrolladas en Python requieran un tiempo de testeo adicional.\n",
    "  + **Carencia de librerías para el manejo de bases de datos**: Algunas de las librerías de manejo de bases de datos son de bajo nivel y es tedioso trabajar con ellas."
   ]
  },
  {
   "cell_type": "markdown",
   "id": "91d22c91",
   "metadata": {},
   "source": [
    "![python_popularity](https://raw.githubusercontent.com/dsevilla/notebook-course-public/main/s1/img/python_popularity.png)"
   ]
  },
  {
   "cell_type": "markdown",
   "id": "f9e916ca",
   "metadata": {},
   "source": [
    "| Top 5 most | **loved** languages  |\n",
    "|----|---|\n",
    "| **Rust** | 86.73% |\n",
    "| **Elixir**  | 75.46% |\n",
    "| **Clojure** | 75.23% |\n",
    "| **TypeScript** | 73.46% |\n",
    "| **Julia**  | 72.51% |\n",
    "| **Python**  | 67.34% |\n",
    "\n",
    "| Top 5 most | **wanted** languages  |\n",
    "|----|---|\n",
    "| **Rust** | 17.6% |\n",
    "| **Python** | 17.59% |\n",
    "| **TypeScript**  | 17.03% |\n",
    "| **Go** | 16.41% |\n",
    "| **JavaScript** | 12.98% |\n",
    "| **Kotlin**  | 8.08% |"
   ]
  },
  {
   "cell_type": "markdown",
   "id": "7f966520",
   "metadata": {},
   "source": [
    "## Instalación de paquetes con _pip_"
   ]
  },
  {
   "cell_type": "markdown",
   "id": "f31b6e05",
   "metadata": {},
   "source": [
    "+ **pip** es un gestor de paquetes utilizado para instalar y administrar paquetes de software escritos en Python.\n",
    "+ Su desarrollador (**PyPA**) mantiene un repositorio con un índice que se puede consultar para buscar paquetes de utilidad.\n",
    "+ Muchos paquetes de software pueden ser encontrados en el **Python Package Index** (PyPI): https://pypi.org/\n",
    "+ **pip** viene instalado por defecto desde las versiones **Python 2.7.9** (en la serie para Python2) y **Python 3.4** (en la serie para Python3).\n",
    "\n",
    "**(pip debería haberse instalado automáticamente con Python en el sistema)**\n",
    "\n",
    "+ Para comprobar si **pip** está instalado en la máquina:\n",
    "  + `pip --version`\n",
    "  + Si **pip** no está instalado en la máquina: https://pip.pypa.io/en/stable/installation/"
   ]
  },
  {
   "cell_type": "markdown",
   "id": "7c7c36e5",
   "metadata": {},
   "source": [
    "Para descargar cualquier paquete de software:\n",
    "+ `pip install [options] <package>`\n",
    "\n",
    "+ El entorno Jupyter Notebook no incluye todas las librerías posibles.\n",
    "+ Es necesario utilizar instrucciones _pip install_ cuando sea necesario.\n",
    "+ Es común comenzar un notebook con una serie de instrucciones `pip install` para descargar las dependencias que hagan falta más adelante.\n",
    "\n",
    "(Notar que este comando es un **magic command**, que se verá más adelante)"
   ]
  },
  {
   "cell_type": "markdown",
   "id": "99a15440",
   "metadata": {},
   "source": [
    "**Ejemplo**: Utilizando la librería *geocoder*"
   ]
  },
  {
   "cell_type": "markdown",
   "id": "69b1f604",
   "metadata": {},
   "source": [
    "![module_not_found](https://raw.githubusercontent.com/dsevilla/notebook-course-public/main/s1/img/pip_module_not_found.png)"
   ]
  },
  {
   "cell_type": "code",
   "execution_count": null,
   "id": "4c90f3c2",
   "metadata": {},
   "outputs": [],
   "source": [
    "%pip install geocoder"
   ]
  },
  {
   "cell_type": "code",
   "execution_count": null,
   "id": "87c788bd",
   "metadata": {},
   "outputs": [],
   "source": [
    "import geocoder\n",
    "\n",
    "example = geocoder.ip(\"8.8.8.8\")\n",
    "print(example.latlng)\n",
    "print(example.city)\n",
    "print(example.country)"
   ]
  },
  {
   "cell_type": "markdown",
   "id": "99bd82cd",
   "metadata": {},
   "source": [
    "+ Para consultar todas las posibles opciones de **pip**:\n",
    "  - `pip --help`\n",
    "+ Para consultar la ayuda de una opción específicamente:\n",
    "  - `pip [command] --help`\n",
    "+ Opciones más comúnes:\n",
    "  - `pip uninstall`: Elimina un paquete.\n",
    "  - `pip list`: Muestra todos los paquetes junto con su versión actual.\n",
    "  - `pip install --upgrade`: Actualiza una librería.\n",
    "+ **Idea**: Crear una hoja Jupyter para gestionar las dependencias con las instrucciones **pip** necesarias y sus includes correspondientes, y reutilizar esta hoja (cargarla) desde otras hojas Jupyter."
   ]
  },
  {
   "cell_type": "code",
   "execution_count": null,
   "id": "09729541",
   "metadata": {},
   "outputs": [],
   "source": [
    "%pip list"
   ]
  },
  {
   "cell_type": "markdown",
   "id": "806eaf90",
   "metadata": {},
   "source": [
    "## Python básico\n",
    "\n",
    "Las reglas básicas para escribir expresiones simples en Python son:\n",
    "\n",
    "* No se pueden dejar espacios o tabuladores antes de las expresiones, ya que la indentación es también parte del lenguaje (se verá después en la parte de sentencias de control). Por ahora todas las instrucciones comenzarán al principio de la línea.\n",
    "* El carácter `#` indica que el resto de la línea es un comentario\n",
    "* Las expresiones finalizan al final de la línea\n",
    "  * Excepto cuando hay un paréntesis, llave o corchete abiertos:\n",
    "  \n",
    "```python\n",
    "1+2\n",
    "+3  # continuación ilegal de la suma\n",
    "(1+2\n",
    "             + 3) # OK, incluso con espacios\n",
    "```"
   ]
  },
  {
   "cell_type": "code",
   "execution_count": null,
   "id": "4cb354f9",
   "metadata": {},
   "outputs": [],
   "source": [
    "1+2+3"
   ]
  },
  {
   "cell_type": "markdown",
   "id": "caaae678",
   "metadata": {},
   "source": [
    "Python tiene una ayuda bastante considerable incluída en el intérprete. Se puede ejecutar la orden **help()** para una introducción, o bien **help(x)** para obtener la ayuda de un término. Por ejemplo:"
   ]
  },
  {
   "cell_type": "code",
   "execution_count": null,
   "id": "9e9fd3b3",
   "metadata": {},
   "outputs": [],
   "source": [
    "help(print)"
   ]
  },
  {
   "cell_type": "markdown",
   "id": "974f7b0c",
   "metadata": {},
   "source": [
    "## Variables y valores"
   ]
  },
  {
   "cell_type": "markdown",
   "id": "123cfe5d",
   "metadata": {},
   "source": [
    "Un nombre que se usa para denotar algo o a un valor es llamado variable. En Python, las variables se pueden declarar y asignar así:"
   ]
  },
  {
   "cell_type": "code",
   "execution_count": null,
   "id": "18201872",
   "metadata": {},
   "outputs": [],
   "source": [
    "x  = 2          # comentario\n",
    "y  = 5\n",
    "xy = 'Hey'\n",
    "print(x+y, xy) "
   ]
  },
  {
   "cell_type": "markdown",
   "id": "d20c2e06",
   "metadata": {},
   "source": [
    "Se le puede asignar el valor a varias variables a la vez."
   ]
  },
  {
   "cell_type": "code",
   "execution_count": null,
   "id": "89a4b2f9",
   "metadata": {},
   "outputs": [],
   "source": [
    "x = y = 1\n",
    "print(x,y)"
   ]
  },
  {
   "cell_type": "markdown",
   "id": "a1084aa0",
   "metadata": {},
   "source": [
    "Los tipos básicos de Python incluyen `float` (números en coma flotante), `int` (enteros), `str` (cadenas de caracteres unicode en Python 3) y `bool` (boolean). Ejemplos:"
   ]
  },
  {
   "cell_type": "code",
   "execution_count": null,
   "id": "77f4f13e",
   "metadata": {},
   "outputs": [],
   "source": [
    "2.0           # número en coma flotante\n",
    "1e100         # googol \n",
    "-1234567890   # un entero\n",
    "True or False # Los dos valores booleanos posibles\n",
    "'Esto es un string'\n",
    "\"Otro String\"\n",
    "print(\"\"\"Triples comillas (también con '''), permiten que las cadenas se dividan en varias líneas.\n",
    "Además, \\n es el carácter de nueva línea (\\t para tab, \\\\ es una barra inversa)\"\"\")"
   ]
  },
  {
   "cell_type": "markdown",
   "id": "bd0242e5",
   "metadata": {},
   "source": [
    "Python también tiene números complejos. Se escriben como sigue. Los paréntesis son necesarios."
   ]
  },
  {
   "cell_type": "code",
   "execution_count": null,
   "id": "c0ae43c6",
   "metadata": {},
   "outputs": [],
   "source": [
    "complex(1,2)\n",
    "(1+2j) # el mismo número que antes"
   ]
  },
  {
   "cell_type": "markdown",
   "id": "e2dec3c1",
   "metadata": {},
   "source": [
    "## Operadores aritméticos"
   ]
  },
  {
   "cell_type": "markdown",
   "id": "273a4df4",
   "metadata": {},
   "source": [
    "| Símbolo | Tarea  |\n",
    "|----|---|\n",
    "| +  | Suma |\n",
    "| -  | Resta |\n",
    "| /  | división |\n",
    "| %  | mod |\n",
    "| *  | multiplicación |\n",
    "| //  | división entera |\n",
    "| **  | elevar a la potencia |"
   ]
  },
  {
   "cell_type": "code",
   "execution_count": null,
   "id": "5b8b4cd8",
   "metadata": {},
   "outputs": [],
   "source": [
    "1+2\n",
    "2-1\n",
    "1*2\n",
    "3/4\n",
    "15%10"
   ]
  },
  {
   "cell_type": "markdown",
   "id": "36e17f4d",
   "metadata": {},
   "source": [
    "Python, de forma nativa, permite enteros de longitud (casi) infinita, mientras que los números de coma flotante son de doble precisión:"
   ]
  },
  {
   "cell_type": "code",
   "execution_count": null,
   "id": "a40912a5",
   "metadata": {},
   "outputs": [],
   "source": [
    "11**300"
   ]
  },
  {
   "cell_type": "code",
   "execution_count": null,
   "id": "602ca15b",
   "metadata": {},
   "outputs": [],
   "source": [
    "try:\n",
    "    11.0**300\n",
    "except OverflowError as err:\n",
    "    print('Overflowed: ', err)"
   ]
  },
  {
   "cell_type": "markdown",
   "id": "3bb9743d",
   "metadata": {},
   "source": [
    "En Python no está definido el operador `++` ni `--` para aumentar o decrementar el valor de variables. Sí están definidos los atajos `+=`, `-=`...`/=`"
   ]
  },
  {
   "cell_type": "code",
   "execution_count": null,
   "id": "f5ad60ab",
   "metadata": {},
   "outputs": [],
   "source": [
    "x = 5\n",
    "x += 1\n",
    "print(x)\n",
    "\n",
    "x -= 2\n",
    "print(x)\n",
    "\n",
    "print(++x)   # Ojo, no está definido. x++ arroja error de sintaxis\n",
    "print(--x)"
   ]
  },
  {
   "cell_type": "markdown",
   "id": "88112aab",
   "metadata": {},
   "source": [
    "## Operadores relacionales"
   ]
  },
  {
   "cell_type": "markdown",
   "id": "73fb33c1",
   "metadata": {},
   "source": [
    "| Símbolo | Tarea |\n",
    "|----|---|\n",
    "| == | True si es igual |\n",
    "| !=  | True si no es igual |\n",
    "| < | menos que |\n",
    "| > | mayor qué |\n",
    "| <=  | menor o igual que |\n",
    "| >=  | mayor o igual que |\n",
    "\n",
    "Nótese la diferencia entre `==` (test de igualdad) y `=` (asignación)"
   ]
  },
  {
   "cell_type": "code",
   "execution_count": null,
   "id": "a44cfd35",
   "metadata": {},
   "outputs": [],
   "source": [
    "z = 2\n",
    "z == 2"
   ]
  },
  {
   "cell_type": "code",
   "execution_count": null,
   "id": "7ca57645",
   "metadata": {},
   "outputs": [],
   "source": [
    "z > 2"
   ]
  },
  {
   "cell_type": "markdown",
   "id": "86242bec",
   "metadata": {},
   "source": [
    "Las comparaciones también se pueden encadenar de manera matemática. Lo siguiente funciona en Python, aunque no en otros lenguajes como C o C++:"
   ]
  },
  {
   "cell_type": "code",
   "execution_count": null,
   "id": "78b7f68d",
   "metadata": {},
   "outputs": [],
   "source": [
    "0.5 < z <= 1"
   ]
  },
  {
   "cell_type": "markdown",
   "id": "b43eec8b",
   "metadata": {},
   "source": [
    "## Operadores booleanos y de bits"
   ]
  },
  {
   "cell_type": "markdown",
   "id": "0019413e",
   "metadata": {},
   "source": [
    "| Operador| Significado | Símbolo | Tarea |\n",
    "|----|--- |----|---|\n",
    "| `and` | Y lógico  | `&`  | Y de bits |\n",
    "| `or`  | Ó lógico  | $\\mid$  | Ó de bits|\n",
    "| -- | -- |   `^`  | Ó exclusivo |\n",
    "| `not` | No |  `~`  | Negar |\n",
    "| -- | -- |  `>>`  | Desplazamiento a la derecha |\n",
    "| -- | -- |  `<<`  | Desplazamiento a la izquierda  |"
   ]
  },
  {
   "cell_type": "code",
   "execution_count": null,
   "id": "c5ef9317",
   "metadata": {},
   "outputs": [],
   "source": [
    "a = 2 #binario: 10\n",
    "b = 3 #binario: 11\n",
    "print('a & b =',a & b,\"=\",bin(a&b))\n",
    "print('a | b =',a | b,\"=\",bin(a|b))\n",
    "print('a ^ b =',a ^ b,\"=\",bin(a^b))"
   ]
  },
  {
   "cell_type": "code",
   "execution_count": null,
   "id": "214fb014",
   "metadata": {},
   "outputs": [],
   "source": [
    "print( not (True and False), \"==\", not True or not False)"
   ]
  },
  {
   "cell_type": "markdown",
   "id": "5147669f",
   "metadata": {},
   "source": [
    "## La función `print()`"
   ]
  },
  {
   "cell_type": "markdown",
   "id": "a0c0e662",
   "metadata": {},
   "source": [
    "Como se ha visto antes, la función **print()** imprime todos sus argumentos como un string, separados por espacios y seguidos por un retorno de línea:\n",
    "\n",
    "    - print(\"Hola Mundo\")\n",
    "    - print(\"Hola\",'Mundo')\n",
    "    - print(\"Hola\", <Variable que contiene la cadena>)"
   ]
  },
  {
   "cell_type": "code",
   "execution_count": null,
   "id": "328efcd0",
   "metadata": {},
   "outputs": [],
   "source": [
    "print(\"Hola\", \"Mundo\")"
   ]
  },
  {
   "cell_type": "markdown",
   "id": "184d5e0e",
   "metadata": {},
   "source": [
    "**print()** tiene algunos argumentos opcionales para controlar dónde y cómo imprimir. Esto incluye `sep`, el separador (por defecto un espacio) y `end` (el carácter final), y `file`, para imprimir a un fichero."
   ]
  },
  {
   "cell_type": "code",
   "execution_count": null,
   "id": "e658d6c3",
   "metadata": {},
   "outputs": [],
   "source": [
    "print(\"Hola\", \"Mundo\", sep='...', end='!!')"
   ]
  },
  {
   "cell_type": "markdown",
   "id": "6f4b3017",
   "metadata": {},
   "source": [
    "Hay muchos métodos para formatear y manipular cadenas dentro de Python. Algunos de ellos se muestran a continuación.\n",
    "\n",
    "La concatenación de dos cadenas es la \"suma\" de dos cadenas. Al concatenar no se incluirá ningún espacio entre cadenas."
   ]
  },
  {
   "cell_type": "code",
   "execution_count": null,
   "id": "83af7b1b",
   "metadata": {},
   "outputs": [],
   "source": [
    "string1 = 'Mundo'\n",
    "string2 = '!'\n",
    "print('Hola ' + string1 + string2)"
   ]
  },
  {
   "cell_type": "markdown",
   "id": "a1decdf9",
   "metadata": {},
   "source": [
    "El operador **%** se usa para formatear una cadena insertando valores que vienen después. Se basa en que la cadena contenga especificadores de formato que identifican dónde insertar los valores. Los tipos más comunes son:\n",
    "\n",
    "    - %s -> string\n",
    "    - %d -> Entero\n",
    "    - %f -> Float\n",
    "    - %o -> Octal\n",
    "    - %x -> Hexadecimal\n",
    "    - %e -> exponencial"
   ]
  },
  {
   "cell_type": "code",
   "execution_count": null,
   "id": "274d2362",
   "metadata": {},
   "outputs": [],
   "source": [
    "print(\"Hola %s\" % string1)\n",
    "print(\"Número = %d\" %18)\n",
    "print(\"Float del número = %f\" %18)\n",
    "print(\"Octal equivalente = %o\" %18)\n",
    "print(\"Hexadecimal equivalente = %x\" %18)\n",
    "print(\"Exponencial equivalente = %e\" %18)"
   ]
  },
  {
   "cell_type": "markdown",
   "id": "51914d6f",
   "metadata": {},
   "source": [
    "También se puede especificar el ancho del campo y el número de decimales a usar. Por ejemplo:"
   ]
  },
  {
   "cell_type": "code",
   "execution_count": null,
   "id": "2db84211",
   "metadata": {},
   "outputs": [],
   "source": [
    "print('Print ancho 10: |%10s|'%'x')\n",
    "print('Print ancho 10: |%-10s|'%'x') # justificado a la izquierda\n",
    "print(\"El número pi = %.2f con dos dígitos decimales\"%3.1415)\n",
    "print(\"pi más espaciado = %10.2f\"%3.1415)\n",
    "print(\"Rellenado pi con 0 = %010.2f\"%3.1415) # rellenado con zeros"
   ]
  },
  {
   "cell_type": "markdown",
   "id": "0710ab46",
   "metadata": {},
   "source": [
    "Existe la posibilidad de proporcionar a la función `print()` una cadena de texto formateada con variables del entorno. Para ello se debe preceder la cadena de texto con el carácter `f`, como se observa a continuación:"
   ]
  },
  {
   "cell_type": "code",
   "execution_count": null,
   "id": "2aa467c0",
   "metadata": {},
   "outputs": [],
   "source": [
    "string1 = \"Hello\"\n",
    "string2 = \"World!\"\n",
    "number = 12345\n",
    "\n",
    "print(f\"{string1} {string2} y algunos numeros: {number}\")"
   ]
  },
  {
   "cell_type": "markdown",
   "id": "abcab0cf",
   "metadata": {},
   "source": [
    "## Conversión de valores"
   ]
  },
  {
   "cell_type": "markdown",
   "id": "668467f6",
   "metadata": {},
   "source": [
    "**int( )** convierte un número en un entero. Puede ser un número en coma flotante, entero o un string. Para strings, se puede especifical de forma opcional la base."
   ]
  },
  {
   "cell_type": "code",
   "execution_count": null,
   "id": "f08b5dd0",
   "metadata": {},
   "outputs": [],
   "source": [
    "print(int(7.7), int('111',2),int('7'))"
   ]
  },
  {
   "cell_type": "markdown",
   "id": "4d72fb76",
   "metadata": {},
   "source": [
    " De manera similar, la función **str()** se puede usar para convertir casi cualquier cosa a un string:"
   ]
  },
  {
   "cell_type": "code",
   "execution_count": null,
   "id": "54c63890",
   "metadata": {},
   "outputs": [],
   "source": [
    "print(str(True),str(1.2345678),str(-2))"
   ]
  },
  {
   "cell_type": "markdown",
   "id": "9c00794f",
   "metadata": {},
   "source": [
    "## La función `input()`"
   ]
  },
  {
   "cell_type": "markdown",
   "id": "f5846ef0",
   "metadata": {},
   "source": [
    "**input(prompt)** pregunta al usuario y retorna un string. Es una función útil para usar con **eval()**, que acepta una cadena y la evalúa como si fuera una expresión Python."
   ]
  },
  {
   "cell_type": "code",
   "execution_count": null,
   "id": "788f783d",
   "metadata": {},
   "outputs": [],
   "source": [
    "abc = input(\"abc = \")\n",
    "abcValue = eval(abc)\n",
    "print(abc,'=',abcValue)"
   ]
  },
  {
   "cell_type": "markdown",
   "id": "0cf4dfe0",
   "metadata": {},
   "source": [
    "## La función `isinstance()`\n",
    "\n",
    "**isinstance(myVar, type)** devuelve **True** si **myVar** es de tipo **type**, o **False** en caso contrario."
   ]
  },
  {
   "cell_type": "code",
   "execution_count": null,
   "id": "cee8bf7f",
   "metadata": {},
   "outputs": [],
   "source": [
    "abc = \"abc\"\n",
    "number1 = 35\n",
    "number2 = 2.0\n",
    "\n",
    "print(isinstance(abc, str))\n",
    "print(isinstance(number1, int))\n",
    "print(isinstance(number2, float))"
   ]
  },
  {
   "cell_type": "markdown",
   "id": "95f5af82",
   "metadata": {},
   "source": [
    "## Sentencias de control de flujo\n",
    "El detalle más importante de las sentencias de control de flujo de Python y de la estructura de programas es que usa _indentación_ para marcar los bloques. Así, la cantidad de espacios en blanco (o caracteres tabulador) al principio de una línea es muy importante. Eso generalmente ayuda a hacer el código más legible, pero puede resultar difícil al principio."
   ]
  },
  {
   "cell_type": "markdown",
   "id": "aa22d9ed",
   "metadata": {},
   "source": [
    "## Estructuras condicionales\n",
    "\n",
    "### If\n",
    "\n",
    "```python\n",
    "if condición:\n",
    "    bloque de código```"
   ]
  },
  {
   "cell_type": "code",
   "execution_count": null,
   "id": "fe9a8dfb",
   "metadata": {},
   "outputs": [],
   "source": [
    "x = 12\n",
    "\n",
    "if x > 10:\n",
    "  print(\"Hola\")"
   ]
  },
  {
   "cell_type": "markdown",
   "id": "92a8f567",
   "metadata": {},
   "source": [
    "### If-else\n",
    "\n",
    "```python\n",
    "if condición:\n",
    "    algoritmo\n",
    "else:\n",
    "    algoritmo```\n",
    "    "
   ]
  },
  {
   "cell_type": "code",
   "execution_count": null,
   "id": "76e48aa8",
   "metadata": {},
   "outputs": [],
   "source": [
    "x = 12\n",
    "\n",
    "if 10 < x < 11:\n",
    "    print(\"hola\")\n",
    "else:\n",
    "    print(\"mundo\")"
   ]
  },
  {
   "cell_type": "markdown",
   "id": "ac4e4274",
   "metadata": {},
   "source": [
    "### Else if\n",
    "\n",
    "```python\n",
    "if condición:\n",
    "    algoritmo\n",
    "elif condición:\n",
    "    algoritmo\n",
    "else:\n",
    "    algoritmo```"
   ]
  },
  {
   "cell_type": "code",
   "execution_count": null,
   "id": "6ecde8bb",
   "metadata": {},
   "outputs": [],
   "source": [
    "x = 10\n",
    "y = 12\n",
    "\n",
    "if x > y:\n",
    "    print(\"x>y\")\n",
    "elif x < y:\n",
    "    print(\"x<y\")\n",
    "else:\n",
    "    print(\"x=y\")"
   ]
  },
  {
   "cell_type": "markdown",
   "id": "2c6c6499",
   "metadata": {},
   "source": [
    "Se pueden tener también ifs anidados:"
   ]
  },
  {
   "cell_type": "code",
   "execution_count": null,
   "id": "6fb43c16",
   "metadata": {},
   "outputs": [],
   "source": [
    "x = 10\n",
    "y = 12\n",
    "\n",
    "if x > y:\n",
    "    print(\"x>y\")\n",
    "elif x < y:\n",
    "    print(\"x<y\")\n",
    "    if x==10:\n",
    "        print(\"x=10\")\n",
    "    else:\n",
    "        print(\"inválido\")\n",
    "else:\n",
    "    print(\"x = y\")"
   ]
  },
  {
   "cell_type": "markdown",
   "id": "1aa8fa9c",
   "metadata": {},
   "source": [
    "### Switch-case\n",
    "\n",
    "No hay una estructura switch-case disponible en Python. Una estructura de control casi similar se puede implementar en base a if-elses o bien en base a diccionarios."
   ]
  },
  {
   "cell_type": "markdown",
   "id": "49a9aae1",
   "metadata": {},
   "source": [
    "## Estructuras de control de flujo\n",
    "\n",
    "### For\n",
    "\n",
    "```python\n",
    "for variable in algo:\n",
    "    algoritmo```\n",
    "    \n",
    "Cuando se hace un bucle sobre enteros, la función **range()** es útil, ya que genera un rango de enteros:\n",
    "* range(n) =  0, 1, ..., n-1\n",
    "* range(m,n)= m, m+1, ..., n-1\n",
    "* range(m,n,s)= m, m+s, m+2s, ..., m + ((n-m-1)//s) * s"
   ]
  },
  {
   "cell_type": "code",
   "execution_count": null,
   "id": "3f5cd784",
   "metadata": {},
   "outputs": [],
   "source": [
    "for ch in 'abc':\n",
    "    print(ch)\n",
    "\n",
    "total = 0\n",
    "\n",
    "for i in range(5):\n",
    "    total += i\n",
    "\n",
    "print(\"total =\", total)\n",
    "\n",
    "for i,j in [(1,2),(3,1)]:\n",
    "    total += i**j\n",
    "\n",
    "print(\"total ahora =\", total)"
   ]
  },
  {
   "cell_type": "markdown",
   "id": "930d4569",
   "metadata": {},
   "source": [
    "En el ejemplo anterior, `i` itera sobre 0,1,2,3,4. Cada vez que se coge un valor, se ejecuta una iteración del bucle. También es posible iterar en elementos embebidos, como se muestra a continuación:"
   ]
  },
  {
   "cell_type": "code",
   "execution_count": null,
   "id": "9fe05bb1",
   "metadata": {},
   "outputs": [],
   "source": [
    "list_of_lists = [[1, 2, 3], [4, 5, 6], [7, 8, 9]]\n",
    "\n",
    "for list1 in list_of_lists:\n",
    "    print(list1)"
   ]
  },
  {
   "cell_type": "markdown",
   "id": "32ed37c0",
   "metadata": {},
   "source": [
    "Un bucle embebido puede ser:"
   ]
  },
  {
   "cell_type": "code",
   "execution_count": null,
   "id": "defdad44",
   "metadata": {},
   "outputs": [],
   "source": [
    "list_of_lists = [[1, 2, 3], [4, 5, 6], [7, 8, 9]]\n",
    "total = 0\n",
    "\n",
    "for list1 in list_of_lists:\n",
    "    for x in list1:\n",
    "        total = total+x\n",
    "print(total)"
   ]
  },
  {
   "cell_type": "markdown",
   "id": "025f6635",
   "metadata": {},
   "source": [
    "Hay muchas funciones que pueden ser muy útiles en un **for**. Por ejemplo, **enumerate()**, **zip()**, **sorted()**, **reversed()**"
   ]
  },
  {
   "cell_type": "code",
   "execution_count": null,
   "id": "98f817d9",
   "metadata": {},
   "outputs": [],
   "source": [
    "print(\"reversed: \",end=\"\")\n",
    "for ch in reversed(\"abc\"):\n",
    "    print(ch,end=\";\")\n",
    "\n",
    "print(\"\\nenumerated: \")\n",
    "for i,ch in enumerate(\"abc\"):\n",
    "    print(i,\"=\",ch,end=\"; \")\n",
    "\n",
    "print(\"\\nzip'ed: \")\n",
    "for a,x in zip(\"abc\",\"xyz\"):\n",
    "    print(a,\":\",x)"
   ]
  },
  {
   "cell_type": "markdown",
   "id": "1940e7db",
   "metadata": {},
   "source": [
    "### While\n",
    "\n",
    "```python\n",
    "while condición:  \n",
    "    algoritmo```"
   ]
  },
  {
   "cell_type": "code",
   "execution_count": null,
   "id": "8228504b",
   "metadata": {},
   "outputs": [],
   "source": [
    "i = 1\n",
    "\n",
    "while i < 3:\n",
    "    print(i ** 2)\n",
    "    i = i+1\n",
    "print('Bye')"
   ]
  },
  {
   "cell_type": "markdown",
   "id": "c2941a70",
   "metadata": {},
   "source": [
    "### Break\n",
    "\n",
    "Como su nombre indica, se usa para romper un bucle cuando una condición se convierte en verdadera."
   ]
  },
  {
   "cell_type": "code",
   "execution_count": null,
   "id": "3e7afdc3",
   "metadata": {},
   "outputs": [],
   "source": [
    "for i in range(100):\n",
    "    print(i)\n",
    "    if i >= 7:\n",
    "        break"
   ]
  },
  {
   "cell_type": "markdown",
   "id": "e91c7504",
   "metadata": {},
   "source": [
    "### Continue\n",
    "\n",
    "Continúa el resto del bucle. A veces cuando se satisface una condición, es interesante ignorar algún elemento o continuar por el siguiente sin ejecutar cierta parte del bucle."
   ]
  },
  {
   "cell_type": "code",
   "execution_count": null,
   "id": "d41fa606",
   "metadata": {},
   "outputs": [],
   "source": [
    "for i in range(10):\n",
    "    if i > 4:\n",
    "        print(\"Ignorado\", i)\n",
    "        continue\n",
    "    # no se alcanza si i > 4\n",
    "    print(\"Procesado\", i)"
   ]
  },
  {
   "cell_type": "markdown",
   "id": "58be247a",
   "metadata": {},
   "source": [
    "## Funciones, clases y excepciones"
   ]
  },
  {
   "cell_type": "markdown",
   "id": "66c407e0",
   "metadata": {},
   "source": [
    "Esta es la sintaxis básica de una función\n",
    "\n",
    "```python\n",
    "def func(arg1, arg2,... argN):\n",
    "    ''' Documentación '''\n",
    "    sentencias\n",
    "    return <valor>```"
   ]
  },
  {
   "cell_type": "markdown",
   "id": "ce4d42aa",
   "metadata": {},
   "source": [
    "La sintaxis de arriba puede leerse como una función \"func\" es definida, que acepta argumentos \"arg1,arg2,....argN\". La función se documenta a través de la cadena '''Documentación'''. La función, después de ejecutar las sentencias retorna \"valor\".\n",
    "\n",
    "Los valores de retorno son opcionales. Por defecto cualquier función retorna **None** si no se especifica ningún valor de retorno."
   ]
  },
  {
   "cell_type": "code",
   "execution_count": null,
   "id": "95c8cbeb",
   "metadata": {},
   "outputs": [],
   "source": [
    "print(\"Hola Jack.\")\n",
    "print(\"Jack, ¿cómo estás?\")"
   ]
  },
  {
   "cell_type": "markdown",
   "id": "0550a5d9",
   "metadata": {},
   "source": [
    "Con una función se pueden agrupar estas sentencias:"
   ]
  },
  {
   "cell_type": "code",
   "execution_count": null,
   "id": "203aa69b",
   "metadata": {},
   "outputs": [],
   "source": [
    "def firstfunc():\n",
    "    print(\"Hola Jack.\")\n",
    "    print(\"Jack, ¿cómo estás?\")\n",
    "\n",
    "firstfunc() # ejecuta la función"
   ]
  },
  {
   "cell_type": "markdown",
   "id": "c7432fec",
   "metadata": {},
   "source": [
    "**firstfunc()** cada vez que se llama imprime el mensaje para una persona. Podemos hacer que la función acepte argumentos, que guardarán el nombre de la persona. Para eso añadimos un argumento como sigue:"
   ]
  },
  {
   "cell_type": "code",
   "execution_count": null,
   "id": "72c4da18",
   "metadata": {},
   "outputs": [],
   "source": [
    "def firstfunc(username):\n",
    "    print(\"Hola %s.\" % username)\n",
    "    print(username + ',' ,\"¿cómo estás?\")"
   ]
  },
  {
   "cell_type": "code",
   "execution_count": null,
   "id": "208403ff",
   "metadata": {},
   "outputs": [],
   "source": [
    "nombre1 = 'Pepe' # o se puede usar input('Inserte su nombre: ')"
   ]
  },
  {
   "cell_type": "markdown",
   "id": "735a6e55",
   "metadata": {},
   "source": [
    "Pasamos esa variable a la función:"
   ]
  },
  {
   "cell_type": "code",
   "execution_count": null,
   "id": "5e92a158",
   "metadata": {},
   "outputs": [],
   "source": [
    "firstfunc(nombre1)"
   ]
  },
  {
   "cell_type": "markdown",
   "id": "06f87c8c",
   "metadata": {},
   "source": [
    "## Sentencia `return`"
   ]
  },
  {
   "cell_type": "markdown",
   "id": "24fefcc9",
   "metadata": {},
   "source": [
    "Cuando se tiene que retornar algún resultado, se utiliza la sentencia `return`:"
   ]
  },
  {
   "cell_type": "code",
   "execution_count": null,
   "id": "72716ad4",
   "metadata": {},
   "outputs": [],
   "source": [
    "def times(x,y):\n",
    "    z = x * y\n",
    "    return z"
   ]
  },
  {
   "cell_type": "markdown",
   "id": "91a6d896",
   "metadata": {},
   "source": [
    "La función **times()** acepta dos argumentos y retorna la variable z que contiene  el resultado del producto de ambos argumentos."
   ]
  },
  {
   "cell_type": "code",
   "execution_count": null,
   "id": "b242a9b0",
   "metadata": {},
   "outputs": [],
   "source": [
    "c = times(4,5)\n",
    "print(c)"
   ]
  },
  {
   "cell_type": "markdown",
   "id": "a8b27075",
   "metadata": {},
   "source": [
    "También se puede retornar directamente el valor y también documentar la función:"
   ]
  },
  {
   "cell_type": "code",
   "execution_count": null,
   "id": "2b419eae",
   "metadata": {},
   "outputs": [],
   "source": [
    "def times(x,y):\n",
    "    '''Multiplica sus dos argumentos'''\n",
    "    return x * y"
   ]
  },
  {
   "cell_type": "code",
   "execution_count": null,
   "id": "db04a21d",
   "metadata": {},
   "outputs": [],
   "source": [
    "c = times(4, 5)\n",
    "print(c)"
   ]
  },
  {
   "cell_type": "markdown",
   "id": "69bc7676",
   "metadata": {},
   "source": [
    "Ya que **times()** está definida y documentada, podemos ver su cometido a través de la función **help()**."
   ]
  },
  {
   "cell_type": "code",
   "execution_count": null,
   "id": "0f2a6dc4",
   "metadata": {},
   "outputs": [],
   "source": [
    "help(times)"
   ]
  },
  {
   "cell_type": "markdown",
   "id": "aa78f27f",
   "metadata": {},
   "source": [
    "Se pueden retornar un número dado de valores como una tupla. Sin embargo, esto no es muy legible cuando se retornan muchos valores, y puede llevar muy fácilmente a errores cuando se malinterpreta el orden de los valores."
   ]
  },
  {
   "cell_type": "code",
   "execution_count": null,
   "id": "6b9e8fa1",
   "metadata": {},
   "outputs": [],
   "source": [
    "eglist = [10, 50, 30, 12, 6, 8, 100]"
   ]
  },
  {
   "cell_type": "code",
   "execution_count": null,
   "id": "c5c02197",
   "metadata": {},
   "outputs": [],
   "source": [
    "def egfunc(eglist):\n",
    "    mayor = max(eglist)\n",
    "    menor = min(eglist)\n",
    "    primero = eglist[0]\n",
    "    último = eglist[-1]\n",
    "\n",
    "    return mayor, menor, primero, último"
   ]
  },
  {
   "cell_type": "markdown",
   "id": "8a3bc6e6",
   "metadata": {},
   "source": [
    "Si la función se llama sin asignárselo a ninguna variable, se retorna una tupla. Pero si se utilizan un conjunto de variables, se les asigna su valor en orden:"
   ]
  },
  {
   "cell_type": "code",
   "execution_count": null,
   "id": "4ce22d58",
   "metadata": {},
   "outputs": [],
   "source": [
    "egfunc(eglist)"
   ]
  },
  {
   "cell_type": "code",
   "execution_count": null,
   "id": "7812a93d",
   "metadata": {},
   "outputs": [],
   "source": [
    "a, b, c, d = egfunc(eglist)\n",
    "print('a =', a,'b =', b,'c =', c,'d =', d)"
   ]
  },
  {
   "cell_type": "markdown",
   "id": "e453fef5",
   "metadata": {},
   "source": [
    "## Tipos opcionales en funciones\n",
    "\n",
    "Desde Python 3.5 es posible definir tipos en los parámetros de entrada y de salida de una función. Esto es útil a la hora de aplicar validadores estáticos al código, así como para documentar de forma más eficaz clases y funciones."
   ]
  },
  {
   "cell_type": "code",
   "execution_count": null,
   "id": "b43c7e1f",
   "metadata": {},
   "outputs": [],
   "source": [
    "def times(x,y):\n",
    "    z = x * y\n",
    "    return z\n",
    "\n",
    "### Puede ser reescrito como:\n",
    "\n",
    "def times(x: int, y: int) -> int:\n",
    "    z = x * y\n",
    "    return z\n",
    "\n",
    "help(times)"
   ]
  },
  {
   "cell_type": "markdown",
   "id": "81474cc2",
   "metadata": {},
   "source": [
    "## Argumentos por defecto"
   ]
  },
  {
   "cell_type": "markdown",
   "id": "6ec9d3d7",
   "metadata": {},
   "source": [
    "Cuando un argumento de una función tiene un valor muy común la mayoría de las veces, se le puede especificar un valor por defecto. También se le llama un argumento implícito."
   ]
  },
  {
   "cell_type": "code",
   "execution_count": null,
   "id": "515628f1",
   "metadata": {},
   "outputs": [],
   "source": [
    "def sumaimplicita(x, y = 3, z = 0):\n",
    "    print(\"%d + %d + %d = %d\"%(x, y, z, x + y + z))\n",
    "    return x + y + z"
   ]
  },
  {
   "cell_type": "markdown",
   "id": "89f3d400",
   "metadata": {},
   "source": [
    "**sumaimplicita( )** es una función que acepta hasta tres argumentos, pero la mayoría de las veces el argumento necesita añadírsele 3. Así que al segundo argumento se le asigna 3 y al último cero. Los dos últimos argumentos son implícitos.\n",
    "\n",
    "Así, si el segundo argumento no está definico al llamar a **sumaimplícita( )**, se considera que es un 3."
   ]
  },
  {
   "cell_type": "code",
   "execution_count": null,
   "id": "f42e52a1",
   "metadata": {},
   "outputs": [],
   "source": [
    "sumaimplicita(4)"
   ]
  },
  {
   "cell_type": "markdown",
   "id": "88b3577e",
   "metadata": {},
   "source": [
    "Sin embargo, podemos llamar a la misma función con dos o tres argumentos. Python también permite una modificación muy útil, y es llamar a los argumentos por su nombre en la llamada. Esto permite tener mucha flexibilidad y ofrecer un gran número de argumentos opcionales. Todo lo siguiente es válido:"
   ]
  },
  {
   "cell_type": "code",
   "execution_count": null,
   "id": "da82e9c7",
   "metadata": {},
   "outputs": [],
   "source": [
    "sumaimplicita(4, 4)\n",
    "sumaimplicita(4, 5, 6)\n",
    "sumaimplicita(4, z = 7)\n",
    "sumaimplicita(2, y = 1, z = 9)\n",
    "sumaimplicita(x = 1)"
   ]
  },
  {
   "cell_type": "markdown",
   "id": "097d9ed7",
   "metadata": {},
   "source": [
    "## Cualquier número de argumentos"
   ]
  },
  {
   "cell_type": "markdown",
   "id": "90cfa2ca",
   "metadata": {},
   "source": [
    "Si el número de argmentos que acepta una función no es conocido de antemano, se puede usar un asterisco antes del nombre del argumento para que contenga el resto de argumentos. La siguiente función requiere al menos un argumento, pero puede tener muchos más:"
   ]
  },
  {
   "cell_type": "code",
   "execution_count": null,
   "id": "9b574a75",
   "metadata": {},
   "outputs": [],
   "source": [
    "def suma_n(first, *args):\n",
    "    \"Retorna la suma de uno o más números\"\n",
    "    reslist = [first] + [value for value in args]\n",
    "    print(reslist)\n",
    "    return sum(reslist)"
   ]
  },
  {
   "cell_type": "markdown",
   "id": "3d2d040a",
   "metadata": {},
   "source": [
    "La función de arriba define una lista de todos los argumentos, imprime la lista y retorna la suma de todos los argumentos."
   ]
  },
  {
   "cell_type": "code",
   "execution_count": null,
   "id": "1f1d7f7f",
   "metadata": {},
   "outputs": [],
   "source": [
    "suma_n(1, 2, 3, 4, 5)"
   ]
  },
  {
   "cell_type": "code",
   "execution_count": null,
   "id": "d300f71e",
   "metadata": {},
   "outputs": [],
   "source": [
    "suma_n(6.5)"
   ]
  },
  {
   "cell_type": "markdown",
   "id": "90136e26",
   "metadata": {},
   "source": [
    "Un número arbitrario de argumentos con nombre se pueden aceptar también usando `**`. Cuando la función es llamada, se pueden añadir un número de argumentos con nombre adicionales. Los argumentos adcionales se ofrecen como un diccionario."
   ]
  },
  {
   "cell_type": "code",
   "execution_count": null,
   "id": "bacf3205",
   "metadata": {},
   "outputs": [],
   "source": [
    "def namedArgs(**names):\n",
    "    '''imprime los argumentos nombrados'''\n",
    "    # names es un diccionario de clave : valor\n",
    "    print(\"  \".join(name+\"=\"+str(value) \n",
    "                    for name,value in names.items()))\n",
    "\n",
    "namedArgs(x = 3 * 4, animal = 'ratón', z = (1 + 2j))"
   ]
  },
  {
   "cell_type": "markdown",
   "id": "56446e41",
   "metadata": {},
   "source": [
    "##  Variables globales y locales"
   ]
  },
  {
   "cell_type": "markdown",
   "id": "728ac8b3",
   "metadata": {},
   "source": [
    "Las variables declaradas dentro de una función son locales, mientras que las declaradas fuera son globales."
   ]
  },
  {
   "cell_type": "markdown",
   "id": "139d0999",
   "metadata": {},
   "source": [
    "En la función siguiente se declaran variables x en dos funciones anidadas. Como se puede ver, cada función accede primero a las variables locales."
   ]
  },
  {
   "cell_type": "code",
   "execution_count": null,
   "id": "082bf3e8",
   "metadata": {},
   "outputs": [],
   "source": [
    "def func1():\n",
    "    x=1\n",
    "    def tercerafunc():\n",
    "        x=2\n",
    "        print(\"Dentro de tercerafunc x =\", x) \n",
    "    tercerafunc()\n",
    "    print(\"Fuera x =\", x)"
   ]
  },
  {
   "cell_type": "code",
   "execution_count": null,
   "id": "dad25d63",
   "metadata": {},
   "outputs": [],
   "source": [
    "func1()"
   ]
  },
  {
   "cell_type": "markdown",
   "id": "104ab75f",
   "metadata": {},
   "source": [
    "## Funciones Lambda"
   ]
  },
  {
   "cell_type": "markdown",
   "id": "a2058b03",
   "metadata": {},
   "source": [
    "Las funciones lambda son pequeñas funciones a las que no se le pone nombre y que contienen una expresión cuyo resultado se retorna. Las funciones lambda son interesantes para operaciones con listas. Estas funciones se definen con la palabra clave **lambda** seguida de las variables, dos puntos, y la expresión."
   ]
  },
  {
   "cell_type": "code",
   "execution_count": null,
   "id": "c80ff623",
   "metadata": {},
   "outputs": [],
   "source": [
    "z = lambda x: x * x"
   ]
  },
  {
   "cell_type": "code",
   "execution_count": null,
   "id": "d5c27d0c",
   "metadata": {},
   "outputs": [],
   "source": [
    "z(8)"
   ]
  },
  {
   "cell_type": "markdown",
   "id": "53c6942c",
   "metadata": {},
   "source": [
    "### Composición de funciones"
   ]
  },
  {
   "cell_type": "markdown",
   "id": "d64049fc",
   "metadata": {},
   "source": [
    "Las funciones lambda se pueden usar para la composición de funciones."
   ]
  },
  {
   "cell_type": "code",
   "execution_count": null,
   "id": "4ea6181a",
   "metadata": {},
   "outputs": [],
   "source": [
    "def doble(x):\n",
    "    return 2*x\n",
    "\n",
    "def cuadrado(x):\n",
    "    return x*x\n",
    "\n",
    "def f_de_g(f,g):\n",
    "    \"Compone dos funciones de una única variable.\"\n",
    "    return lambda x: f(g(x))\n",
    "\n",
    "doblecuadrado = f_de_g(doble,cuadrado)\n",
    "print(\"doblecuadrado es\",type(doblecuadrado))\n",
    "doblecuadrado(3)"
   ]
  },
  {
   "cell_type": "markdown",
   "id": "f5824538",
   "metadata": {},
   "source": [
    "## Clases\n",
    "\n",
    "Las variables, las listas, los diccionarios, etc, son objetos en Python.\n",
    "\n",
    "Una clase se declara como sigue:\n",
    "\n",
    "```python\n",
    "class nombre:\n",
    "    métodos (funciones)\n",
    "```"
   ]
  },
  {
   "cell_type": "code",
   "execution_count": null,
   "id": "bd32f6ee",
   "metadata": {},
   "outputs": [],
   "source": [
    "class PrimeraClase:\n",
    "    \"Esta es una clase vacía\"\n",
    "    pass"
   ]
  },
  {
   "cell_type": "markdown",
   "id": "753912de",
   "metadata": {},
   "source": [
    "**pass** en Python significa no hacer nada. La cadena define la documentación de la clase, accesible a través de `help(PrimeraClase)`\n",
    "\n",
    "Arriba, un objeto de clase llamado \"PrimeraClase\" es declarado. Ahora considérese un elemento que tiene todas las características de \"PrimeraClase\". Para hacer eso, se iguala una variable con \"PrimeraClase\". En Python se llama crear una instancia de PrimeraClase."
   ]
  },
  {
   "cell_type": "code",
   "execution_count": null,
   "id": "012a1d71",
   "metadata": {},
   "outputs": [],
   "source": [
    "egclass = PrimeraClase()"
   ]
  },
  {
   "cell_type": "code",
   "execution_count": null,
   "id": "2e95c395",
   "metadata": {},
   "outputs": [],
   "source": [
    "type(egclass)"
   ]
  },
  {
   "cell_type": "code",
   "execution_count": null,
   "id": "c02158b4",
   "metadata": {},
   "outputs": [],
   "source": [
    "type(PrimeraClase)"
   ]
  },
  {
   "cell_type": "markdown",
   "id": "7dd4d205",
   "metadata": {},
   "source": [
    "Los objetos (instancias de una clase) pueden contener datos. Una variable de un objeto es llamado un campo (_field_) o atributo. Para acceder a un campo se utiliza la notación `objeto.campo`. Por ejemplo:"
   ]
  },
  {
   "cell_type": "code",
   "execution_count": null,
   "id": "82edcca4",
   "metadata": {},
   "outputs": [],
   "source": [
    "obj1 = PrimeraClase()\n",
    "obj2 = PrimeraClase()\n",
    "obj1.x = 5\n",
    "obj2.x = 6\n",
    "x = 7\n",
    "print(\"x en objecto 1 =\",obj1.x,\"x en objecto 2=\",obj2.x,\"global x =\",x)"
   ]
  },
  {
   "cell_type": "markdown",
   "id": "bcdecbeb",
   "metadata": {},
   "source": [
    "Podemos añadir alguna \"funcionalidad\" a la clase. Una función dentro de una clase es llamada \"Método\" de esa clase."
   ]
  },
  {
   "cell_type": "code",
   "execution_count": null,
   "id": "3a12558a",
   "metadata": {},
   "outputs": [],
   "source": [
    "class Counter:\n",
    "    def reset(self, init = 0):\n",
    "        self.count = init\n",
    "\n",
    "    def getCount(self):\n",
    "        self.count += 1\n",
    "        return self.count\n",
    "\n",
    "counter = Counter()\n",
    "counter.reset(0)\n",
    "print(\"uno =\",counter.getCount(),\"dos =\",counter.getCount(),\"tres =\",counter.getCount())"
   ]
  },
  {
   "cell_type": "markdown",
   "id": "41de1c66",
   "metadata": {},
   "source": [
    "Los métodos `reset()` y `getCount()` son llamados con menos argumentos de los que han sido definidos. El argumento `self` es añadido automáticamente por Python y representa al objeto llamado. Aquí `counter.reset(0)` es equivalente a `Counter.reset(counter,0)`.\n",
    "Usar **self** como nombre del primer argumento es sólo una convención. Python permite cualquier nombre.\n",
    "\n",
    "Sería muy interesante si todos los objetos se pudieran inicializar a un valor de contador en vez de tener que llamar a `reset()`. Para esto se utiliza un \"constructor\". En el caso de Python, es un método con un nombre, especial: `__init__`:"
   ]
  },
  {
   "cell_type": "code",
   "execution_count": null,
   "id": "53194ad4",
   "metadata": {},
   "outputs": [],
   "source": [
    "class PrimeraClase:\n",
    "    def __init__(self, name, symbol):\n",
    "        self.name = name\n",
    "        self.symbol = symbol"
   ]
  },
  {
   "cell_type": "markdown",
   "id": "6f2b4373",
   "metadata": {},
   "source": [
    "Una vez definida la función `__init__`, podemos crear instancias de la clase PrimeraClase, que ahora acepta dos argumentos."
   ]
  },
  {
   "cell_type": "code",
   "execution_count": null,
   "id": "b1aa040f",
   "metadata": {},
   "outputs": [],
   "source": [
    "eg1 = PrimeraClase('uno', 1)\n",
    "eg2 = PrimeraClase('dos', 2)"
   ]
  },
  {
   "cell_type": "markdown",
   "id": "5415a605",
   "metadata": {},
   "source": [
    "**OJO**: No es posible definir varios constructores. Solo se puede definir un constructor, que puede aceptar valores por defecto.\n",
    "\n",
    "**OJO 2**: En Python no hay modificadores de visibilidad. Por convención, las variables **protegidas** son definidas con una barra baja, `_`, inicial (`_atributoProtegido`), y las variables **privadas** son definidas con dos barras bajas, `__` iniciales (`__atributoPrivado`)."
   ]
  },
  {
   "cell_type": "code",
   "execution_count": null,
   "id": "648a9d3b",
   "metadata": {},
   "outputs": [],
   "source": [
    "print(eg1.name, eg1.symbol)\n",
    "print(eg2.name, eg2.symbol)"
   ]
  },
  {
   "cell_type": "markdown",
   "id": "36aba09c",
   "metadata": {},
   "source": [
    "La función **dir( )** es interesante para ver qué contiene la clase y qué métodos ofrece"
   ]
  },
  {
   "cell_type": "code",
   "execution_count": null,
   "id": "2ab8c5fd",
   "metadata": {},
   "outputs": [],
   "source": [
    "print(\"Contenido de la clase Counter:\",dir(Counter))\n",
    "print(\"Contenido del objeto counter:\", dir(counter))"
   ]
  },
  {
   "cell_type": "markdown",
   "id": "36d1aaaf",
   "metadata": {},
   "source": [
    "**dir( )** de una instancia también muestra sus atributos definidos, por lo que el objeto tiene un atributo adicional `count`. Python define varios métodos por defecto, por ejemplo para comparación (`__le__` es el operador $\\le$). Estos y otros métodos especiales se pueden cambiar para cambiar el comportamiento de los objetos, por ejemplo cómo las instancias se pueden comparar, añadir, multiplicar, etc.\n",
    "\n",
    "Cambiando la clase PrimeraClase de arriba, al igual que existen variables locales y globales, existen también variables de clase. Son los llamados atributos de clase: Atributos definidos fuera de cualquier método que se aplican a todas las instancias."
   ]
  },
  {
   "cell_type": "code",
   "execution_count": null,
   "id": "5b75a599",
   "metadata": {},
   "outputs": [],
   "source": [
    "class PrimeraClase:\n",
    "    test = 'test'\n",
    "    def __init__(self,n,s):\n",
    "        self.name = n\n",
    "        self.symbol = s"
   ]
  },
  {
   "cell_type": "markdown",
   "id": "3204e630",
   "metadata": {},
   "source": [
    "Aquí `test` es un atributo de clase y `name` y `symbol` atributos de instancia."
   ]
  },
  {
   "cell_type": "code",
   "execution_count": null,
   "id": "df51aabe",
   "metadata": {},
   "outputs": [],
   "source": [
    "eg3 = PrimeraClase('Tres',3)"
   ]
  },
  {
   "cell_type": "code",
   "execution_count": null,
   "id": "ea99ee06",
   "metadata": {},
   "outputs": [],
   "source": [
    "print(eg3.test, eg3.name, eg3.symbol)"
   ]
  },
  {
   "cell_type": "markdown",
   "id": "1c91a901",
   "metadata": {},
   "source": [
    "## Herencia\n",
    "\n",
    "Puede que se quieran crear clase que tienen todas las características de una clase existente, por lo que puedan \"heredar\" de una clase y añadir sus propias propiedades. A eso se le llama herencia.\n",
    "\n",
    "Considérese que la clase `IngenieroSoftware` tiene un método `salario`."
   ]
  },
  {
   "cell_type": "code",
   "execution_count": null,
   "id": "df471044",
   "metadata": {},
   "outputs": [],
   "source": [
    "class IngenieroSoftware:\n",
    "    def __init__(self,name,age):\n",
    "        self.name = name\n",
    "        self.age = age\n",
    "    def salario(self, value):\n",
    "        self.money = value\n",
    "        print(self.name,\"gana\",self.money)"
   ]
  },
  {
   "cell_type": "code",
   "execution_count": null,
   "id": "141ae3a2",
   "metadata": {},
   "outputs": [],
   "source": [
    "a = IngenieroSoftware('Pepe',26)"
   ]
  },
  {
   "cell_type": "code",
   "execution_count": null,
   "id": "8002d1a0",
   "metadata": {},
   "outputs": [],
   "source": [
    "a.salario(40000)"
   ]
  },
  {
   "cell_type": "code",
   "execution_count": null,
   "id": "c606aba7",
   "metadata": {},
   "outputs": [],
   "source": [
    "[ name for name in dir(IngenieroSoftware) if not name.startswith(\"_\")]"
   ]
  },
  {
   "cell_type": "markdown",
   "id": "de5168b1",
   "metadata": {},
   "source": [
    "Consideremos ahora la clase `Artista`, que nos dice el dinero que gana un artista, pero también su tipo de arte."
   ]
  },
  {
   "cell_type": "code",
   "execution_count": null,
   "id": "386bfedc",
   "metadata": {},
   "outputs": [],
   "source": [
    "class Artista:\n",
    "    def __init__(self,name,age):\n",
    "        self.name = name\n",
    "        self.age = age\n",
    "    def salario(self,value):\n",
    "        self.money = value\n",
    "        print(self.name,\"gana\",self.money)\n",
    "    def artform(self, job):\n",
    "        self.job = job\n",
    "        print(self.name,\"es un\", self.job)"
   ]
  },
  {
   "cell_type": "code",
   "execution_count": null,
   "id": "95db5560",
   "metadata": {},
   "outputs": [],
   "source": [
    "b = Artista('Antonio',20)"
   ]
  },
  {
   "cell_type": "code",
   "execution_count": null,
   "id": "768781ea",
   "metadata": {},
   "outputs": [],
   "source": [
    "b.salario(50000)\n",
    "b.artform('Músico')"
   ]
  },
  {
   "cell_type": "code",
   "execution_count": null,
   "id": "9135dcf5",
   "metadata": {},
   "outputs": [],
   "source": [
    "[ name for name in dir(b) if not name.startswith(\"_\")]"
   ]
  },
  {
   "cell_type": "markdown",
   "id": "ef7b1a64",
   "metadata": {},
   "source": [
    "El método `salario` aparece en ambos casos. Así que se puede generalizar este método haciendo que la clase `Artista` herede de `IngenieroSoftware`. Ahora la clase `Artista` pasa a ser,"
   ]
  },
  {
   "cell_type": "code",
   "execution_count": null,
   "id": "0b2418ef",
   "metadata": {},
   "outputs": [],
   "source": [
    "class Artist(IngenieroSoftware):\n",
    "    def artform(self, job):\n",
    "        self.job = job\n",
    "        print(self.name,\"is a\", self.job)"
   ]
  },
  {
   "cell_type": "code",
   "execution_count": null,
   "id": "8443e051",
   "metadata": {},
   "outputs": [],
   "source": [
    "c = Artist('Nishanth',21)"
   ]
  },
  {
   "cell_type": "code",
   "execution_count": null,
   "id": "94d28109",
   "metadata": {},
   "outputs": [],
   "source": [
    "dir(Artist)"
   ]
  },
  {
   "cell_type": "code",
   "execution_count": null,
   "id": "209a5f4e",
   "metadata": {},
   "outputs": [],
   "source": [
    "c.salario(60000)\n",
    "c.artform('Dancer')"
   ]
  },
  {
   "cell_type": "markdown",
   "id": "6201c7aa",
   "metadata": {},
   "source": [
    "Supongamos que al heredar un método deja de ser apropiado para la nueva clase. Este método se puede redefinir con el mismo nombre en la nueva clase con un nuevo comportamiento."
   ]
  },
  {
   "cell_type": "code",
   "execution_count": null,
   "id": "39da159e",
   "metadata": {},
   "outputs": [],
   "source": [
    "class Artist(IngenieroSoftware):\n",
    "    def artform(self, job):\n",
    "        self.job = job\n",
    "        print(self.name,\"is a\", self.job)\n",
    "    def salario(self, value):\n",
    "        self.money = value\n",
    "        print(self.name,\"earns\",self.money)\n",
    "        print(\"I am overriding the SoftwareEngineer class's salary method\")"
   ]
  },
  {
   "cell_type": "code",
   "execution_count": null,
   "id": "86e0adbc",
   "metadata": {},
   "outputs": [],
   "source": [
    "c = Artist('Nishanth',21)"
   ]
  },
  {
   "cell_type": "code",
   "execution_count": null,
   "id": "47ab3cac",
   "metadata": {},
   "outputs": [],
   "source": [
    "c.salario(60000)\n",
    "c.artform('Dancer')"
   ]
  },
  {
   "cell_type": "markdown",
   "id": "1e92c889",
   "metadata": {},
   "source": [
    "Si el número de argumentos de entrada varía entre las instancias, se puede usar un asterico como se muestra:"
   ]
  },
  {
   "cell_type": "code",
   "execution_count": null,
   "id": "48a7cb93",
   "metadata": {},
   "outputs": [],
   "source": [
    "class NoEstoySeguro:\n",
    "    def __init__(self, *args):\n",
    "        self.data = ' '.join(list(args)) "
   ]
  },
  {
   "cell_type": "code",
   "execution_count": null,
   "id": "a6a1ce0f",
   "metadata": {},
   "outputs": [],
   "source": [
    "yz = NoEstoySeguro('No', 'Se' , 'Lo', 'Que', 'Escribir', '¡De','Verdad!')"
   ]
  },
  {
   "cell_type": "code",
   "execution_count": null,
   "id": "56584eb7",
   "metadata": {},
   "outputs": [],
   "source": [
    "yz.data"
   ]
  },
  {
   "cell_type": "markdown",
   "id": "20a5fc4f",
   "metadata": {},
   "source": [
    "Es posible utilizar métodos de la clase de la que se hereda usando la función **super()**:\n",
    "\n",
    "  1. **super().__init__()**\n",
    "  2. **super().method()**..."
   ]
  },
  {
   "cell_type": "markdown",
   "id": "9310f3bd",
   "metadata": {},
   "source": [
    "## Introspección\n",
    "Ya se ha visto la función `dir()` para ver lo que hay dentro de una clase. Python tiene muchas facilidades para la introspección. Algunas funciones útiles son **hasattr()**, **getattr()** y **setattr()**:"
   ]
  },
  {
   "cell_type": "code",
   "execution_count": null,
   "id": "40d13db0",
   "metadata": {},
   "outputs": [],
   "source": [
    "ns = NoEstoySeguro('test')\n",
    "if hasattr(ns,'data'): # comprueba si ns.data existe\n",
    "    setattr(ns,'copy', # establece ns.copy\n",
    "            getattr(ns,'data')) # obtiene ns.data\n",
    "print('ns.copy =',ns.copy)"
   ]
  },
  {
   "cell_type": "markdown",
   "id": "2cb13660",
   "metadata": {},
   "source": [
    "## Excepciones"
   ]
  },
  {
   "cell_type": "markdown",
   "id": "d899536a",
   "metadata": {},
   "source": [
    "Para romper una ejecución muy anidada, a veces es útil lanzar una excepción, o bien para señalar algún tipo de error no subsanable. Un bloque try permite capturar excepciones que suceden en cualquier parte de ese bloque:\n",
    "```python\n",
    "try:\n",
    "    código\n",
    "except <Tipo de Excepción> as <variable>:\n",
    "    # tratar este tipo de error\n",
    "except:\n",
    "    # tratar con cualquier tipo de error```"
   ]
  },
  {
   "cell_type": "code",
   "execution_count": null,
   "id": "2e244bc6",
   "metadata": {},
   "outputs": [],
   "source": [
    "try:\n",
    "    count=0\n",
    "    while True:\n",
    "        while True:\n",
    "            while True:\n",
    "                print(\"Bucle\")\n",
    "                count = count + 1\n",
    "                if count > 3:\n",
    "                    raise Exception(\"abort\") # Sale de todos los anidamientos\n",
    "except Exception as e: # y llega aquí\n",
    "    print(\"Capturada excepción:\",e)"
   ]
  },
  {
   "cell_type": "markdown",
   "id": "a6ceaebd",
   "metadata": {},
   "source": [
    "También se puede usar para tratar errores inexperados de forma correcta:"
   ]
  },
  {
   "cell_type": "code",
   "execution_count": null,
   "id": "981291a4",
   "metadata": {},
   "outputs": [],
   "source": [
    "try:\n",
    "    for i in [2,1.5,0.0,3]:\n",
    "        inverso = 1.0/i\n",
    "except: # no importa la excepción\n",
    "    print(\"No puedo calcular el inverso\")"
   ]
  },
  {
   "cell_type": "markdown",
   "id": "4b306f9a",
   "metadata": {},
   "source": [
    "Una excepción se puede lanzar de forma controlada con la instrucción `raise(Exception())`\n",
    "\n",
    "Una excepción es una instancia de una clase Exception, así que es posible definir nuevas **clases** de excepciones que hereden de `Exception`"
   ]
  },
  {
   "cell_type": "markdown",
   "id": "2cf854c3",
   "metadata": {},
   "source": [
    "## Manejo de tipos de datos complejos: Strings, listas, diccionarios, sets..."
   ]
  },
  {
   "cell_type": "markdown",
   "id": "c79c57e1",
   "metadata": {},
   "source": [
    "## Strings\n",
    "\n",
    "Un string o cadena de texto se crea asignando una serie de caracteres entrecomillados a una variable. Esta variable puede ser formateada, se le pueden aplicar operaciones y puede imprimirse por salida estándar."
   ]
  },
  {
   "cell_type": "code",
   "execution_count": null,
   "id": "68505c65",
   "metadata": {},
   "outputs": [],
   "source": [
    "aString = \"Un nuevo string\"\n",
    "\n",
    "print(aString)"
   ]
  },
  {
   "cell_type": "markdown",
   "id": "f18496d4",
   "metadata": {},
   "source": [
    "Un string soporta la operación de suma (+) que se utiliza como concatenación."
   ]
  },
  {
   "cell_type": "code",
   "execution_count": null,
   "id": "c8f48da0",
   "metadata": {},
   "outputs": [],
   "source": [
    "a = \"12345\"\n",
    "b = \"6789\"\n",
    "\n",
    "print(a + b)\n",
    "print(a + \" son numeros\")"
   ]
  },
  {
   "cell_type": "markdown",
   "id": "af8af8dc",
   "metadata": {},
   "source": [
    "Un string también soporta la operación de multiplicación, utilizada para repetir ese string."
   ]
  },
  {
   "cell_type": "code",
   "execution_count": null,
   "id": "8a548480",
   "metadata": {},
   "outputs": [],
   "source": [
    "print(\"Hola Mundo! \"*5)"
   ]
  },
  {
   "cell_type": "markdown",
   "id": "19d0b5b7",
   "metadata": {},
   "source": [
    "Las cadenas se pueden transformar con muchas funciones:"
   ]
  },
  {
   "cell_type": "code",
   "execution_count": null,
   "id": "3865fadd",
   "metadata": {},
   "outputs": [],
   "source": [
    "s=\"hola mUndo\"\n",
    "\n",
    "print(s.capitalize())\n",
    "print(s.upper())\n",
    "print(s.lower())\n",
    "print('|%s|' % \"Hola Mundo\".center(30)) # centrar en 30 caracteres\n",
    "print('|%s|'% \"     muchos espacios             \".strip()) # elimina espacios anteriores y posteriores\n",
    "print(\"Hola Mundo\".replace(\"Mundo\",\"Clase\"))"
   ]
  },
  {
   "cell_type": "markdown",
   "id": "a8798c11",
   "metadata": {},
   "source": [
    "Hay además varias maneras de comprobar cadenas de texto. A continuación se muestran algunos ejemplos:"
   ]
  },
  {
   "cell_type": "code",
   "execution_count": null,
   "id": "5d615cba",
   "metadata": {},
   "outputs": [],
   "source": [
    "s = \"Hello World\"\n",
    "print(\"The length of '%s' is\"%s,len(s),\"characters\") # len() gives length\n",
    "s.startswith(\"Hello\") and s.endswith(\"World\") # check start/end\n",
    "# count strings\n",
    "print(\"There are %d 'l's but only %d World in %s\" % (s.count('l'),s.count('World'),s))\n",
    "print('\"el\" is at index',s.find('el'),\"in\",s) #index from 0 or -1"
   ]
  },
  {
   "cell_type": "markdown",
   "id": "aa2b060f",
   "metadata": {},
   "source": [
    "## Operaciones de comparación de cadenas\n",
    "Las cadenas se pueden comparar en orden lexicográfico con los operadores de comparación usuales. Además, el operador `in` comprueba subcadenas:"
   ]
  },
  {
   "cell_type": "code",
   "execution_count": null,
   "id": "01784046",
   "metadata": {},
   "outputs": [],
   "source": [
    "'abc' < 'bbc' <= 'bbc'"
   ]
  },
  {
   "cell_type": "code",
   "execution_count": null,
   "id": "9b1a85e6",
   "metadata": {},
   "outputs": [],
   "source": [
    "\"ABC\" in \"Esto es el ABC de Python\""
   ]
  },
  {
   "cell_type": "markdown",
   "id": "cde76223",
   "metadata": {},
   "source": [
    "## Accediendo a partes de cadenas"
   ]
  },
  {
   "cell_type": "markdown",
   "id": "6874ed3d",
   "metadata": {},
   "source": [
    "Las cadenas se pueden indexar con corchetes. El indentado empieza por 0 en Python."
   ]
  },
  {
   "cell_type": "code",
   "execution_count": null,
   "id": "ebdf295f",
   "metadata": {},
   "outputs": [],
   "source": [
    "s = '123456789'\n",
    "print('El primer carácter de',s,'es',s[0])\n",
    "print('El último carácter de',s,'es',s[len(s)-1])"
   ]
  },
  {
   "cell_type": "markdown",
   "id": "52d27932",
   "metadata": {},
   "source": [
    "Se pueden usar índices negativos para comenzar desde el final"
   ]
  },
  {
   "cell_type": "code",
   "execution_count": null,
   "id": "c1be67ff",
   "metadata": {},
   "outputs": [],
   "source": [
    "print('El primer carácter de',s,'es',s[-len(s)])\n",
    "print('El último carácter de',s,'es',s[-1])"
   ]
  },
  {
   "cell_type": "markdown",
   "id": "1a0a5ad5",
   "metadata": {},
   "source": [
    "Finalmente, un substring (rango de caracteres) se puede especificar usando $a:b$ para especificar los caracteres en los índices $a,a+1,\\ldots,b-1$. Nótese que el primer carácter *no* se incluye."
   ]
  },
  {
   "cell_type": "code",
   "execution_count": null,
   "id": "eb5a557c",
   "metadata": {},
   "outputs": [],
   "source": [
    "print(\"Primeros tres caracteres\",s[0:3])\n",
    "print(\"Siguientes tres caracteres\",s[3:6])"
   ]
  },
  {
   "cell_type": "markdown",
   "id": "74f68efc",
   "metadata": {},
   "source": [
    "Un inicio o final vacío implica el inicio o final de la cadena:"
   ]
  },
  {
   "cell_type": "code",
   "execution_count": null,
   "id": "f5dfc59c",
   "metadata": {},
   "outputs": [],
   "source": [
    "print(\"Primeros tres caracteres\",s[:3])\n",
    "print(\"Últimos tres caracteres\",s[-3:])"
   ]
  },
  {
   "cell_type": "markdown",
   "id": "e6cd9156",
   "metadata": {},
   "source": [
    "## Las cadenas son inmutables\n",
    "\n",
    "Es importante entender que las cadenas son constantes, inmutables en Python. Mientras que se pueden crear de manera muy sencilla nuevas cadenas, las existentes no se pueden modificar:"
   ]
  },
  {
   "cell_type": "code",
   "execution_count": null,
   "id": "c87b3508",
   "metadata": {},
   "outputs": [],
   "source": [
    "s = '012345'\n",
    "sX = s[:2] + 'X' + s[3:] # Crea una nueva cadena con 2 reemplazado por X\n",
    "print(\"creando una nueva cadena\", sX, \"OK\")\n",
    "sX = s.replace('2','X') # lo mismo\n",
    "print(sX, \"todavía OK\")\n",
    "\n",
    "try:\n",
    "    s[2] = 'X' # error!!!\n",
    "except TypeError as err:\n",
    "    print(\"Error \", err)"
   ]
  },
  {
   "cell_type": "markdown",
   "id": "b64ebdff",
   "metadata": {},
   "source": [
    "## Formateo de cadenas\n",
    "\n",
    "En ocasiones es necesario componer cadenas de texto a partir de una combinación de números, otras cadenas de texto y el valor de variables. Hay tres maneras equivalentes de formatear cadenas de texto en Python3:\n",
    "\n",
    "### Operador %\n",
    "\n",
    "El operador **%** como formateador de cadenas de texto se emplea escribiendo en la cadena de texto dicho operador seguido del especificador que se quiere introducir. Posteriormente se indica, de nuevo con el operador **%** qué variable se desea mapear al especificador, siguiendo el orden de declaración.\n",
    "\n",
    "Recordatorio de los especificadores más comunes:\n",
    "\n",
    "    - %s -> string\n",
    "    - %d -> Entero\n",
    "    - %f -> Float\n",
    "    - %o -> Octal\n",
    "    - %x -> Hexadecimal\n",
    "    - %e -> exponencial"
   ]
  },
  {
   "cell_type": "code",
   "execution_count": null,
   "id": "da7787d2",
   "metadata": {},
   "outputs": [],
   "source": [
    "hello = \"Hello\"\n",
    "world = \"World\"\n",
    "nombre = \"Alberto\"\n",
    "edad = 31\n",
    "ciudad = \"Murcia\"\n",
    "temperatura = 32\n",
    "año = 2019\n",
    "octal = oct(2019)\n",
    "hexad = hex(2019)\n",
    "\n",
    "helloWorld = \"%s %s\" % (hello, world)\n",
    "description = \"Mi nombre es %s y mi edad es %d.\" % (nombre, edad)\n",
    "clima = \"Hoy en %s hay %f grados de temperatura.\" % (ciudad, temperatura)\n",
    "hexadecimal = \"El año actual, %d, se expresa en octal como %s y en hexadecimal como %s\" % (año, octal, hexad)\n",
    "\n",
    "print(helloWorld)\n",
    "print(description)\n",
    "print(clima)\n",
    "print(hexadecimal)"
   ]
  },
  {
   "cell_type": "markdown",
   "id": "f611e82d",
   "metadata": {},
   "source": [
    "### Interpolación de cadenas (f-string)\n",
    "\n",
    "Este mecanismo existe desde Python3.6, y es similar al anterior: Se construye una cadena de texto y en el lugar donde se desea introducir una variable, esta se indica con la notación `{nombre_variable}`. Durante la ejecución se buscará en el alcance actual dicha variable para mapearse en la cadena de texto. No hay que indicar el tipo de la variable mapeada, únicamente se debe preceder la cadena de texto con la letra `f`:"
   ]
  },
  {
   "cell_type": "code",
   "execution_count": null,
   "id": "e698b842",
   "metadata": {},
   "outputs": [],
   "source": [
    "hello = \"Hello\"\n",
    "world = \"World\"\n",
    "nombre = \"Alberto\"\n",
    "edad = 31\n",
    "ciudad = \"Murcia\"\n",
    "temperatura = 32\n",
    "año = 2019\n",
    "octal = oct(2019)\n",
    "hexad = hex(2019)\n",
    "\n",
    "helloWorld = f\"{hello} {world}\"\n",
    "description = f\"Mi nombre es {nombre} y mi edad es {edad}\"\n",
    "clima = f\"Hoy en {ciudad} hay {temperatura} grados de temperatura\"\n",
    "hexadecimal = f\"El año actual, {año}, se expresa en octal como {octal} y en hexadecimal como {hexad}\"\n",
    "\n",
    "print(helloWorld)\n",
    "print(description)\n",
    "print(clima)\n",
    "print(hexadecimal)"
   ]
  },
  {
   "cell_type": "markdown",
   "id": "b8a30cb2",
   "metadata": {},
   "source": [
    "## Listas"
   ]
  },
  {
   "cell_type": "markdown",
   "id": "b80ec8ab",
   "metadata": {},
   "source": [
    "Las listas son las estructuras más usadas. Son una secuencia de datos encerrada en corchetes separados por una coma. Cada uno de los datos se puede acceder a través de su índice.\n",
    "\n",
    "Las listas se declaran igualando una variable a `[ ]` o `list`."
   ]
  },
  {
   "cell_type": "code",
   "execution_count": null,
   "id": "693e69fd",
   "metadata": {},
   "outputs": [],
   "source": [
    "a = []"
   ]
  },
  {
   "cell_type": "code",
   "execution_count": null,
   "id": "35e9bbdf",
   "metadata": {},
   "outputs": [],
   "source": [
    "type(a)"
   ]
  },
  {
   "cell_type": "markdown",
   "id": "41c0f0a8",
   "metadata": {},
   "source": [
    "Se puede asignar un conjunto de datos a la lista, como se muestra:"
   ]
  },
  {
   "cell_type": "code",
   "execution_count": null,
   "id": "0eff1dde",
   "metadata": {},
   "outputs": [],
   "source": [
    "x = ['manzana', 'naranja']"
   ]
  },
  {
   "cell_type": "markdown",
   "id": "35187cab",
   "metadata": {},
   "source": [
    "### Indexado"
   ]
  },
  {
   "cell_type": "markdown",
   "id": "1c17c616",
   "metadata": {},
   "source": [
    "En python, el indexado empieza en 0, como se ha visto para las cadenas. Así, la lista x, que tiene dos elementos, tendrá manzana en la posición 0 y naranja a la posición 1."
   ]
  },
  {
   "cell_type": "code",
   "execution_count": null,
   "id": "54f22c63",
   "metadata": {},
   "outputs": [],
   "source": [
    "x[0]"
   ]
  },
  {
   "cell_type": "markdown",
   "id": "5f5c1a7a",
   "metadata": {},
   "source": [
    "El indexado también se puede hacer en orden inverso. Esto es, acceder primero al último elemento. Así, el indexado empieza en -1 (naranja), y el índice -2 será manzana."
   ]
  },
  {
   "cell_type": "code",
   "execution_count": null,
   "id": "ed5b28a0",
   "metadata": {},
   "outputs": [],
   "source": [
    "x[-1]"
   ]
  },
  {
   "cell_type": "markdown",
   "id": "c71c7da3",
   "metadata": {},
   "source": [
    "Como se puede ver, x[0] = x[-2], x[1] = x[-1]. Este concepto se puede extender a listas con muchos más elementos."
   ]
  },
  {
   "cell_type": "code",
   "execution_count": null,
   "id": "65798db1",
   "metadata": {},
   "outputs": [],
   "source": [
    "y = ['zanahoria','patata']"
   ]
  },
  {
   "cell_type": "markdown",
   "id": "579f3c19",
   "metadata": {},
   "source": [
    "Aquí declaramos dos listas, `x` e `y`, cada una conteniendo sus propios datos. Ahora, esas dos listas pueden ponerse de nuevo en una nueva lista `z`, que contenga los datos de ambas listas. Esta lista dentro de otra lista se llama lista embebida, y es como se puede definir un array de varias dimensiones, que se verá después."
   ]
  },
  {
   "cell_type": "code",
   "execution_count": null,
   "id": "bd785e1a",
   "metadata": {},
   "outputs": [],
   "source": [
    "z  = [x, y]\n",
    "print( z )"
   ]
  },
  {
   "cell_type": "markdown",
   "id": "6a7ec46a",
   "metadata": {},
   "source": [
    "El indexado de listas embebidas puede ser confuso si no se entiende cómo funciona el indexado en python. Asi, para acceder a \"naranja\", se debe acceder primero a la lista en el índice 0 (['manzana','naranja']) (en el índice 1 hay otra lista ['zanahoria','patata']). Así, z[0] nos debe dar la primera lista. De esa primera lista podemos coger el segundo elemento (índice 1) que nos dará \"naranja\"."
   ]
  },
  {
   "cell_type": "code",
   "execution_count": null,
   "id": "422e9067",
   "metadata": {},
   "outputs": [],
   "source": [
    "print(z[0][1])"
   ]
  },
  {
   "cell_type": "markdown",
   "id": "90914735",
   "metadata": {},
   "source": [
    "Las listas no tienen por qué ser homogéneas. Cada elemento puede tener un tipo diferente:"
   ]
  },
  {
   "cell_type": "code",
   "execution_count": null,
   "id": "bb8ecb75",
   "metadata": {},
   "outputs": [],
   "source": [
    "[\"esta es una lista válida\", 2, 3.6, (1+2j), [\"una\", \"sublista\"]]"
   ]
  },
  {
   "cell_type": "markdown",
   "id": "45e49813",
   "metadata": {},
   "source": [
    "### Slicing"
   ]
  },
  {
   "cell_type": "markdown",
   "id": "1e96e9db",
   "metadata": {},
   "source": [
    "El indexado está limitado a acceder a un único elemento, mientras que el slicing puede acceder a una secuencia de elementos de la lista.\n",
    "\n",
    "El slicing se realiza definiendo los valores de los índices del primer y último elemento de la lista origen. Se escribe como `lista[a : b]` donde `a` y `b` son los valores de índice. Si no se definen, se considera el inicio o el final, dependiendo de si es `a` o `b` respectivamente."
   ]
  },
  {
   "cell_type": "code",
   "execution_count": null,
   "id": "ebc425c7",
   "metadata": {},
   "outputs": [],
   "source": [
    "num = [0,1,2,3,4,5,6,7,8,9]\n",
    "print(num[0:4])\n",
    "print(num[4:])"
   ]
  },
  {
   "cell_type": "markdown",
   "id": "b6806a48",
   "metadata": {},
   "source": [
    "También se puede hacer un slice con un intervalo de salto."
   ]
  },
  {
   "cell_type": "code",
   "execution_count": null,
   "id": "59b9b60b",
   "metadata": {},
   "outputs": [],
   "source": [
    "num[:9:3]"
   ]
  },
  {
   "cell_type": "markdown",
   "id": "6b7ab316",
   "metadata": {},
   "source": [
    "### Funciones para listas"
   ]
  },
  {
   "cell_type": "markdown",
   "id": "a92febf5",
   "metadata": {},
   "source": [
    "La función **len()** se utiliza para ver la longitud de la lista."
   ]
  },
  {
   "cell_type": "code",
   "execution_count": null,
   "id": "5680bac2",
   "metadata": {},
   "outputs": [],
   "source": [
    "len(num)"
   ]
  },
  {
   "cell_type": "markdown",
   "id": "98574d8c",
   "metadata": {},
   "source": [
    "Si la lista consiste sólo en enteros, se pueden usar las funciones **min()** y **max()** para calcular el mínimo y el máximo, respectivamente. También se puede usar la función **sum()**."
   ]
  },
  {
   "cell_type": "code",
   "execution_count": null,
   "id": "e12ca148",
   "metadata": {},
   "outputs": [],
   "source": [
    "print(\"min =\",min(num),\"  max =\",max(num),\"  total =\",sum(num))"
   ]
  },
  {
   "cell_type": "code",
   "execution_count": null,
   "id": "8cc1a11d",
   "metadata": {},
   "outputs": [],
   "source": [
    "max(num)"
   ]
  },
  {
   "cell_type": "markdown",
   "id": "3986a542",
   "metadata": {},
   "source": [
    "Las listas se concatenan con `+`. El resultado contiene todos los elementos de las listas añadidas."
   ]
  },
  {
   "cell_type": "code",
   "execution_count": null,
   "id": "5b7e84d0",
   "metadata": {},
   "outputs": [],
   "source": [
    "[1,2,3] + [5,4,7]"
   ]
  },
  {
   "cell_type": "markdown",
   "id": "fd5d6fde",
   "metadata": {},
   "source": [
    "Para comprobar si una lista contiene un elemento, considere la siguiente lista:"
   ]
  },
  {
   "cell_type": "code",
   "execution_count": null,
   "id": "638bdaa4",
   "metadata": {},
   "outputs": [],
   "source": [
    "names = ['Earth','Air','Fire','Water']"
   ]
  },
  {
   "cell_type": "markdown",
   "id": "c6de9cfe",
   "metadata": {},
   "source": [
    "Para comprobar si algún elemento está presente en la lista, un algoritmo convencional iteraría por todos los elementos de la lista. Pero en Python se puede usar el operador `in`, que retorna True si está presente o False si no."
   ]
  },
  {
   "cell_type": "code",
   "execution_count": null,
   "id": "d8587fc7",
   "metadata": {},
   "outputs": [],
   "source": [
    "'Fire' in names"
   ]
  },
  {
   "cell_type": "code",
   "execution_count": null,
   "id": "f7c363dc",
   "metadata": {},
   "outputs": [],
   "source": [
    "'Space' in names"
   ]
  },
  {
   "cell_type": "markdown",
   "id": "848e0c4f",
   "metadata": {},
   "source": [
    "En una lista con elementos string, **max()** y **min()** todavía se pueden aplicar, y retornan el primer/último elemento en orden lexicográfico."
   ]
  },
  {
   "cell_type": "code",
   "execution_count": null,
   "id": "9049b299",
   "metadata": {},
   "outputs": [],
   "source": [
    "mlist = ['bzaa','ds','nc','az','z','klm']\n",
    "print(\"max =\", max(mlist))\n",
    "print(\"min =\", min(mlist))"
   ]
  },
  {
   "cell_type": "markdown",
   "id": "1a759f5f",
   "metadata": {},
   "source": [
    "Aquí el primer índice de cada elemento se considera, y z tiene el valor mayor ASCII, así que se retorna, y el valor mínimo es `a`. Pero ¿qué pasa si se declaran números como cadenas?"
   ]
  },
  {
   "cell_type": "code",
   "execution_count": null,
   "id": "3e12d264",
   "metadata": {},
   "outputs": [],
   "source": [
    "nlist = ['1','94','93','1000']\n",
    "print(\"max =\", max(nlist))\n",
    "print('min =', min(nlist))"
   ]
  },
  {
   "cell_type": "markdown",
   "id": "1103e393",
   "metadata": {},
   "source": [
    "Aunque sean números lo que contienen las cadenas, se utilizará el orden lexicográfico."
   ]
  },
  {
   "cell_type": "markdown",
   "id": "138694e2",
   "metadata": {},
   "source": [
    "Si por ejemplo se quiere encontrar el máximo de una lista de cadenas basado en la longitud de las cadenas, la función **max()** puede aceptar otro parámetro, `key`, que especifica la función que se utilizará para generar el valor a partir del que ordenar. Así, para encontrar la cadena más larga y más corta de `mlist`:"
   ]
  },
  {
   "cell_type": "code",
   "execution_count": null,
   "id": "5801f756",
   "metadata": {},
   "outputs": [],
   "source": [
    "print('larga =', max(mlist, key=len))\n",
    "print('corta =', min(mlist, key=len))"
   ]
  },
  {
   "cell_type": "markdown",
   "id": "617e7cec",
   "metadata": {},
   "source": [
    "Se puede usar cualquier otra función predefinida o definida por el usuario.\n",
    "\n",
    "Una cadena se puede ocnvertir a lista usando la función **list()**, o también, de forma quizá más conveniente, con la función  **split()**, que rompe la cadena basándose en espacios."
   ]
  },
  {
   "cell_type": "code",
   "execution_count": null,
   "id": "f5020841",
   "metadata": {},
   "outputs": [],
   "source": [
    "print(list('hola mundo !'),'Hola   Mundo !!'.split())"
   ]
  },
  {
   "cell_type": "markdown",
   "id": "5ec24ca6",
   "metadata": {},
   "source": [
    "**append( )** se usa para añadir un elemento al final de la lista."
   ]
  },
  {
   "cell_type": "code",
   "execution_count": null,
   "id": "a3aae80e",
   "metadata": {},
   "outputs": [],
   "source": [
    "lst = [1,1,4,8,7]\n",
    "lst.append(1)\n",
    "print(lst)"
   ]
  },
  {
   "cell_type": "markdown",
   "id": "dc16c46c",
   "metadata": {},
   "source": [
    "Añadiendo una lista a una lista crearía una sublista. Si no se desea una lista embebida, se puede usar la función **extend()**."
   ]
  },
  {
   "cell_type": "code",
   "execution_count": null,
   "id": "04c0e846",
   "metadata": {},
   "outputs": [],
   "source": [
    "lst.extend([10,11,12])\n",
    "print(lst)"
   ]
  },
  {
   "cell_type": "markdown",
   "id": "e599c6ca",
   "metadata": {},
   "source": [
    "**count( )** se usa para contar el número de elementos de la lista."
   ]
  },
  {
   "cell_type": "code",
   "execution_count": null,
   "id": "2d06478f",
   "metadata": {},
   "outputs": [],
   "source": [
    "lst.count(1)"
   ]
  },
  {
   "cell_type": "markdown",
   "id": "8389590d",
   "metadata": {},
   "source": [
    "**index( )** se usa para encontrar el índice de un elemento en particular de la lista. Nótese que si hay varios elementos con el mismo valor, se retorna el del elemento que aparezca con menor índice."
   ]
  },
  {
   "cell_type": "code",
   "execution_count": null,
   "id": "2d09a26d",
   "metadata": {},
   "outputs": [],
   "source": [
    "lst.index(1)"
   ]
  },
  {
   "cell_type": "markdown",
   "id": "3b0ab69d",
   "metadata": {},
   "source": [
    "**insert(x,y)** se utiliza para insertar un elemento `y` en una posición de índice especificado por `x`. **append( )** permite añadir al final sólo."
   ]
  },
  {
   "cell_type": "code",
   "execution_count": null,
   "id": "9d5ac606",
   "metadata": {},
   "outputs": [],
   "source": [
    "lst.insert(5, 'name')\n",
    "print(lst)"
   ]
  },
  {
   "cell_type": "markdown",
   "id": "79a779dd",
   "metadata": {},
   "source": [
    "**insert(x,y)** inserta, pero no reemplaza el elemtno. Si lo que se quiere es reemplazar, es tan fácil como asignar un valor a ese índice en particular."
   ]
  },
  {
   "cell_type": "code",
   "execution_count": null,
   "id": "cb93aaa1",
   "metadata": {},
   "outputs": [],
   "source": [
    "lst[5] = 'Python'\n",
    "print(lst)"
   ]
  },
  {
   "cell_type": "markdown",
   "id": "16717965",
   "metadata": {},
   "source": [
    "**pop( )** retorna el último elemento de la lista. Es similar en su operación a una pila. Asi que se puede decir que se pueden usar las listas como pilas."
   ]
  },
  {
   "cell_type": "code",
   "execution_count": null,
   "id": "ba0e7e68",
   "metadata": {},
   "outputs": [],
   "source": [
    "lst.pop()"
   ]
  },
  {
   "cell_type": "markdown",
   "id": "18878208",
   "metadata": {},
   "source": [
    "Se puede indicar un índice, para eliminar ese elemento de la lista."
   ]
  },
  {
   "cell_type": "code",
   "execution_count": null,
   "id": "db134528",
   "metadata": {},
   "outputs": [],
   "source": [
    "lst.pop(0)"
   ]
  },
  {
   "cell_type": "markdown",
   "id": "8b20d694",
   "metadata": {},
   "source": [
    "**pop( )** se utiliza para eliminar un elemento basado en su posición, y se puede asignar a una variable. También se puede eliminar un elemento especificándolo directamente usando la función **remove()**."
   ]
  },
  {
   "cell_type": "code",
   "execution_count": null,
   "id": "5c311cf7",
   "metadata": {},
   "outputs": [],
   "source": [
    "lst.remove('Python')\n",
    "print(lst)"
   ]
  },
  {
   "cell_type": "markdown",
   "id": "1266fa90",
   "metadata": {},
   "source": [
    "Una alternativa a **remove()** pero usando el índice, es `del`."
   ]
  },
  {
   "cell_type": "code",
   "execution_count": null,
   "id": "66b027a0",
   "metadata": {},
   "outputs": [],
   "source": [
    "del lst[1]\n",
    "print(lst)"
   ]
  },
  {
   "cell_type": "markdown",
   "id": "77b9f1be",
   "metadata": {},
   "source": [
    "Los elementos se pueden poner en orden inverso con la función **reverse()**."
   ]
  },
  {
   "cell_type": "code",
   "execution_count": null,
   "id": "8e21c9f9",
   "metadata": {},
   "outputs": [],
   "source": [
    "lst.reverse()\n",
    "print(lst)"
   ]
  },
  {
   "cell_type": "markdown",
   "id": "5e1f3f33",
   "metadata": {},
   "source": [
    "Nótese que la lista embebida [5,4,2,8] es tratada como un único elemento de la lista que lo contiene, por lo que los elementos de la lista no se invierten.\n",
    "\n",
    "Python ofrece la función **sort( )** para ordenar los elementos en orden ascendente. De forma alternativa, **sorted()** se puede usar para construir una copia de la lista de forma ordenada."
   ]
  },
  {
   "cell_type": "code",
   "execution_count": null,
   "id": "72001587",
   "metadata": {},
   "outputs": [],
   "source": [
    "lst.sort()\n",
    "print(lst)\n",
    "print(sorted([3,2,1])) # otra manera de ordenar"
   ]
  },
  {
   "cell_type": "markdown",
   "id": "1e3be08d",
   "metadata": {},
   "source": [
    "Para orden descendente, se puede utilizar el parámetro `reverse`, que se puede poner a True."
   ]
  },
  {
   "cell_type": "code",
   "execution_count": null,
   "id": "226f317f",
   "metadata": {},
   "outputs": [],
   "source": [
    "lst.sort(reverse=True)\n",
    "print(lst)"
   ]
  },
  {
   "cell_type": "markdown",
   "id": "48626085",
   "metadata": {},
   "source": [
    "Igualmente, para listas conteniendo elementos string, **sort()** ordena los elementos badados en su valor ASCII."
   ]
  },
  {
   "cell_type": "code",
   "execution_count": null,
   "id": "90e48f8c",
   "metadata": {},
   "outputs": [],
   "source": [
    "names.sort()\n",
    "print(names)\n",
    "names.sort(reverse=True)\n",
    "print(names)"
   ]
  },
  {
   "cell_type": "markdown",
   "id": "c734def7",
   "metadata": {},
   "source": [
    "También se puede ordenar con otra clave, como se vió con **max()** y **min()**, usando `key=len`."
   ]
  },
  {
   "cell_type": "code",
   "execution_count": null,
   "id": "d14c7af0",
   "metadata": {},
   "outputs": [],
   "source": [
    "names.sort(key=len)\n",
    "print(names)\n",
    "print(sorted(names,key=len,reverse=True))"
   ]
  },
  {
   "cell_type": "markdown",
   "id": "f0729388",
   "metadata": {},
   "source": [
    "### Copiando una lista"
   ]
  },
  {
   "cell_type": "markdown",
   "id": "b328c234",
   "metadata": {},
   "source": [
    "La asignación a una lista no implica la copia. Simplemente crea una segunda referencia a la lista. Esto puede ser un problema en los primeros usos de Python. Considérese lo siguiente:"
   ]
  },
  {
   "cell_type": "code",
   "execution_count": null,
   "id": "3f8870c8",
   "metadata": {},
   "outputs": [],
   "source": [
    "lista = [2,1,4,3]\n",
    "listb = lista\n",
    "print(listb)"
   ]
  },
  {
   "cell_type": "markdown",
   "id": "1bde387c",
   "metadata": {},
   "source": [
    "Aquí se ha declarado una lista, lista = [2,1,4,3]. Esta lista se copia a listb y se imprime. Ahora se opera sobre lista."
   ]
  },
  {
   "cell_type": "code",
   "execution_count": null,
   "id": "6d49bc20",
   "metadata": {},
   "outputs": [],
   "source": [
    "lista.sort()\n",
    "lista.pop()\n",
    "lista.append(9)\n",
    "print(\"A =\",lista)\n",
    "print(\"B =\",listb)"
   ]
  },
  {
   "cell_type": "markdown",
   "id": "469f4f13",
   "metadata": {},
   "source": [
    "listb también ha cambiado, aunque no se ha realizado ninguna operación sobre ella. Esto es porque se ha asignado la misma dirección de memoria a lista y a listb. ¿Cómo arreglar eso?\n",
    "\n",
    "Recordando el slicing, se vió que lista[a:b] retorna una lista nueva con índice de inicio a y final b, y si a o b no se mencionan se consideran el primer y último elemento. Aquí usamos el mismo concepto. Haciendo eso asignamos una copia de las listas."
   ]
  },
  {
   "cell_type": "code",
   "execution_count": null,
   "id": "76983f8e",
   "metadata": {},
   "outputs": [],
   "source": [
    "lista = [2,1,4,3]\n",
    "listb = lista[:] # se hace una copia cogiendo un slice de principio a fin\n",
    "print(\"Iniciado con:\")\n",
    "print(\"A =\",lista)\n",
    "print(\"B =\",listb)\n",
    "lista.sort()\n",
    "lista.pop()\n",
    "lista.append(9)\n",
    "print(\"Finalizado con:\")\n",
    "print(\"A =\",lista)\n",
    "print(\"B =\",listb)"
   ]
  },
  {
   "cell_type": "markdown",
   "id": "e41c43d5",
   "metadata": {},
   "source": [
    "## Listas generativas\n",
    "Un concepto muy potente en Python (que también se aplica a tuplas, conjuntos y diccionarios) es la posibilidad de generar listas usando listas generativas. Por ejemplo:"
   ]
  },
  {
   "cell_type": "code",
   "execution_count": null,
   "id": "7c6e137b",
   "metadata": {},
   "outputs": [],
   "source": [
    "[i**2 for i in [1,2,3]]"
   ]
  },
  {
   "cell_type": "markdown",
   "id": "8726e698",
   "metadata": {},
   "source": [
    "Como se puede ver, una nueva lista se genera a partir de coger todos los elementos de la original `[1,2,3]` y elevándolos al cuadrado. Se pueden tener varios bucles anidados para obtener, por ejemplo:"
   ]
  },
  {
   "cell_type": "code",
   "execution_count": null,
   "id": "3a8e614f",
   "metadata": {},
   "outputs": [],
   "source": [
    "[10*i+j for i in [1,2,3] for j in [5,7]]"
   ]
  },
  {
   "cell_type": "markdown",
   "id": "444c1439",
   "metadata": {},
   "source": [
    "Finalmente, el bucle puede ser filtrado usando una expresión **if** con la construcción **for** - **in**."
   ]
  },
  {
   "cell_type": "code",
   "execution_count": null,
   "id": "50ac8322",
   "metadata": {},
   "outputs": [],
   "source": [
    "[10*i+j for i in [1,2,3] if i%2==1 for j in [4,5,7] if j >= i+4] # mantener i en pares y j mayor que i+4"
   ]
  },
  {
   "cell_type": "markdown",
   "id": "e5cb1f39",
   "metadata": {},
   "source": [
    "## Tuplas"
   ]
  },
  {
   "cell_type": "markdown",
   "id": "cadfea0f",
   "metadata": {},
   "source": [
    "Las tuplas son similares a las listas, con la diferencia de que los elementos dentro de una lista se pueden modificar, pero los de la tupla no. El ejemplo visto de **divmod()** visto antes:"
   ]
  },
  {
   "cell_type": "code",
   "execution_count": null,
   "id": "e9cf9cbf",
   "metadata": {},
   "outputs": [],
   "source": [
    "xyz = divmod(10,3)\n",
    "print(xyz)\n",
    "print(type(xyz))"
   ]
  },
  {
   "cell_type": "markdown",
   "id": "546fbb47",
   "metadata": {},
   "source": [
    "Aquí los valores serán 3 y 1, y no se podrán modificar, por lo que **divmod()** retorna una tupla."
   ]
  },
  {
   "cell_type": "markdown",
   "id": "fc0f6e3c",
   "metadata": {},
   "source": [
    "Para definir una tupla, a una variable se le puede asignar un paréntesis `()` o bien un `tuple()`."
   ]
  },
  {
   "cell_type": "code",
   "execution_count": null,
   "id": "6e57fa48",
   "metadata": {},
   "outputs": [],
   "source": [
    "tup = ()\n",
    "tup2 = tuple()"
   ]
  },
  {
   "cell_type": "markdown",
   "id": "ccfb0416",
   "metadata": {},
   "source": [
    "Si se quiere declarar directamente una tupla, se puede hacer añadiendo una coma al final de los datos."
   ]
  },
  {
   "cell_type": "code",
   "execution_count": null,
   "id": "a619c573",
   "metadata": {},
   "outputs": [],
   "source": [
    "27,"
   ]
  },
  {
   "cell_type": "markdown",
   "id": "a8107a5f",
   "metadata": {},
   "source": [
    "27, cuando se multiplica por 2, da 54, pero cuando se multiplica por una tupla, los datos se repiten dos veces."
   ]
  },
  {
   "cell_type": "code",
   "execution_count": null,
   "id": "a40d97a6",
   "metadata": {},
   "outputs": [],
   "source": [
    "2*(27,)"
   ]
  },
  {
   "cell_type": "markdown",
   "id": "eede5f2a",
   "metadata": {},
   "source": [
    "Los valores se pueden asignar cuando se declara una tupla. Coge una lista como entrada y la convierte a una tupla, o bien coge un string y lo convierte en una tupla."
   ]
  },
  {
   "cell_type": "code",
   "execution_count": null,
   "id": "80885895",
   "metadata": {
    "scrolled": true
   },
   "outputs": [],
   "source": [
    "tup3 = tuple([1,2,3])\n",
    "print(tup3)\n",
    "tup4 = tuple('Hello')\n",
    "print(tup4)"
   ]
  },
  {
   "cell_type": "markdown",
   "id": "8b70430e",
   "metadata": {},
   "source": [
    "Sigue el mismo patrón de indexación y slicing que las listas."
   ]
  },
  {
   "cell_type": "code",
   "execution_count": null,
   "id": "c9195a98",
   "metadata": {},
   "outputs": [],
   "source": [
    "print(tup3[1])\n",
    "tup5 = tup4[:3]\n",
    "print(tup5)"
   ]
  },
  {
   "cell_type": "markdown",
   "id": "8911e34c",
   "metadata": {},
   "source": [
    "### Mapeo de una tupla a otra\n",
    "Las tuplas se pueden usar en la parte izquierda de las asignaciones y se mapean a los elementos correspondientes de la parte derecha, asumiendo que coinciden en longitud."
   ]
  },
  {
   "cell_type": "code",
   "execution_count": null,
   "id": "14c24b70",
   "metadata": {},
   "outputs": [],
   "source": [
    "(a, b, c) = ('alpha', 'beta', 'gamma') # los paréntesis son opcionales\n",
    "a, b, c = 'alpha', 'beta', 'gamma' # Igual que arriba\n",
    "print(a, b, c)\n",
    "a, b, c = ['Alpha', 'Beta', 'Gamma'] # También se pueden asignar listas\n",
    "print(a, b, c)\n",
    "[a, b, c] = ('esto', 'está', 'bien') # Incluso esto está bien\n",
    "print(a, b, c)"
   ]
  },
  {
   "cell_type": "markdown",
   "id": "5e814fff",
   "metadata": {},
   "source": [
    "Desempaquetados más complejos incluso son posibles:"
   ]
  },
  {
   "cell_type": "code",
   "execution_count": null,
   "id": "6d94345d",
   "metadata": {},
   "outputs": [],
   "source": [
    "(w, (x, y), z) = (1, (2, 3), 4)\n",
    "print(w, x, y, z)\n",
    "(w, xy, z) = (1, (2, 3), 4)\n",
    "print(w, xy, z) # nótese que ahora xy es una tupla"
   ]
  },
  {
   "cell_type": "markdown",
   "id": "6d6381f4",
   "metadata": {},
   "source": [
    "### Funciones de tuplas del lenguaje\n",
    "\n",
    "**count()** cuenta el número de elementos especificados que están contenidos en la tupla."
   ]
  },
  {
   "cell_type": "code",
   "execution_count": null,
   "id": "a8a7631f",
   "metadata": {},
   "outputs": [],
   "source": [
    "d=tuple('una cadena con muchas \"a\"s')\n",
    "d.count('a')"
   ]
  },
  {
   "cell_type": "markdown",
   "id": "c16e0c0e",
   "metadata": {},
   "source": [
    "**index()** retorna el índice del elemento especificado. Si hay varios, retorna el índice del primero."
   ]
  },
  {
   "cell_type": "code",
   "execution_count": null,
   "id": "464c8b6f",
   "metadata": {},
   "outputs": [],
   "source": [
    "d.index('a')"
   ]
  },
  {
   "cell_type": "markdown",
   "id": "50d380ff",
   "metadata": {},
   "source": [
    "## Diccionarios\n",
    "\n",
    "Los diccionarios son mapeos entre claves e items guardados en los diccionarios. Alternativamente, se pueden pensar en los diccionarios como en conjuntos con algo añadido junto a cada elemento del conjunto. Se definen como sigue:\n",
    "\n",
    "Para definir un diccionario, igualamos a una variable a `{}` o a `dict()`."
   ]
  },
  {
   "cell_type": "code",
   "execution_count": null,
   "id": "90698f0a",
   "metadata": {},
   "outputs": [],
   "source": [
    "d = dict() # o de manera equivalente d = {}\n",
    "print(type(d))\n",
    "d['abc'] = 3\n",
    "d[4] = \"Un string\"\n",
    "print(d)"
   ]
  },
  {
   "cell_type": "markdown",
   "id": "99851604",
   "metadata": {},
   "source": [
    "Como se puede extraer del código anterior, los diccionarios se pueden definir usando la sintaxis `{ key : value }`. El siguiente diccionario tiene tres elementos:"
   ]
  },
  {
   "cell_type": "code",
   "execution_count": null,
   "id": "72f4c704",
   "metadata": {},
   "outputs": [],
   "source": [
    "d = { 1: 'Uno', 2 : 'Dos', 100 : 'Cien'}\n",
    "len(d)"
   ]
  },
  {
   "cell_type": "markdown",
   "id": "14ce2947",
   "metadata": {},
   "source": [
    "Ahora se puede acceder a 'Uno' a través del índice 1."
   ]
  },
  {
   "cell_type": "code",
   "execution_count": null,
   "id": "6c65ebf2",
   "metadata": {},
   "outputs": [],
   "source": [
    "print(d[1])"
   ]
  },
  {
   "cell_type": "markdown",
   "id": "f2015eac",
   "metadata": {},
   "source": [
    "Hay muchas alternativas de especificar un diccionario, incluyendo tuplas `(clave, valor)`. Para ilustrar esto empezamos con dos listas y formamos un conjunto de tuplas a partir de ellas usando la función **zip()**. Esas dos listas que están relacionadas se pueden mezclar para hacer un diccionario."
   ]
  },
  {
   "cell_type": "code",
   "execution_count": null,
   "id": "afb5801e",
   "metadata": {},
   "outputs": [],
   "source": [
    "nombres = ['One', 'Two', 'Three', 'Four', 'Five']\n",
    "números = [1, 2, 3, 4, 5]\n",
    "[ (nombre,número) for nombre,número in zip(nombres,números)] # crear pares (nombre,número)"
   ]
  },
  {
   "cell_type": "markdown",
   "id": "f9f318ac",
   "metadata": {},
   "source": [
    "Ahora podemos crear el diccionario que mapea los nombres con los números como sigue:"
   ]
  },
  {
   "cell_type": "code",
   "execution_count": null,
   "id": "2667912d",
   "metadata": {},
   "outputs": [],
   "source": [
    "a1 = dict((nombre,número) for nombre,número in zip(nombres,números))\n",
    "print(a1)"
   ]
  },
  {
   "cell_type": "markdown",
   "id": "e73eeef2",
   "metadata": {},
   "source": [
    "Nótese que el orden el el diccionario no está basado en el orden de adición, sino en el orden del hash de los valores de la clave. Así que no se puede asumir ningún tipo de ordenación en los elementos del diccionario. Existen en Python conjuntos y diccionarios ordenados que se verán después.\n",
    "\n",
    "Usando tuplas como índices podemos convertir al diccionario en una matriz sparse:"
   ]
  },
  {
   "cell_type": "code",
   "execution_count": null,
   "id": "83574f01",
   "metadata": {},
   "outputs": [],
   "source": [
    "matrix = { (0, 1): 3.5, (2, 17): 0.1}\n",
    "matrix[2, 2] = matrix[0, 1] + matrix[2, 17]\n",
    "print(matrix)"
   ]
  },
  {
   "cell_type": "markdown",
   "id": "8213f05d",
   "metadata": {},
   "source": [
    "Los diccionarios también se pueden construir usando la definición generativa."
   ]
  },
  {
   "cell_type": "code",
   "execution_count": null,
   "id": "2b46f1c7",
   "metadata": {},
   "outputs": [],
   "source": [
    "a2 = { nombre : len(nombre) for nombre in nombres}\n",
    "print(a2)"
   ]
  },
  {
   "cell_type": "markdown",
   "id": "db9dbc06",
   "metadata": {},
   "source": [
    "### Funciones internas\n",
    "\n",
    "Las funciones **len()** y el operador **in** tienen los significados obvios:"
   ]
  },
  {
   "cell_type": "code",
   "execution_count": null,
   "id": "eda164d0",
   "metadata": {},
   "outputs": [],
   "source": [
    "print(\"a1 tiene\", len(a1), \"elementos\")\n",
    "print(\"One está en a1\", 'One' in a1, \"pero no Zero\", 'Zero' in a1)"
   ]
  },
  {
   "cell_type": "markdown",
   "id": "78b43c57",
   "metadata": {},
   "source": [
    "**clear( )** se usa para borrar todos los elementos."
   ]
  },
  {
   "cell_type": "code",
   "execution_count": null,
   "id": "b3418d6d",
   "metadata": {},
   "outputs": [],
   "source": [
    "a2.clear()\n",
    "print(a2)"
   ]
  },
  {
   "cell_type": "markdown",
   "id": "48752bf1",
   "metadata": {},
   "source": [
    "**values( )** retorna una lista de los valores asignados al diccionario. Realmente no es una lista, pero se puede iterar sobre ella. Después se verá más sobre ello:"
   ]
  },
  {
   "cell_type": "code",
   "execution_count": null,
   "id": "f2dc6f52",
   "metadata": {},
   "outputs": [],
   "source": [
    "[ v for v in a1.values() ]"
   ]
  },
  {
   "cell_type": "markdown",
   "id": "983cf880",
   "metadata": {},
   "source": [
    "**keys( )** retorna todos los índices o las claves que contienen los valores del diccionario."
   ]
  },
  {
   "cell_type": "code",
   "execution_count": null,
   "id": "d1c7691f",
   "metadata": {},
   "outputs": [],
   "source": [
    "{ k for k in a1.keys() }"
   ]
  },
  {
   "cell_type": "markdown",
   "id": "391c58d7",
   "metadata": {},
   "source": [
    "**items( )** retorna una lista conteniendo todos los elementos del diccionario como tuplas. Este es el mismo resultado que cuando se usó la función **zip()**, excepto que el orden de los elementos ha sido cambiado por el diccionario."
   ]
  },
  {
   "cell_type": "code",
   "execution_count": null,
   "id": "ca6a5a6a",
   "metadata": {},
   "outputs": [],
   "source": [
    "\",  \".join( \"%s = %d\" % (name,val) for name,val in a1.items())"
   ]
  },
  {
   "cell_type": "markdown",
   "id": "2c09649a",
   "metadata": {},
   "source": [
    "La función **pop( )** se utiliza para eliminar un elemento en particular del diccionario, y ese elemento se puede asignar a una variable. Sólo se puede recuperar el valor, y no la clave."
   ]
  },
  {
   "cell_type": "code",
   "execution_count": null,
   "id": "fc9e399d",
   "metadata": {},
   "outputs": [],
   "source": [
    "val = a1.pop('Four')\n",
    "print(a1)\n",
    "print(\"Removed\",val)"
   ]
  },
  {
   "cell_type": "markdown",
   "id": "7aa30cc0",
   "metadata": {},
   "source": [
    "## Conjuntos (Sets)\n",
    "\n",
    "Los conjuntos se usan para eliminar elementos repetidos en una secuencia o lista. Se usan también para realizar sobre ellos operaciones estándar de conjuntos.\n",
    "\n",
    "Los conjuntos se declaran con `set()`, que crea un conjunto vacío. También `set([secuencia])` se puede usar para declarar un conjunto con un conjunto de elementos."
   ]
  },
  {
   "cell_type": "code",
   "execution_count": null,
   "id": "eed49b37",
   "metadata": {},
   "outputs": [],
   "source": [
    "set1 = set()\n",
    "print(type(set1))"
   ]
  },
  {
   "cell_type": "code",
   "execution_count": null,
   "id": "de3d4162",
   "metadata": {},
   "outputs": [],
   "source": [
    "set0 = set([1,2,2,3,3,4])\n",
    "set0 = {1,2,2,3,3,4} # equivalente a lo de arriba\n",
    "print(set0)"
   ]
  },
  {
   "cell_type": "markdown",
   "id": "bad34476",
   "metadata": {},
   "source": [
    "Los elementos 2 y 3 que se repiten dos veces se ven luego en el conjunto sólo una vez.\n",
    "\n",
    "Sin embargo, cuidado que **{}** **NO** es un conjunto, sino un diccionario."
   ]
  },
  {
   "cell_type": "code",
   "execution_count": null,
   "id": "12c623d5",
   "metadata": {},
   "outputs": [],
   "source": [
    "type({})"
   ]
  },
  {
   "cell_type": "markdown",
   "id": "50a45389",
   "metadata": {},
   "source": [
    "### Funciones para conjuntos"
   ]
  },
  {
   "cell_type": "code",
   "execution_count": null,
   "id": "60011d06",
   "metadata": {},
   "outputs": [],
   "source": [
    "set1 = set([1,2,3])"
   ]
  },
  {
   "cell_type": "code",
   "execution_count": null,
   "id": "dfb0ee4f",
   "metadata": {},
   "outputs": [],
   "source": [
    "set2 = set([2,3,4,5])"
   ]
  },
  {
   "cell_type": "markdown",
   "id": "e45f8476",
   "metadata": {},
   "source": [
    "**union( )** retorna un conjunto que contiene todos los elementos que están en ambos cnojuntos sin repetición."
   ]
  },
  {
   "cell_type": "code",
   "execution_count": null,
   "id": "82b1a169",
   "metadata": {},
   "outputs": [],
   "source": [
    "set1.union(set2)"
   ]
  },
  {
   "cell_type": "markdown",
   "id": "ac41deff",
   "metadata": {},
   "source": [
    "**add( )** añadirá un nuevo elemento al conjunto. Nótese que se puede localizar en cualquier índice y no sólo al final."
   ]
  },
  {
   "cell_type": "code",
   "execution_count": null,
   "id": "936a9e9d",
   "metadata": {},
   "outputs": [],
   "source": [
    "set1.add(0)\n",
    "set1"
   ]
  },
  {
   "cell_type": "markdown",
   "id": "9e1c5775",
   "metadata": {},
   "source": [
    "**intersection( )** retorna un conjunto que contiene todos los elementos que están en ambos conjuntos."
   ]
  },
  {
   "cell_type": "code",
   "execution_count": null,
   "id": "06f31a49",
   "metadata": {},
   "outputs": [],
   "source": [
    "set1.intersection(set2)"
   ]
  },
  {
   "cell_type": "markdown",
   "id": "1d86802b",
   "metadata": {},
   "source": [
    "**difference( )** retorna un conjunto con los elementos que están en `set1` pero no en `set2`."
   ]
  },
  {
   "cell_type": "code",
   "execution_count": null,
   "id": "112f7b5d",
   "metadata": {},
   "outputs": [],
   "source": [
    "set1.difference(set2)"
   ]
  },
  {
   "cell_type": "markdown",
   "id": "95ad1a70",
   "metadata": {},
   "source": [
    "**issubset( ), isdisjoint( ), issuperset( )** son usadas para comprobar si set1/set2 es un subconjunto, disjunto o superconjunto de set2/set1, respectivamente."
   ]
  },
  {
   "cell_type": "code",
   "execution_count": null,
   "id": "e31a4495",
   "metadata": {},
   "outputs": [],
   "source": [
    "set1.issubset(set2)"
   ]
  },
  {
   "cell_type": "code",
   "execution_count": null,
   "id": "edc0ce2a",
   "metadata": {},
   "outputs": [],
   "source": [
    "set2.isdisjoint(set1)"
   ]
  },
  {
   "cell_type": "code",
   "execution_count": null,
   "id": "404b0e27",
   "metadata": {},
   "outputs": [],
   "source": [
    "set2.issuperset(set1)"
   ]
  },
  {
   "cell_type": "markdown",
   "id": "1e27ab74",
   "metadata": {},
   "source": [
    "**pop( )** se usa para eliminar un elemento del conjunto"
   ]
  },
  {
   "cell_type": "code",
   "execution_count": null,
   "id": "076c0419",
   "metadata": {},
   "outputs": [],
   "source": [
    "set1.pop()\n",
    "print(set1)"
   ]
  },
  {
   "cell_type": "markdown",
   "id": "03c531c2",
   "metadata": {},
   "source": [
    "**remove( )** elimina el elemento dado del conjunto."
   ]
  },
  {
   "cell_type": "code",
   "execution_count": null,
   "id": "22f60a2f",
   "metadata": {},
   "outputs": [],
   "source": [
    "set1.remove(2)\n",
    "set1"
   ]
  },
  {
   "cell_type": "markdown",
   "id": "09d7448f",
   "metadata": {},
   "source": [
    "**clear( )** se usa para eliminar todos los elementos del conjunto y convertirlo en vacío."
   ]
  },
  {
   "cell_type": "code",
   "execution_count": null,
   "id": "63769169",
   "metadata": {},
   "outputs": [],
   "source": [
    "set1.clear()\n",
    "set1"
   ]
  },
  {
   "cell_type": "markdown",
   "id": "a432fde9",
   "metadata": {},
   "source": [
    "# Importación y uso de módulos externos"
   ]
  },
  {
   "cell_type": "markdown",
   "id": "919385db",
   "metadata": {},
   "source": [
    "Un **módulo** permite organizar de forma lógica el código Python, y consiste en una agrupación de variables, funciones y clases que se pueden referenciar desde otro código. La agrupación de código cohesionado en módulos facilita el mantenimiento y el uso del mismo por parte de terceros. Solo es posible utilizar en Python código definido en un módulo si se ha declarado anteriormente que este módulo se importa.\n",
    "\n",
    "A la hora de crear proyectos Python suele ser necesario importar módulos porque Python posee multitud de librerías que no están incluidos de forma nativa con el lenguaje, sino que deben cargarse bajo demanda. Las librerías a importar más comúnes se pueden encontrar en https://docs.python.org/3/library/\n",
    "\n",
    "Un **módulo** se puede importar en el código del usuario de una manera similar a los mecanismos **include** (en C/C++) o **import** (en Java). Estos módulos se pueden importar de forma relativa o absoluta. Se aconseja que se opte por **imports absolutos** siempre que sea posible, dado que su declaración es más sencilla y se reduce las posibilidades de error."
   ]
  },
  {
   "cell_type": "markdown",
   "id": "069c303d",
   "metadata": {},
   "source": [
    "## Comando `import <módulo>`"
   ]
  },
  {
   "cell_type": "markdown",
   "id": "12f56db8",
   "metadata": {},
   "source": [
    "El comando `import <módulo>` agrega el módulo nombrado al ámbito del programa actual. Internamente Python busca dicho módulo en los valores de la variable **sys.modules**, en la **librería estándar** y en las rutas declaradas en **system.path** y, si no lo encuentra, lo buscará en system.path.\n",
    "\n",
    "Las instrucciones `import <módulo>` se sitúan, por convenio, en la cabecera del fichero de código. Para ello, se debe utilizar la palabra reservada **import** seguida del nombre del módulo a importar:\n",
    "\n",
    "```python\n",
    "import math\n",
    "import random\n",
    "import csv\n",
    "```"
   ]
  },
  {
   "cell_type": "code",
   "execution_count": null,
   "id": "d5e6cafb",
   "metadata": {},
   "outputs": [],
   "source": [
    "import math             # Se importan variables, funciones y clases definidas en el módulo math\n",
    "\n",
    "print(math.pi)          # La ejecución de math.pi sin importar math provoca un NameError.\n",
    "print(math.ceil(3.1))\n",
    "\n",
    "import random\n",
    "\n",
    "print(random.random())"
   ]
  },
  {
   "cell_type": "markdown",
   "id": "b4247dff",
   "metadata": {},
   "source": [
    "## Comando `from <módulo> import <name>`"
   ]
  },
  {
   "cell_type": "markdown",
   "id": "d409b9bc",
   "metadata": {},
   "source": [
    "Python permite, además, importar de un módulo únicamente los componentes que se desean. Para ello se puede ejecutar el comando `from <módulo> import <name>`:\n",
    "\n",
    "```python\n",
    "from math import pi\n",
    "\n",
    "print(pi)\n",
    "```\n",
    "\n"
   ]
  },
  {
   "cell_type": "code",
   "execution_count": null,
   "id": "f9d833a3",
   "metadata": {},
   "outputs": [],
   "source": [
    "import math\n",
    "\n",
    "print(math.pi)\n",
    "print(math.ceil(3.2))\n",
    "\n",
    "from math import pi, ceil\n",
    "\n",
    "print(pi)\n",
    "print(ceil(3.2))\n",
    "# print(math.pow(3, 4))    Error, ya que únicamente se está importando pi y ceil."
   ]
  },
  {
   "cell_type": "markdown",
   "id": "61aa1f80",
   "metadata": {},
   "source": [
    "Las ventajas de utilizar esta notación son las siguientes:\n",
    "  1. Se reduce el tiempo de ejecución al no cargarse los módulos completamente.\n",
    "  2. Se reduce la memoria consumida por el mismo motivo.\n",
    "  3. Se pueden utilizar las variables, funciones y clases sin cualificar."
   ]
  },
  {
   "cell_type": "markdown",
   "id": "e155abff",
   "metadata": {},
   "source": [
    "## Comando `import <módulo> as <alias>`"
   ]
  },
  {
   "cell_type": "markdown",
   "id": "0c5b42c5",
   "metadata": {},
   "source": [
    "El problema de utilizar las instrucciones `import <módulo>` es que se debe cualificar cada método con el nombre de los paquetes y módulos, y estos pueden ser arbitrariamente largos.\n",
    "\n",
    "El problema, por otro lado, de las instrucciones `from <módulo> import <nombre>` es que solo se importan ciertos nombres del módulo, y no el módulo completo. Por ello se puede utilizar una tercera instrucción: `import <módulo> as <alias>`, que renombra un módulo cualificado con un nuevo alias, y en adelante este alias es perfectamente usable.\n",
    "\n",
    "```python\n",
    "import paquete1.paquete2.modulo as m\n",
    "\n",
    "m.metodo1(3, 4)\n",
    "m.metodo2(3, 4)\n",
    "```"
   ]
  },
  {
   "cell_type": "code",
   "execution_count": null,
   "id": "859b2271",
   "metadata": {},
   "outputs": [],
   "source": [
    "import math as m\n",
    "\n",
    "print(m.pi)\n",
    "print(m.ceil(3.4))\n",
    "# print(math.pow(3.4))    Error, ya que math no existe, solo existe m"
   ]
  },
  {
   "cell_type": "markdown",
   "id": "da69e01d",
   "metadata": {},
   "source": [
    "## Biblioteca estándar"
   ]
  },
  {
   "cell_type": "markdown",
   "id": "54921df4",
   "metadata": {},
   "source": [
    "La biblioteca estándar de Python incluye todos aquellos módulos con los que se puede trabajar tras instalar Python en el sistema. La documentación de la biblioteca estándar se puede encontrar en: https://docs.python.org/3.5/library/\n",
    "\n",
    "Algunas utilidades de la biblioteca estándar se pueden utilizar sin importar nada nuevo: Funciones, constantes y tipos.\n",
    "  1. Funciones básicas: abs(), min(), max(), sorted(), len(), eval(), print(), eval()...\n",
    "  2. Constantes básicas: True, False...\n",
    "  3. Tipos básicos: int(), str(), float()..."
   ]
  },
  {
   "cell_type": "code",
   "execution_count": null,
   "id": "64c8db20",
   "metadata": {},
   "outputs": [],
   "source": [
    "print(\"Abs:\", abs(-45))                        # Abs: Calcula el valor absoluto de un número\n",
    "print(\"Len:\", len([10, 20, 30]))               # Len: Devuelve la longitud de la colección\n",
    "print(\"Min:\", min(3, 4, 5))                    # Min: Obtén el valor mínimo de una colección\n",
    "print(\"Min2:\", min(\"a\", \"c\", \"g\", \"b\"))        # Min: También de cadenas de texto\n",
    "print(\"Max:\", max(3, 4, 5))                    # Max: Obtén el valor máximo de una colección\n",
    "print(\"Pow:\", pow(3, 2))                       # Pow: Eleva el primer valor al segundo\n",
    "print(\"Sorted:\", sorted([1, 5, 10, 2, 6, 9]))  # Sorted: Ordena el contenido de una colección\n",
    "\n",
    "try:\n",
    "    open(\"file.txt\", \"rw\")                     # Open: Abre un fichero en un modo dado\n",
    "except ValueError as error:\n",
    "    print(\">> No existe: file.txt\")"
   ]
  },
  {
   "cell_type": "markdown",
   "id": "c267f01f",
   "metadata": {},
   "source": [
    "## Numpy\n",
    "\n",
    "Numpy es una de las librerías más utilizadas en Python, y ofrece un interfaz sencillo para operaciones eficientes con números, _arrays_ y matrices. Numpy se utilizará de apoyo muchas veces que haya que hacer procesamiento local de datos recogidos de una base de datos, o como preparación para la graficación de datos. En la celda siguiente se muestra un vídeo introductorio, y también se puede acceder a tutoriales online: [Tutorial](https://github.com/esc/scipy2013-tutorial-numpy-ipython/blob/master/operations.ipynb)."
   ]
  },
  {
   "cell_type": "code",
   "execution_count": null,
   "id": "88f51467",
   "metadata": {},
   "outputs": [],
   "source": [
    "import numpy as np"
   ]
  },
  {
   "cell_type": "code",
   "execution_count": null,
   "id": "e52a94dd",
   "metadata": {},
   "outputs": [],
   "source": [
    "from IPython.display import YouTubeVideo\n",
    "YouTubeVideo('o8fmjaW9a0A')"
   ]
  },
  {
   "cell_type": "markdown",
   "id": "6cffa543",
   "metadata": {},
   "source": [
    "Numpy permite generar y procesar arrays de datos de forma muy eficiente. A continuación se muestran algunos ejemplos:"
   ]
  },
  {
   "cell_type": "code",
   "execution_count": null,
   "id": "23fab24c",
   "metadata": {},
   "outputs": [],
   "source": [
    "a = np.array([4,5,6])\n",
    "\n",
    "print(a.shape)\n",
    "print(a[0])\n",
    "a[0] = 9\n",
    "print(a)\n",
    "a"
   ]
  },
  {
   "cell_type": "markdown",
   "id": "b67a4499",
   "metadata": {},
   "source": [
    "`shape` muestra el tamaño en cada dimensión del array, mientras que `ndim` muestra la dimensión "
   ]
  },
  {
   "cell_type": "code",
   "execution_count": null,
   "id": "f283815b",
   "metadata": {},
   "outputs": [],
   "source": [
    "a.ndim\n"
   ]
  },
  {
   "cell_type": "code",
   "execution_count": null,
   "id": "ee14934a",
   "metadata": {},
   "outputs": [],
   "source": [
    "len(a) # Tamaño de la primera dimensión"
   ]
  },
  {
   "cell_type": "code",
   "execution_count": null,
   "id": "0e28b405",
   "metadata": {},
   "outputs": [],
   "source": [
    "c = np.array([[[1], [2]], [[3], [4]]])\n",
    "c"
   ]
  },
  {
   "cell_type": "code",
   "execution_count": null,
   "id": "8612a4ab",
   "metadata": {},
   "outputs": [],
   "source": [
    "c.shape"
   ]
  },
  {
   "cell_type": "code",
   "execution_count": null,
   "id": "23984b96",
   "metadata": {},
   "outputs": [],
   "source": [
    "c.ndim"
   ]
  },
  {
   "cell_type": "markdown",
   "id": "f721b96e",
   "metadata": {},
   "source": [
    "`arange(n)` permite generar un rango uniforme de $0\\ldots n-1$"
   ]
  },
  {
   "cell_type": "code",
   "execution_count": null,
   "id": "7f8637f6",
   "metadata": {},
   "outputs": [],
   "source": [
    "np.arange(10)"
   ]
  },
  {
   "cell_type": "markdown",
   "id": "5d28e3c4",
   "metadata": {},
   "source": [
    "También con el rango especificado."
   ]
  },
  {
   "cell_type": "code",
   "execution_count": null,
   "id": "81bf017c",
   "metadata": {},
   "outputs": [],
   "source": [
    "np.arange(1,20)"
   ]
  },
  {
   "cell_type": "markdown",
   "id": "46a60c21",
   "metadata": {},
   "source": [
    "Con separación especificada"
   ]
  },
  {
   "cell_type": "code",
   "execution_count": null,
   "id": "4bdecc8d",
   "metadata": {},
   "outputs": [],
   "source": [
    "np.arange(1,9,2)"
   ]
  },
  {
   "cell_type": "markdown",
   "id": "15a82ba0",
   "metadata": {},
   "source": [
    "O por número de elementos en el array:"
   ]
  },
  {
   "cell_type": "code",
   "execution_count": null,
   "id": "2f7d6675",
   "metadata": {},
   "outputs": [],
   "source": [
    "c = np.linspace(0,100,6)\n",
    "c"
   ]
  },
  {
   "cell_type": "code",
   "execution_count": null,
   "id": "a42ed50a",
   "metadata": {},
   "outputs": [],
   "source": [
    "c = np.linspace(0,100,6,endpoint=False)\n",
    "c"
   ]
  },
  {
   "cell_type": "markdown",
   "id": "1500ec2b",
   "metadata": {},
   "source": [
    "También arrays multidimensionales:"
   ]
  },
  {
   "cell_type": "code",
   "execution_count": null,
   "id": "d98ad8fb",
   "metadata": {},
   "outputs": [],
   "source": [
    "a = np.zeros((2,2,2,2,2))\n",
    "print (a)"
   ]
  },
  {
   "cell_type": "code",
   "execution_count": null,
   "id": "b4c8b1e4",
   "metadata": {},
   "outputs": [],
   "source": [
    "a.ndim"
   ]
  },
  {
   "cell_type": "markdown",
   "id": "a5567ad7",
   "metadata": {},
   "source": [
    "`dtype` especifica el tipo almacenado en el array."
   ]
  },
  {
   "cell_type": "code",
   "execution_count": null,
   "id": "c4bb5e91",
   "metadata": {},
   "outputs": [],
   "source": [
    "a.dtype"
   ]
  },
  {
   "cell_type": "markdown",
   "id": "c9d7b0c3",
   "metadata": {},
   "source": [
    "En `numpy` se pueden especificar tipos concretos, más descriptivos, no sólo string. Por ejemplo:"
   ]
  },
  {
   "cell_type": "code",
   "execution_count": null,
   "id": "44e708d6",
   "metadata": {},
   "outputs": [],
   "source": [
    "f = np.array(['Bonjour', 'Hello', 'Hallo',])\n",
    "f.dtype     # <--- strings que contienen como máximo 7 caracteres (unicode)"
   ]
  },
  {
   "cell_type": "code",
   "execution_count": null,
   "id": "3c94cadf",
   "metadata": {},
   "outputs": [],
   "source": [
    "np.ones((3,3))"
   ]
  },
  {
   "cell_type": "code",
   "execution_count": null,
   "id": "5d3f1f62",
   "metadata": {},
   "outputs": [],
   "source": [
    "np.eye(3)"
   ]
  },
  {
   "cell_type": "code",
   "execution_count": null,
   "id": "377344ae",
   "metadata": {},
   "outputs": [],
   "source": [
    "d = np.diag(np.array([1, 2, 3, 4]))\n",
    "d"
   ]
  },
  {
   "cell_type": "code",
   "execution_count": null,
   "id": "fe14b0d8",
   "metadata": {},
   "outputs": [],
   "source": [
    "b = np.random.random((2,2))\n",
    "print (b)"
   ]
  },
  {
   "cell_type": "code",
   "execution_count": null,
   "id": "9dc59401",
   "metadata": {},
   "outputs": [],
   "source": [
    "a = np.random.random((2,2))\n",
    "print(a)"
   ]
  },
  {
   "cell_type": "markdown",
   "id": "7fc6ffaa",
   "metadata": {},
   "source": [
    "Se pueden aplicar funciones sobre todo el array o matriz, y el resultado será una matriz idéntica con el operador aplicado. Similar a lo que ocurre con la operación `map` de algunos lenguajes de programación (incluído Python):"
   ]
  },
  {
   "cell_type": "code",
   "execution_count": null,
   "id": "f8a14346",
   "metadata": {},
   "outputs": [],
   "source": [
    "print (a >= .5)"
   ]
  },
  {
   "cell_type": "markdown",
   "id": "8b0bb756",
   "metadata": {},
   "source": [
    "También se pueden _filtrar_ los elementos de un array o matriz que cumplan una condición. Para eso se utiliza el operador de indización (`[]`) con una expresión booleana."
   ]
  },
  {
   "cell_type": "code",
   "execution_count": null,
   "id": "b8099f7d",
   "metadata": {},
   "outputs": [],
   "source": [
    "print (a[a >= .5])"
   ]
  },
  {
   "cell_type": "code",
   "execution_count": null,
   "id": "1a610bb2",
   "metadata": {},
   "outputs": [],
   "source": [
    "a"
   ]
  },
  {
   "cell_type": "markdown",
   "id": "350b9194",
   "metadata": {},
   "source": [
    "También se puede utilizar slicing como en los arrays normales de python, y acceder a distintas dimensiones:"
   ]
  },
  {
   "cell_type": "code",
   "execution_count": null,
   "id": "ed50d126",
   "metadata": {},
   "outputs": [],
   "source": [
    "a[0]"
   ]
  },
  {
   "cell_type": "code",
   "execution_count": null,
   "id": "54ee4f22",
   "metadata": {},
   "outputs": [],
   "source": [
    "a[0][1]"
   ]
  },
  {
   "cell_type": "code",
   "execution_count": null,
   "id": "57e120e0",
   "metadata": {},
   "outputs": [],
   "source": [
    "a[(0,1)] # También con una tupla"
   ]
  },
  {
   "cell_type": "code",
   "execution_count": null,
   "id": "538827ee",
   "metadata": {},
   "outputs": [],
   "source": [
    "c = np.array(np.arange(0,20)).reshape(4,5)\n",
    "c"
   ]
  },
  {
   "cell_type": "code",
   "execution_count": null,
   "id": "5fe8d6d8",
   "metadata": {},
   "outputs": [],
   "source": [
    "c[1:2] # El indexado original siempre se hace por la primera dimensión"
   ]
  },
  {
   "cell_type": "code",
   "execution_count": null,
   "id": "5e510720",
   "metadata": {},
   "outputs": [],
   "source": [
    "c[:2]"
   ]
  },
  {
   "cell_type": "code",
   "execution_count": null,
   "id": "72e83baa",
   "metadata": {},
   "outputs": [],
   "source": [
    "c = c.flatten()\n",
    "c"
   ]
  },
  {
   "cell_type": "code",
   "execution_count": null,
   "id": "76ee2dd9",
   "metadata": {},
   "outputs": [],
   "source": [
    "c[1:6:2]"
   ]
  },
  {
   "cell_type": "markdown",
   "id": "bda5fde9",
   "metadata": {},
   "source": [
    "¿Por qué usar Numpy? \n",
    "\n",
    "`%%capture` captura la salida de la ejecución de la celda en la variable dada como parámetro. Después se puede imprimir.\n",
    "\n",
    "`%timeit` se utiliza para ejecutar varias veces una instrucción y calcular un promedio de su duración."
   ]
  },
  {
   "cell_type": "code",
   "execution_count": null,
   "id": "4055753d",
   "metadata": {},
   "outputs": [],
   "source": [
    "%%capture timeit_output\n",
    "\n",
    "%timeit l1 = range(1,1000)\n",
    "\n",
    "%timeit l2 = np.arange(1,1000)"
   ]
  },
  {
   "cell_type": "code",
   "execution_count": null,
   "id": "ad11c6f6",
   "metadata": {},
   "outputs": [],
   "source": [
    "print(timeit_output)"
   ]
  },
  {
   "cell_type": "markdown",
   "id": "b66f1c5d",
   "metadata": {},
   "source": [
    "Los arrays de numpy también tienen operaciones que se realizan sobre todo el array o matriz, como `sum`, `average`, etc. También se puede realizar el diferentes \"ejes\" (*axes*). El 0 siendo columnas y el 1 filas."
   ]
  },
  {
   "cell_type": "code",
   "execution_count": null,
   "id": "488c490d",
   "metadata": {},
   "outputs": [],
   "source": [
    "x = np.array([[1,2],[3,4]])\n",
    "\n",
    "print (np.sum(x))  # Suma de todos los elementos. Imprime \"10\"\n",
    "print (np.sum(x, axis=0))  # Suma todas las columnas. Imprime \"[4 6]\"\n",
    "print (np.sum(x, axis=1))  # Suma todas las filas. Imprime \"[3 7]\""
   ]
  },
  {
   "cell_type": "markdown",
   "id": "8f1ae5de",
   "metadata": {},
   "source": [
    "También, los operadores se aplican a todos los elementos del array."
   ]
  },
  {
   "cell_type": "code",
   "execution_count": null,
   "id": "e0cfc98a",
   "metadata": {},
   "outputs": [],
   "source": [
    "x * 2"
   ]
  },
  {
   "cell_type": "code",
   "execution_count": null,
   "id": "ce407184",
   "metadata": {},
   "outputs": [],
   "source": [
    "x ** 2"
   ]
  },
  {
   "cell_type": "markdown",
   "id": "205be1e6",
   "metadata": {},
   "source": [
    "`numpy` tiene infinidad de funciones, por lo que sería interesante darse una vuelta por su documentación: https://docs.scipy.org/doc/. No obstante, se puede obtener ayuda de varias formas:"
   ]
  },
  {
   "cell_type": "code",
   "execution_count": null,
   "id": "88ef0433",
   "metadata": {},
   "outputs": [],
   "source": [
    "np.array?"
   ]
  },
  {
   "cell_type": "code",
   "execution_count": null,
   "id": "c88ca964",
   "metadata": {
    "scrolled": true
   },
   "outputs": [],
   "source": [
    "np.lookfor('create array')"
   ]
  },
  {
   "cell_type": "code",
   "execution_count": null,
   "id": "7b7ca1c8",
   "metadata": {},
   "outputs": [],
   "source": [
    "np.con*?"
   ]
  },
  {
   "cell_type": "markdown",
   "id": "0356084a",
   "metadata": {},
   "source": [
    "## Matplotlib\n",
    "\n",
    "https://matplotlib.org\n",
    "\n",
    "**Matplotlib** es la librería más común para crear gráficos de forma sencilla. Lo veremos aquí primero conectado sólo con `Numpy` y después conectado con `Pandas`."
   ]
  },
  {
   "cell_type": "code",
   "execution_count": null,
   "id": "688725bc",
   "metadata": {},
   "outputs": [],
   "source": [
    "import matplotlib.pyplot as plt\n",
    "import matplotlib"
   ]
  },
  {
   "cell_type": "markdown",
   "id": "e3699e67",
   "metadata": {},
   "source": [
    "La librería permite crear gráficos de muchos tipos. Incluimos algunos ejemplos."
   ]
  },
  {
   "cell_type": "markdown",
   "id": "4d3d1284",
   "metadata": {},
   "source": [
    "### Line plots"
   ]
  },
  {
   "cell_type": "code",
   "execution_count": null,
   "id": "cd0af8db",
   "metadata": {
    "scrolled": true
   },
   "outputs": [],
   "source": [
    "import matplotlib.pyplot as plt\n",
    "\n",
    "x  = [1, 2, 3, 4, 5, 6, 7, 8, 9]\n",
    "y1 = [1, 3, 5, 3, 1, 3, 5, 3, 1]\n",
    "y2 = [2, 4, 6, 4, 2, 4, 6, 4, 2]\n",
    "plt.plot(x, y1, label=\"line L\")\n",
    "plt.plot(x, y2, label=\"line H\")\n",
    "plt.plot()\n",
    "\n",
    "plt.xlabel(\"x axis\")\n",
    "plt.ylabel(\"y axis\")\n",
    "plt.title(\"Line Graph Example\")\n",
    "plt.legend()\n",
    "plt.show()"
   ]
  },
  {
   "cell_type": "markdown",
   "id": "c6c41f7b",
   "metadata": {},
   "source": [
    "### Bar plots"
   ]
  },
  {
   "cell_type": "code",
   "execution_count": null,
   "id": "9eff29a0",
   "metadata": {},
   "outputs": [],
   "source": [
    "import matplotlib.pyplot as plt\n",
    "\n",
    "x1 = [1, 3, 4, 5, 6, 7, 9]\n",
    "y1 = [4, 7, 2, 4, 7, 8, 3]\n",
    "\n",
    "x2 = [2, 4, 6, 8, 10]\n",
    "y2 = [5, 6, 2, 6, 2]\n",
    "\n",
    "# Colors: https://matplotlib.org/api/colors_api.html\n",
    "\n",
    "plt.bar(x1, y1, label=\"Blue Bar\", color='b')\n",
    "plt.bar(x2, y2, label=\"Green Bar\", color='g')\n",
    "plt.plot()\n",
    "\n",
    "plt.xlabel(\"bar number\")\n",
    "plt.ylabel(\"bar height\")\n",
    "plt.title(\"Bar Chart Example\")\n",
    "plt.legend()\n",
    "plt.show()"
   ]
  },
  {
   "cell_type": "markdown",
   "id": "120d6cc9",
   "metadata": {},
   "source": [
    "### Histograms"
   ]
  },
  {
   "cell_type": "code",
   "execution_count": null,
   "id": "f524adae",
   "metadata": {},
   "outputs": [],
   "source": [
    "import matplotlib.pyplot as plt\n",
    "import numpy as np\n",
    "\n",
    "n = 5 + np.random.randn(1000)\n",
    "\n",
    "m = [m for m in range(len(n))]\n",
    "plt.bar(m, n)\n",
    "plt.title(\"Raw Data\")\n",
    "plt.show()\n",
    "\n",
    "plt.hist(n, bins=20)\n",
    "plt.title(\"Histogram\")\n",
    "plt.show()\n",
    "\n",
    "plt.hist(n, cumulative=True, bins=20)\n",
    "plt.title(\"Cumulative Histogram\")\n",
    "plt.show()"
   ]
  },
  {
   "cell_type": "markdown",
   "id": "47c8efc3",
   "metadata": {},
   "source": [
    "### Scatter plots"
   ]
  },
  {
   "cell_type": "code",
   "execution_count": null,
   "id": "9714a4af",
   "metadata": {},
   "outputs": [],
   "source": [
    "import matplotlib.pyplot as plt\n",
    "\n",
    "x1 = [2, 3, 4]\n",
    "y1 = [5, 5, 5]\n",
    "\n",
    "x2 = [1, 2, 3, 4, 5]\n",
    "y2 = [2, 3, 2, 3, 4]\n",
    "y3 = [6, 8, 7, 8, 7]\n",
    "\n",
    "# Markers: https://matplotlib.org/api/markers_api.html\n",
    "\n",
    "plt.scatter(x1, y1)\n",
    "plt.scatter(x2, y2, marker='v', color='r')\n",
    "plt.scatter(x2, y3, marker='^', color='m')\n",
    "plt.title('Scatter Plot Example')\n",
    "plt.show()"
   ]
  },
  {
   "cell_type": "markdown",
   "id": "aa49094b",
   "metadata": {},
   "source": [
    "### Gráficos en 3D\n",
    "\n",
    "- **3D Scatter plots**\n",
    "- **3D Bar plots**\n",
    "- **Wireframe plots**\n",
    "- **...**"
   ]
  },
  {
   "cell_type": "code",
   "execution_count": null,
   "id": "1d5df454",
   "metadata": {},
   "outputs": [],
   "source": [
    "from mpl_toolkits.mplot3d import axes3d\n",
    "\n",
    "fig = plt.figure()\n",
    "ax = fig.add_subplot(111, projection = '3d')\n",
    "\n",
    "x1 = [1, 2, 3, 4, 5, 6, 7, 8, 9, 10]\n",
    "y1 = np.random.randint(10, size=10)\n",
    "z1 = np.random.randint(10, size=10)\n",
    "\n",
    "x2 = [-1, -2, -3, -4, -5, -6, -7, -8, -9, -10]\n",
    "y2 = np.random.randint(-10, 0, size=10)\n",
    "z2 = np.random.randint(10, size=10)\n",
    "\n",
    "ax.scatter(x1, y1, z1, c='b', marker='o', label='blue')\n",
    "ax.scatter(x2, y2, z2, c='g', marker='D', label='green')\n",
    "\n",
    "ax.set_xlabel('x axis')\n",
    "ax.set_ylabel('y axis')\n",
    "ax.set_zlabel('z axis')\n",
    "plt.title(\"3D Scatter Plot Example\")\n",
    "plt.legend()\n",
    "plt.tight_layout()\n",
    "plt.show()\n",
    "\n",
    "fig = plt.figure()\n",
    "ax = fig.add_subplot(111, projection = '3d')\n",
    "\n",
    "x = [1, 2, 3, 4, 5, 6, 7, 8, 9, 10]\n",
    "y = np.random.randint(10, size=10)\n",
    "z = np.zeros(10)\n",
    "\n",
    "dx = np.ones(10)\n",
    "dy = np.ones(10)\n",
    "dz = [1, 2, 3, 4, 5, 6, 7, 8, 9, 10]\n",
    "\n",
    "ax.bar3d(x, y, z, dx, dy, dz, color='g')\n",
    "\n",
    "ax.set_xlabel('x axis')\n",
    "ax.set_ylabel('y axis')\n",
    "ax.set_zlabel('z axis')\n",
    "plt.title(\"3D Bar Chart Example\")\n",
    "plt.tight_layout()\n",
    "plt.show()"
   ]
  },
  {
   "cell_type": "markdown",
   "id": "82ee11ea",
   "metadata": {},
   "source": [
    "Lo siguiente hace que los gráficos se muestren inline. Para figuras pequeñas se puede utilizar unas figuras interactivas que permiten zoom, usando `%maplotlib nbagg`, aunque no funciona el Lab. Sí que se puede instalar la extensión `jupyter-matplotlib`. Para conseguir una funcionalidad parecida, se puede usar `%matplotlib widtet`:"
   ]
  },
  {
   "cell_type": "code",
   "execution_count": null,
   "id": "6f6df9d9",
   "metadata": {},
   "outputs": [],
   "source": [
    "%matplotlib widget"
   ]
  },
  {
   "cell_type": "markdown",
   "id": "54914855",
   "metadata": {},
   "source": [
    "Se pueden utilizar varios estilos de visualización. Los estilos disponibles son:"
   ]
  },
  {
   "cell_type": "code",
   "execution_count": null,
   "id": "1df13111",
   "metadata": {
    "scrolled": true
   },
   "outputs": [],
   "source": [
    "matplotlib.style.available"
   ]
  },
  {
   "cell_type": "code",
   "execution_count": null,
   "id": "3590ad9f",
   "metadata": {},
   "outputs": [],
   "source": [
    "matplotlib.style.use('fivethirtyeight')"
   ]
  },
  {
   "cell_type": "code",
   "execution_count": null,
   "id": "29f536e6",
   "metadata": {},
   "outputs": [],
   "source": [
    "x = np.arange(0, 3 * np.pi, 0.1)\n",
    "y = np.sin(x)\n",
    "# Plot con matplotlib\n",
    "plt.plot(x, y)\n",
    "plt.show()"
   ]
  },
  {
   "cell_type": "code",
   "execution_count": null,
   "id": "29f117fd",
   "metadata": {},
   "outputs": [],
   "source": [
    "plt.subplot(221)\n",
    "plt.plot(range(12))\n",
    "plt.subplot(222, facecolor='y')\n",
    "plt.plot(range(100))\n",
    "plt.subplot(223)\n",
    "plt.plot(x,y)\n",
    "plt.show()"
   ]
  },
  {
   "cell_type": "code",
   "execution_count": null,
   "id": "21ca0fa2",
   "metadata": {},
   "outputs": [],
   "source": [
    "# Computa las coordenadas x e y de los puntos de las curvas de seno y coseno\n",
    "x = np.arange(0, 3 * np.pi, 0.1)\n",
    "y_sin = np.sin(x)\n",
    "y_cos = np.cos(x)\n",
    "\n",
    "# Plot\n",
    "plt.plot(x, y_sin)\n",
    "plt.plot(x, y_cos)\n",
    "plt.xlabel('etiqueta eje x')\n",
    "plt.ylabel('etiqueta eje y')\n",
    "plt.title('Seno y Coseno')\n",
    "plt.legend(['Seno', 'Coseno'])\n",
    "plt.show()"
   ]
  },
  {
   "cell_type": "code",
   "execution_count": null,
   "id": "45f11696",
   "metadata": {},
   "outputs": [],
   "source": [
    "image = np.arange(900).reshape((30,30))\n",
    "plt.imshow(image, cmap=plt.cm.hot)\n",
    "plt.colorbar()"
   ]
  },
  {
   "cell_type": "markdown",
   "id": "d6438622",
   "metadata": {},
   "source": [
    "## Pandas\n",
    "\n",
    "Tutoriales: [1](http://pandas.pydata.org/pandas-docs/version/0.18.1/tutorials.html), [2](https://dev.socrata.com/blog/2016/02/01/pandas-and-jupyter-notebook.html), [3](http://nikgrozev.com/2015/12/27/pandas-in-jupyter-quickstart-and-useful-snippets/)."
   ]
  },
  {
   "cell_type": "code",
   "execution_count": null,
   "id": "411c1913",
   "metadata": {},
   "outputs": [],
   "source": [
    "%pip install pandas\n",
    "\n",
    "import numpy as np\n",
    "import pandas as pd"
   ]
  },
  {
   "cell_type": "code",
   "execution_count": null,
   "id": "614380c4",
   "metadata": {},
   "outputs": [],
   "source": [
    "import matplotlib.pyplot as plt\n",
    "import matplotlib"
   ]
  },
  {
   "cell_type": "code",
   "execution_count": null,
   "id": "3e2c5d0f",
   "metadata": {},
   "outputs": [],
   "source": [
    "%matplotlib inline"
   ]
  },
  {
   "cell_type": "code",
   "execution_count": null,
   "id": "1f6e46cb",
   "metadata": {},
   "outputs": [],
   "source": [
    "matplotlib.style.use('fivethirtyeight')"
   ]
  },
  {
   "cell_type": "markdown",
   "id": "a2270d48",
   "metadata": {},
   "source": [
    "Pandas permite gestionar conjuntos de datos n-dimensionales de diferentes formas, y también conectarlo con matplotlib para hacer gráficas.\n",
    "\n",
    "Los conceptos principales de Pandas son los `Dataframes` y las `Series`. La diferencia entre ambas es que la serie guarda sólo una serie (una columna o una fila, depende de como se quiera interpretar), mientras que un Dataframe guarda estructuras multidimensaionales agregando series.\n",
    "\n",
    "Ambas tienen una (o varias) \"columna fantasma\", que sirve de índice, y que se puede acceder con `d.index` (tanto si `d` es una serie o un dataframe). Si no se especifica un índice, se le añade uno virtual numerando las filas desde cero. Además, los índices pueden ser multidimensionales (por ejemplo, tener un índice por mes y dentro uno por dia de la semana)."
   ]
  },
  {
   "cell_type": "code",
   "execution_count": null,
   "id": "9293bbf5",
   "metadata": {
    "scrolled": true
   },
   "outputs": [],
   "source": [
    "ts = pd.Series(np.random.randn(1000), index=pd.date_range('1/1/2000', periods=1000))\n",
    "ts"
   ]
  },
  {
   "cell_type": "markdown",
   "id": "e9c7de64",
   "metadata": {},
   "source": [
    "`pandas` incluye muchísimas funciones y se ha convertido en el estándar de facto del procesamiento de datos, incluso superando a R. Por ejemplo, la función vista `date_range`, permite generar periodos de fecha. Estos periodos se utilizan de índice."
   ]
  },
  {
   "cell_type": "markdown",
   "id": "2f3db6ea",
   "metadata": {},
   "source": [
    "La función `describe()`  muestra datos sobre la serie o el dataframe, percentiles, media, máximo, etc."
   ]
  },
  {
   "cell_type": "code",
   "execution_count": null,
   "id": "399feac6",
   "metadata": {
    "scrolled": true
   },
   "outputs": [],
   "source": [
    "ts.describe()"
   ]
  },
  {
   "cell_type": "markdown",
   "id": "7b09e631",
   "metadata": {},
   "source": [
    "La función `head()` muestra los primeros datos de la serie o el Dataframe:"
   ]
  },
  {
   "cell_type": "code",
   "execution_count": null,
   "id": "974702d0",
   "metadata": {},
   "outputs": [],
   "source": [
    "ts.head()"
   ]
  },
  {
   "cell_type": "markdown",
   "id": "ba50a767",
   "metadata": {},
   "source": [
    "Hay muchas funciones disponibles para las series y los dataframes. Por ejemplo, `cumsum` realiza una suma acumulativa:"
   ]
  },
  {
   "cell_type": "code",
   "execution_count": null,
   "id": "c29d9df8",
   "metadata": {},
   "outputs": [],
   "source": [
    "ts = ts.cumsum()"
   ]
  },
  {
   "cell_type": "markdown",
   "id": "c81b8ce1",
   "metadata": {},
   "source": [
    "El resultado se puede mostrar en un *plot*. Pandas utiliza `matplotlib` por debajo, pero ofrece un API más sencillo. En la mayoría de los casos no hace falta usar ninguna característica, y las gráficas son \"adecuadas\"."
   ]
  },
  {
   "cell_type": "code",
   "execution_count": null,
   "id": "8b236145",
   "metadata": {},
   "outputs": [],
   "source": [
    "ts.plot();"
   ]
  },
  {
   "cell_type": "markdown",
   "id": "5c68d993",
   "metadata": {},
   "source": [
    "Como se ha dicho, los `DataFrame` son similares a las series, salvo con $n$ dimensiones. Los atributos de creación son similares a las series. Se puede especificar un índice, que puede ser múltiple, y también darle nombre a la lista de columnas, con la entrada `columns`.\n",
    "\n",
    "Nótese cómo se utiliza `numpy` para generar una matriz de 4 columnas de 1000 entradas, y que el índice del DataFrame se \"reutiliza\" de la anterior serie (esto es, la lista de los 1000 primeros días desde el 1 de enero de 2000).\n",
    "\n",
    "La función `cumsum()` también se utiliza aquí para devolver una suma cumulativa, pero se realiza a la vez en las cuatro columnas."
   ]
  },
  {
   "cell_type": "code",
   "execution_count": null,
   "id": "590d7b1d",
   "metadata": {},
   "outputs": [],
   "source": [
    "df = pd.DataFrame(np.random.randn(1000, 4), index=ts.index, columns=list('ABCD'))\n",
    "\n",
    "df = df.cumsum()\n",
    "\n",
    "df.plot();"
   ]
  },
  {
   "cell_type": "markdown",
   "id": "9fecc5e2",
   "metadata": {},
   "source": [
    "Como se vió en `numpy`, también se puede extraer la dimensionalidad del DataFrame:"
   ]
  },
  {
   "cell_type": "code",
   "execution_count": null,
   "id": "de5bb4c2",
   "metadata": {},
   "outputs": [],
   "source": [
    "df.shape"
   ]
  },
  {
   "cell_type": "markdown",
   "id": "9e4007c3",
   "metadata": {},
   "source": [
    "Se puede hacer plot también de una columna contra otra."
   ]
  },
  {
   "cell_type": "code",
   "execution_count": null,
   "id": "56bc3fdb",
   "metadata": {},
   "outputs": [],
   "source": [
    "df3 = pd.DataFrame(np.random.randn(1000, 2), columns=['B', 'C']).cumsum()\n",
    "df3['A'] = pd.Series(list(range(len(df3))))\n",
    "df3.plot(x='A', y='B');"
   ]
  },
  {
   "cell_type": "code",
   "execution_count": null,
   "id": "41ba0afc",
   "metadata": {
    "scrolled": true
   },
   "outputs": [],
   "source": [
    "df3"
   ]
  },
  {
   "cell_type": "markdown",
   "id": "922fb0d8",
   "metadata": {},
   "source": [
    "El siguiente código también muestra cómo se puede construir un DataFrame a partir de un diccionario."
   ]
  },
  {
   "cell_type": "code",
   "execution_count": null,
   "id": "6b8f21a2",
   "metadata": {},
   "outputs": [],
   "source": [
    "dict={\n",
    "         'fechas':['02-01-12','03-01-12','04-01-12','05-01-12','06-01-12'],\n",
    "         'día':['soleado','lluvioso','cálido','soleado','cálido'],\n",
    "         'viento':[12,34,45,56,67],\n",
    "         'temp':[45,46,47,48,49]\n",
    "       }\n",
    "# Conversión a un objeto DataFrame\n",
    "df=pd.DataFrame(dict)\n",
    "\n",
    "df"
   ]
  },
  {
   "cell_type": "markdown",
   "id": "7cfec633",
   "metadata": {},
   "source": [
    "El `plot` hace lo que puede con las columnas numéricas. Nótese cómo se ha añadido un índice automático numerado desde 0."
   ]
  },
  {
   "cell_type": "code",
   "execution_count": null,
   "id": "85037e13",
   "metadata": {},
   "outputs": [],
   "source": [
    "df.plot()"
   ]
  },
  {
   "cell_type": "markdown",
   "id": "377390ee",
   "metadata": {},
   "source": [
    "Podemos especificar que el índice en este caso van a ser las fechas:"
   ]
  },
  {
   "cell_type": "code",
   "execution_count": null,
   "id": "91aea9c0",
   "metadata": {},
   "outputs": [],
   "source": [
    "df.index = df['fechas']"
   ]
  },
  {
   "cell_type": "code",
   "execution_count": null,
   "id": "1807018b",
   "metadata": {},
   "outputs": [],
   "source": [
    "df"
   ]
  },
  {
   "cell_type": "code",
   "execution_count": null,
   "id": "b1cd21ff",
   "metadata": {
    "scrolled": true
   },
   "outputs": [],
   "source": [
    "df.plot()"
   ]
  },
  {
   "cell_type": "code",
   "execution_count": null,
   "id": "e8b0329e",
   "metadata": {},
   "outputs": [],
   "source": [
    "df.drop('fechas',axis=1,inplace=True)\n",
    "df"
   ]
  },
  {
   "cell_type": "code",
   "execution_count": null,
   "id": "73a627b4",
   "metadata": {
    "scrolled": true
   },
   "outputs": [],
   "source": [
    "df.plot()"
   ]
  },
  {
   "cell_type": "markdown",
   "id": "0adc130d",
   "metadata": {},
   "source": [
    "Ahora el índice, aunque su nombre ponga \"fechas\", es no más que una cadena de caracteres con ciertos valores. Podemos convertirlos en fechas reales, para que la gráfica sea orientada al tiempo real."
   ]
  },
  {
   "cell_type": "code",
   "execution_count": null,
   "id": "ccbbf12e",
   "metadata": {
    "scrolled": true
   },
   "outputs": [],
   "source": [
    "pd.to_datetime(df.index, format='%d-%m-%y')"
   ]
  },
  {
   "cell_type": "code",
   "execution_count": null,
   "id": "97e5b99e",
   "metadata": {},
   "outputs": [],
   "source": [
    "df.index = pd.to_datetime(df.index, format='%d-%m-%y')"
   ]
  },
  {
   "cell_type": "code",
   "execution_count": null,
   "id": "6f162d84",
   "metadata": {},
   "outputs": [],
   "source": [
    "df"
   ]
  },
  {
   "cell_type": "code",
   "execution_count": null,
   "id": "b5711b8a",
   "metadata": {},
   "outputs": [],
   "source": [
    "df.plot()"
   ]
  },
  {
   "cell_type": "markdown",
   "id": "c0b0e6ea",
   "metadata": {},
   "source": [
    "Valores incompletos. Si no se establecen, se pone a `NaN` (_not a number_). El siguiente código también muestra cómo se puede construir un DataFrame a partir de series en un diccionario, y también se puede hacer desde un diccionario convencional."
   ]
  },
  {
   "cell_type": "code",
   "execution_count": null,
   "id": "79beb592",
   "metadata": {},
   "outputs": [],
   "source": [
    "d = {'one' : pd.Series([1., 2., 3.], index=['a', 'b', 'c']),\n",
    "     'two' : pd.Series([1., 2., 3., 4.], index=['a', 'b', 'c', 'd'])}\n",
    "df = pd.DataFrame(d)\n",
    "df"
   ]
  },
  {
   "cell_type": "markdown",
   "id": "05a84d00",
   "metadata": {},
   "source": [
    "`fillna()` permite cambiar el valor de los datos faltantes."
   ]
  },
  {
   "cell_type": "code",
   "execution_count": null,
   "id": "2810ee41",
   "metadata": {},
   "outputs": [],
   "source": [
    "df.fillna(0)"
   ]
  },
  {
   "cell_type": "code",
   "execution_count": null,
   "id": "0d6145aa",
   "metadata": {},
   "outputs": [],
   "source": [
    "pd.DataFrame(d, index=['d', 'b', 'a'])"
   ]
  },
  {
   "cell_type": "code",
   "execution_count": null,
   "id": "8c03cba8",
   "metadata": {},
   "outputs": [],
   "source": [
    "pd.DataFrame(d, index=['d', 'b', 'a'], columns=['two', 'three'])"
   ]
  },
  {
   "cell_type": "markdown",
   "id": "ea9f679f",
   "metadata": {},
   "source": [
    "A continuación se muestra un ejemplo de uso de Pandas para leer datos y procesarlos en un Dataframe.\n",
    "\n",
    "El primer ejemplo completo carga desde el fichero `swift-question-dates.txt.gz` las fechas de las preguntas en Stackoverflow que contienen el tag \"swift\"."
   ]
  },
  {
   "cell_type": "markdown",
   "id": "13c93876",
   "metadata": {},
   "source": [
    "La función `read_csv` es capaz de leer cualquier fichero CSV y lo convierte en un \"Dataframe\", una estructura de tabla que guarda también los nombres y los tipos de las columnas, así como un índice por el que se identificarán las tablas. La lista incluye la fecha en donde se produjo una pregunta con el tag \"swift\". Como los datos en sí son las fechas, hacemos que la columna de fechas haga a su vez de índice."
   ]
  },
  {
   "cell_type": "code",
   "execution_count": null,
   "id": "e60d0cab",
   "metadata": {},
   "outputs": [],
   "source": [
    "df = pd.read_csv('https://github.com/dsevilla/bdge/raw/master/intro/swift-question-dates.txt.gz',\n",
    "                 header=None,\n",
    "                 names=['date'],\n",
    "                 compression='gzip',\n",
    "                 parse_dates=['date'],\n",
    "                 index_col='date')"
   ]
  },
  {
   "cell_type": "code",
   "execution_count": null,
   "id": "fbe4f3ec",
   "metadata": {},
   "outputs": [],
   "source": [
    "df"
   ]
  },
  {
   "cell_type": "markdown",
   "id": "5441ea5b",
   "metadata": {},
   "source": [
    "De la fecha, extraer sólo la fecha (no la hora, que no nos interesa)."
   ]
  },
  {
   "cell_type": "code",
   "execution_count": null,
   "id": "71840f04",
   "metadata": {},
   "outputs": [],
   "source": [
    "df.index = df.index.date"
   ]
  },
  {
   "cell_type": "markdown",
   "id": "15ca5b1e",
   "metadata": {},
   "source": [
    "Añadimos una columna de todo \"1\" para especificar que cada fecha cuenta como una pregunta."
   ]
  },
  {
   "cell_type": "code",
   "execution_count": null,
   "id": "77b24830",
   "metadata": {},
   "outputs": [],
   "source": [
    "df['Count'] = 1\n",
    "df"
   ]
  },
  {
   "cell_type": "markdown",
   "id": "3dfd6861",
   "metadata": {},
   "source": [
    "A los Dataframe de Pandas también se les puede aplicar operaciones de agregación, como `groupby()` o `sum()`. Finalmente, la funcion `plot()` permite mostrar los datos en un gráfico."
   ]
  },
  {
   "cell_type": "code",
   "execution_count": null,
   "id": "4a685001",
   "metadata": {},
   "outputs": [],
   "source": [
    "accum = df.groupby(df.index).sum()\n",
    "accum"
   ]
  },
  {
   "cell_type": "markdown",
   "id": "c0c80973",
   "metadata": {},
   "source": [
    "En los Dataframes se puede seleccionar elementos utilizando expresiones de comparación de elementos de la columna. Por ejemplo, como se ve después, se pueden seleccionar todos los elementos de la columna `Count` que sean mayores de 20 con la expresión `accum.Count > 20` ó `accum['Count'] > 20`. Eso se puede establecer dentro de los corchetes de acceso de cualquier DataFrame."
   ]
  },
  {
   "cell_type": "code",
   "execution_count": null,
   "id": "57620aa7",
   "metadata": {},
   "outputs": [],
   "source": [
    "accum[accum.Count > 20]"
   ]
  },
  {
   "cell_type": "markdown",
   "id": "7d3ff07e",
   "metadata": {},
   "source": [
    "A continuación, como también soporta *slicing*, se pueden seleccionar los 30 primeros:"
   ]
  },
  {
   "cell_type": "code",
   "execution_count": null,
   "id": "5f2004b9",
   "metadata": {},
   "outputs": [],
   "source": [
    "# Los 30 primeros registros que tengan un número de preguntas mayor que 20 por día.\n",
    "accum = accum[accum.Count > 20][:30]\n",
    "accum"
   ]
  },
  {
   "cell_type": "code",
   "execution_count": null,
   "id": "c41eb229",
   "metadata": {},
   "outputs": [],
   "source": [
    "accum[accum.Count > 30][:30].plot.bar()"
   ]
  },
  {
   "cell_type": "markdown",
   "id": "4bee8c96",
   "metadata": {},
   "source": [
    "Podemos hacer nuestra conjetura de que el lenguaje Swift se dio a conocer el 2 de junio de 2014.\n",
    "\n",
    "A continuación comprobamos con la página de la Wikipedia cuándo apareció el lenguaje Swift:"
   ]
  },
  {
   "cell_type": "code",
   "execution_count": null,
   "id": "9c535ad2",
   "metadata": {},
   "outputs": [],
   "source": [
    "%pip install lxml"
   ]
  },
  {
   "cell_type": "code",
   "execution_count": null,
   "id": "ec2166c6",
   "metadata": {},
   "outputs": [],
   "source": [
    "dfwiki = pd.read_html('https://en.wikipedia.org/wiki/Swift_(programming_language)',attrs={'class': 'infobox vevent'})"
   ]
  },
  {
   "cell_type": "code",
   "execution_count": null,
   "id": "b028bb1c",
   "metadata": {},
   "outputs": [],
   "source": [
    "dfwiki[0]"
   ]
  },
  {
   "cell_type": "code",
   "execution_count": null,
   "id": "b45a163c",
   "metadata": {},
   "outputs": [],
   "source": [
    "firstdate = dfwiki[0][1][5]\n",
    "firstdate"
   ]
  },
  {
   "cell_type": "code",
   "execution_count": null,
   "id": "7576d8e7",
   "metadata": {
    "scrolled": true
   },
   "outputs": [],
   "source": [
    "from dateutil.parser import parse\n",
    "dt = parse(firstdate.split(';')[0])\n",
    "print (dt.date().isoformat())\n",
    "print (accum.index[0].isoformat())\n",
    "\n",
    "assert dt.date().isoformat() == accum.index[0].isoformat()"
   ]
  },
  {
   "cell_type": "markdown",
   "id": "c1808d7f",
   "metadata": {},
   "source": [
    "A continuación se muestra cómo ubicar posiciones en un mapa con el paquete `folium`. Se muestra también cómo acceder a distintas posiciones del Dataframe con `iloc`, `loc`, etc."
   ]
  },
  {
   "cell_type": "code",
   "execution_count": null,
   "id": "74e6d125",
   "metadata": {},
   "outputs": [],
   "source": [
    "# cargar municipios y mostrarlos en el mapa\n",
    "df = pd.read_csv('https://github.com/dsevilla/bdge/raw/master/intro/municipios-2017.csv.gz',header=0,compression='gzip')"
   ]
  },
  {
   "cell_type": "code",
   "execution_count": null,
   "id": "8181dedb",
   "metadata": {},
   "outputs": [],
   "source": [
    "df.head()"
   ]
  },
  {
   "cell_type": "markdown",
   "id": "fb4e42f5",
   "metadata": {},
   "source": [
    "`iloc` se utiliza para acceder a filas **por número**. También permite slicing, y retorna un DataFrame."
   ]
  },
  {
   "cell_type": "code",
   "execution_count": null,
   "id": "89512b0f",
   "metadata": {},
   "outputs": [],
   "source": [
    "df.iloc[0]"
   ]
  },
  {
   "cell_type": "markdown",
   "id": "503ab2e3",
   "metadata": {},
   "source": [
    "El segundo parámetro es la columna, o se puede usar la notación punto:"
   ]
  },
  {
   "cell_type": "code",
   "execution_count": null,
   "id": "4d17c8af",
   "metadata": {},
   "outputs": [],
   "source": [
    "df.iloc[0].NOMBRE_ACTUAL"
   ]
  },
  {
   "cell_type": "code",
   "execution_count": null,
   "id": "d92614ef",
   "metadata": {},
   "outputs": [],
   "source": [
    "df.iloc[0,5]"
   ]
  },
  {
   "cell_type": "markdown",
   "id": "4ef42170",
   "metadata": {},
   "source": [
    "`loc`, por su parte, permite acceder a los campos con nombre, si es que lo tienen. Por ejemplo se puede acceder a la columna `NOMBRE_ACTUAL` por nombre:"
   ]
  },
  {
   "cell_type": "code",
   "execution_count": null,
   "id": "a69b1597",
   "metadata": {},
   "outputs": [],
   "source": [
    "df.loc[:,'NOMBRE_ACTUAL']"
   ]
  },
  {
   "cell_type": "code",
   "execution_count": null,
   "id": "6e92a341",
   "metadata": {},
   "outputs": [],
   "source": [
    "df.iloc[:,0]"
   ]
  },
  {
   "cell_type": "code",
   "execution_count": null,
   "id": "74b0b589",
   "metadata": {},
   "outputs": [],
   "source": [
    "df.PROVINCIA"
   ]
  },
  {
   "cell_type": "code",
   "execution_count": null,
   "id": "20d5afce",
   "metadata": {},
   "outputs": [],
   "source": [
    "df[df.PROVINCIA == 'Murcia']"
   ]
  },
  {
   "cell_type": "code",
   "execution_count": null,
   "id": "50163a69",
   "metadata": {},
   "outputs": [],
   "source": [
    "mula = df[df.NOMBRE_ACTUAL == 'Mula'].iloc[0]\n",
    "mula"
   ]
  },
  {
   "cell_type": "code",
   "execution_count": null,
   "id": "020fd493",
   "metadata": {},
   "outputs": [],
   "source": [
    "(mula_lat,mula_lon) = (mula.LATITUD_ETRS89, mula.LONGITUD_ETRS89)\n",
    "(mula_lat,mula_lon)"
   ]
  },
  {
   "cell_type": "markdown",
   "id": "1b0bce28",
   "metadata": {},
   "source": [
    "El paquete `folium` permite generar mapas de posiciones. El siguiente ejemplo centra un mapa en Mula y pone un marcador con su nombre:"
   ]
  },
  {
   "cell_type": "code",
   "execution_count": null,
   "id": "c15dd5ed",
   "metadata": {},
   "outputs": [],
   "source": [
    "%pip install folium"
   ]
  },
  {
   "cell_type": "code",
   "execution_count": null,
   "id": "b73aecdf",
   "metadata": {},
   "outputs": [],
   "source": [
    "import folium\n",
    "\n",
    "map = folium.Map(location=[mula_lat, mula_lon],zoom_start=10)\n",
    "folium.Marker(location = [mula_lat, mula_lon], popup=\"{} ({} habitantes)\".format(mula.NOMBRE_ACTUAL,mula.POBLACION_MUNI)).add_to(map)\n",
    "\n",
    "map"
   ]
  },
  {
   "cell_type": "markdown",
   "id": "ed2e2b02",
   "metadata": {},
   "source": [
    "# Magics disponibles en Jupyter"
   ]
  },
  {
   "cell_type": "markdown",
   "id": "c71a6890",
   "metadata": {},
   "source": [
    "https://ipython.readthedocs.io/en/stable/interactive/magics.html\n",
    "\n",
    "+ Los **magic commands** o simplemente **magics** son utilidades proporcionadas por el kernel a Jupyter.\n",
    "+ Proporcionan un añadido interesante a las hojas Jupyter para ejecutar ciertas **tareas recurrentes**.\n",
    "+ Cada kernel **implementa sus propios magics**, aunque los magics más populares son comúnes a la mayoría de kernels.\n",
    "+ Mostraremos los magics más relevantes implementados en **IPython**.\n",
    "+ Cada magic tiene una serie de **argumentos opcionales**. Se recomienda consultar la documentación de los más interesantes.\n",
    "+ Un magic se invoca comenzando la línea con un carácter sintáctico. Normalmente, el carácter **\"%\"**.\n",
    "+ Ya hemos visto algunos magics anteriormente: **%pip** o **%matplotlib**.\n",
    "+ Existen dos tipos de magics:\n",
    "  - Line magic commands: Comienzan con **%**. Se declaran en la propia línea.\n",
    "  - Cell magic commands: Comienzan con **%%**. Todo el contenido de la celda es la entrada al magic.\n",
    "\n",
    "Para probar los magics disponibles ejecutaremos un fragmento de código Python con diversas declaraciones.  \n",
    "**Recordatorio**: Todo el código ejecutado anteriormente en la hoja también es considerado en los resultados de los magics."
   ]
  },
  {
   "cell_type": "code",
   "execution_count": null,
   "id": "8c65d531",
   "metadata": {},
   "outputs": [],
   "source": [
    "varNumber = 123456789\n",
    "varString = \"Hello World!\"\n",
    "\n",
    "def myFunction(*args):\n",
    "  pass\n",
    "\n",
    "myFunction(varNumber, varString)"
   ]
  },
  {
   "cell_type": "markdown",
   "id": "c75e53db",
   "metadata": {},
   "source": [
    "## Line magics"
   ]
  },
  {
   "cell_type": "markdown",
   "id": "c92faf74",
   "metadata": {},
   "source": [
    "+ `%lsmagic`: Muestra por pantalla todos los magics disponibles."
   ]
  },
  {
   "cell_type": "code",
   "execution_count": null,
   "id": "225fbd70",
   "metadata": {},
   "outputs": [],
   "source": [
    "%lsmagic"
   ]
  },
  {
   "cell_type": "markdown",
   "id": "8610725c",
   "metadata": {},
   "source": [
    "+ `%quickref`: Como `%lsmagic` pero muestra una descripción de cada función."
   ]
  },
  {
   "cell_type": "code",
   "execution_count": null,
   "id": "7efb129c",
   "metadata": {},
   "outputs": [],
   "source": [
    "%quickref"
   ]
  },
  {
   "cell_type": "markdown",
   "id": "6632833f",
   "metadata": {},
   "source": [
    "+ `%load`: Carga el contenido de un fichero en la celda. El fichero puede estar en el workspace actual o en un repositorio remoto."
   ]
  },
  {
   "cell_type": "code",
   "execution_count": null,
   "id": "9563c67a",
   "metadata": {},
   "outputs": [],
   "source": [
    "%load scripts/script1.py"
   ]
  },
  {
   "cell_type": "markdown",
   "id": "f142d2ba",
   "metadata": {},
   "source": [
    "+ `%run`: Ejecuta un fichero de código en el notebook actual."
   ]
  },
  {
   "cell_type": "code",
   "execution_count": null,
   "id": "f3a93d16",
   "metadata": {},
   "outputs": [],
   "source": [
    "%run scripts/script1.py"
   ]
  },
  {
   "cell_type": "markdown",
   "id": "4af662ab",
   "metadata": {},
   "source": [
    "+ `%who`: Muestra todas las variables definidas hasta ahora en el notebook.\n",
    "\n",
    "+ `%who <type1> <type2> ... <typeN>`: Muestra las variables del tipo o tipos especificados."
   ]
  },
  {
   "cell_type": "code",
   "execution_count": null,
   "id": "35308e13",
   "metadata": {
    "scrolled": true
   },
   "outputs": [],
   "source": [
    "%who\n",
    "%who str\n",
    "%who function"
   ]
  },
  {
   "cell_type": "markdown",
   "id": "9049e9dc",
   "metadata": {},
   "source": [
    "+ `%pinfo`: Muestra información detallada sobre una variable en concreto."
   ]
  },
  {
   "cell_type": "code",
   "execution_count": null,
   "id": "b14bad8f",
   "metadata": {},
   "outputs": [],
   "source": [
    "var_1 = 123456789\n",
    "%pinfo var_1"
   ]
  },
  {
   "cell_type": "markdown",
   "id": "21138c9f",
   "metadata": {},
   "source": [
    "+ `%logstart`, `%logstate`, `%logstop`: Maneja diversas funciones de _logging_. Por defecto crea un fichero _ipython_log.py_ en el directorio actual."
   ]
  },
  {
   "cell_type": "code",
   "execution_count": null,
   "id": "dbfeec52",
   "metadata": {},
   "outputs": [],
   "source": [
    "%logstart\n",
    "\n",
    "print(\"Hello world!\")\n",
    "\n",
    "%logstop"
   ]
  },
  {
   "cell_type": "code",
   "execution_count": null,
   "id": "d4de822f",
   "metadata": {},
   "outputs": [],
   "source": [
    "%load ipython_log.py"
   ]
  },
  {
   "cell_type": "markdown",
   "id": "514f7ad8",
   "metadata": {},
   "source": [
    "+ `%history`: Histórico de instrucciones ejecutadas"
   ]
  },
  {
   "cell_type": "code",
   "execution_count": null,
   "id": "251a875f",
   "metadata": {},
   "outputs": [],
   "source": [
    "%history"
   ]
  },
  {
   "cell_type": "markdown",
   "id": "09763c21",
   "metadata": {},
   "source": [
    "+ `%matplotlib`: Activa el soporte interactivo de matplotlib durante la sesión. Se puede elegir entre varios GUIs (opción `--list`)"
   ]
  },
  {
   "cell_type": "code",
   "execution_count": null,
   "id": "d2cdc40a",
   "metadata": {
    "scrolled": true
   },
   "outputs": [],
   "source": [
    "%matplotlib --list"
   ]
  },
  {
   "cell_type": "markdown",
   "id": "100e0214",
   "metadata": {},
   "source": [
    "+ `%pylab`: Activa matplotlib y numpy en la sesión IPython actual."
   ]
  },
  {
   "cell_type": "code",
   "execution_count": null,
   "id": "33e245a1",
   "metadata": {},
   "outputs": [],
   "source": [
    "%pylab"
   ]
  },
  {
   "cell_type": "markdown",
   "id": "f9bca7e0",
   "metadata": {},
   "source": [
    "+ `%env`: Muestra la lista de variables de entorno de la sesión. También permite crear nuevas variables."
   ]
  },
  {
   "cell_type": "code",
   "execution_count": null,
   "id": "7814bc79",
   "metadata": {},
   "outputs": [],
   "source": [
    "%env\n",
    "%env NEW_VAR=MY_VALUE\n",
    "%env"
   ]
  },
  {
   "cell_type": "markdown",
   "id": "1b60c270",
   "metadata": {},
   "source": [
    "## Cell magics"
   ]
  },
  {
   "cell_type": "markdown",
   "id": "8d4dd90d",
   "metadata": {},
   "source": [
    "Algunos de los magics más populares de este tipo indican al notebook cómo interpretar el contenido de las celdas:\n",
    "+ `%%bash`, `%%script`, `%%sh`: Ejecuta un script en el notebook\n",
    "+ `%%javascript`, `%%js`, `%%perl`, `%%ruby`: Ejecuta el contenido de la celda en el lenguaje apropiado.\n",
    "+ `%%svg`: Renderiza la celda como un literal SVG."
   ]
  },
  {
   "cell_type": "markdown",
   "id": "9dff5fc7",
   "metadata": {},
   "source": [
    "+ `%%html`: Interpreta el contenido de la celda como HTML."
   ]
  },
  {
   "cell_type": "code",
   "execution_count": null,
   "id": "b321930c",
   "metadata": {},
   "outputs": [],
   "source": [
    "%%html\n",
    "\n",
    "<body>\n",
    "<p>Hello world!</p>\n",
    "\n",
    "<marquee style='width: 30%; color: blue;'><b>Whee!</b></marquee>\n",
    "</body>"
   ]
  },
  {
   "cell_type": "markdown",
   "id": "4b766f88",
   "metadata": {},
   "source": [
    "+ `%%latex`: Interpreta el contenido de la celda como código LaTeX."
   ]
  },
  {
   "cell_type": "code",
   "execution_count": null,
   "id": "623e01d0",
   "metadata": {},
   "outputs": [],
   "source": [
    "%%latex\n",
    "\n",
    "\\begin{align}\n",
    "\\nabla \\cdot \\vec{\\mathbf{E}} & = 4 \\pi \\rho \\\\\n",
    "\\nabla \\times \\vec{\\mathbf{E}}\\, +\\, \\frac1c\\, \\frac{\\partial\\vec{\\mathbf{B}}}{\\partial t} & = \\vec{\\mathbf{0}} \\\\\n",
    "\\nabla \\cdot \\vec{\\mathbf{B}} & = 0\n",
    "\\end{align}"
   ]
  },
  {
   "cell_type": "markdown",
   "id": "43bf3d8d",
   "metadata": {},
   "source": [
    "+ `%%markdown`: Interpreta el contenido de la celda como Markdown."
   ]
  },
  {
   "cell_type": "code",
   "execution_count": null,
   "id": "c8db3a55",
   "metadata": {},
   "outputs": [],
   "source": [
    "%%markdown\n",
    "\n",
    "Cabecera primera columna | Cabecera segunda columna | ... | Cabecera columna N\n",
    "---|---|---|---\n",
    "Fila 1 columna 1 | Fila 1 columna 2 | ... | Fila 1 columna N\n",
    "Fila 2 columna 1 | Fila 2 columna 2 | ... | Fila 2 columna N\n",
    "... | ... | ... | ...\n",
    "Fila M columna 1 | Fila M columna 2 | ... | Fila M columna N"
   ]
  },
  {
   "cell_type": "markdown",
   "id": "5ee8f74c",
   "metadata": {},
   "source": [
    "+ `%%writefile`: Almacena el contenido de la celda en un fichero."
   ]
  },
  {
   "cell_type": "code",
   "execution_count": null,
   "id": "e29d2898",
   "metadata": {},
   "outputs": [],
   "source": [
    "%%writefile TestWriteFile.py\n",
    "\n",
    "varNumber = 123456789\n",
    "varString = \"Hello World!\"\n",
    "\n",
    "def myFunction(*args):\n",
    "  pass\n",
    "\n",
    "myFunction(varNumber, varString)"
   ]
  },
  {
   "cell_type": "markdown",
   "id": "b43eaef5",
   "metadata": {},
   "source": [
    "+ `%%time`: Mide el tiempo de ejecución empleado en el bloque de código.\n",
    "+ `%%timeit`: Similar al anterior, pero ejecuta el código varias veces y devuelve una media del tiempo.\n",
    "\n",
    "(**Estos magics tienen su equivalente inline para instrucciones simples: `%time` y `%timeit`**)"
   ]
  },
  {
   "cell_type": "code",
   "execution_count": null,
   "id": "c7075102",
   "metadata": {},
   "outputs": [],
   "source": [
    "%%time\n",
    "\n",
    "import random\n",
    "\n",
    "for i in range(0, 10000000):\n",
    "    random.random()"
   ]
  }
 ],
 "metadata": {
  "kernelspec": {
   "display_name": "Python 3 (ipykernel)",
   "language": "python",
   "name": "python3"
  },
  "language_info": {
   "codemirror_mode": {
    "name": "ipython",
    "version": 3
   },
   "file_extension": ".py",
   "mimetype": "text/x-python",
   "name": "python",
   "nbconvert_exporter": "python",
   "pygments_lexer": "ipython3",
   "version": "3.10.6"
  }
 },
 "nbformat": 4,
 "nbformat_minor": 5
}
