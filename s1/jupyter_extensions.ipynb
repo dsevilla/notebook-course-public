{
 "cells": [
  {
   "cell_type": "markdown",
   "metadata": {},
   "source": [
    "# Extensiones en Jupyter"
   ]
  },
  {
   "cell_type": "markdown",
   "metadata": {},
   "source": [
    "+ Las extensiones en Jupyter son add-ons escritos en Javascript que amplían la funcionalidad del entorno y los notebooks.\n",
    "+ Aunque se puede trabajar con Jupyter sin add-ons, los notebooks tienen cualidades limitadas y en ocasiones se echa en falta funcionalidad que es provista por la extensión adecuada.\n",
    "+ Su instalación difiere ligeramente entre Jupyter Notebook y Jupyter Lab:\n",
    "  - Jupyter Notebook: Extensiones básicas para formateo de contenido, creación de índices y edición de celdas. Listado cerrado de extensiones.\n",
    "  - Jupyter Lab: Ofrece un _extension manager_ donde buscar extensiones. Además de las extensiones para Notebook, también existen extensiones más avanzadas para depuración de código, creación de diagramas o bien hojas de cálculo. El proceso de instalación de extensiones en Lab es mucho más robusto y seguro.\n",
    "+ Existe un tipo de extensiones, _source extensions_ , que requieren reconstruir el entorno Jupyter durante la instalación, para lo que se necesita _nodejs_ y son algo más complejas de gestionar.\n",
    "+ Algunas extensiones muy populares, como **JupyterLab Debugger**, han quedado obsoletas por incluirse nativamente en el entorno."
   ]
  },
  {
   "cell_type": "markdown",
   "metadata": {},
   "source": [
    "## Extensiones en Jupyter Notebook"
   ]
  },
  {
   "cell_type": "markdown",
   "metadata": {},
   "source": [
    "+ Para habilitar las extensiones en Notebook se deben ejecutar los siguientes comandos:\n",
    "  - `pip install jupyter_contrib_nbextensions`\n",
    "  - `jupyter contrib nbextension install`\n",
    "+ Al inicializar Jupyter Notebook aparece una cuarta pestaña: **Nbextensions**"
   ]
  },
  {
   "cell_type": "markdown",
   "metadata": {},
   "source": [
    "![jupyter_nbextensions](img/jupyter_nbextensions.png)"
   ]
  },
  {
   "cell_type": "markdown",
   "metadata": {},
   "source": [
    "+ Es posible navegar por el menú de extensions, leer la descripción de cada extensión y activarla.\n",
    "+ La mayoría de las extensiones se activan o desactivan dentro de cada notebook mediante botones de la barra de herramientas.\n",
    "+ Algunas de las extensiones más interesantes se describen a continuación:\n",
    "\n",
    "### Table of Contents\n",
    "\n",
    "+ Esta extensión proporciona la creación de una tabla de contenidos en el notebook.\n",
    "+ Útil cuando el notebook crece demasiado en tamaño y no se tiene forma de navegar por él.\n",
    "+ La tabla, que se puede mover de posición, también señala qué parte del notebook se está consultando."
   ]
  },
  {
   "cell_type": "markdown",
   "metadata": {},
   "source": [
    "![notebook_ext1](img/notebook_ext1.png)"
   ]
  },
  {
   "cell_type": "markdown",
   "metadata": {},
   "source": [
    "### Autopep8\n",
    "\n",
    "+ https://peps.python.org/pep-0008/\n",
    "+ Permite limpiar y formatear el código y hacer que se ajuste al _pep8_ con un click."
   ]
  },
  {
   "cell_type": "markdown",
   "metadata": {},
   "source": [
    "![notebook_ext2](img/notebook_ext2.gif)"
   ]
  },
  {
   "cell_type": "markdown",
   "metadata": {},
   "source": [
    "### Variable Inspector\n",
    "\n",
    "+ Muestra fácilmente el nombre de todas las variables declaradas, su tipo, tamaño y valor.\n",
    "+ Resultados similares a la utilización de los magics apropiados."
   ]
  },
  {
   "cell_type": "markdown",
   "metadata": {},
   "source": [
    "![notebook_ext3](img/notebook_ext3.png)"
   ]
  },
  {
   "cell_type": "markdown",
   "metadata": {},
   "source": [
    "### Hide input / Hide all\n",
    "\n",
    "+ Permite ocultar celdas a conveniencia.\n",
    "+ Deja a la vista el resultado de la ejecución de las celdas.\n",
    "+ Útil en presentaciones donde las gráficas centran la atención y no tanto el código."
   ]
  },
  {
   "cell_type": "markdown",
   "metadata": {},
   "source": [
    "![notebook_ext4](img/notebook_ext4.gif)"
   ]
  },
  {
   "cell_type": "markdown",
   "metadata": {},
   "source": [
    "## Extensiones en Jupyter Lab"
   ]
  },
  {
   "cell_type": "markdown",
   "metadata": {},
   "source": [
    "+ En Jupyter Lab las extensiones se pueden instalar de forma similar a Jupyter Notebook:\n",
    "  - Comando `jupyter labextension`\n",
    "  - `jupyter labextension install [extension]`\n",
    "  - `jupyter labextension --help`\n",
    "+ Existe una forma más cómoda: Usando el **manager de extensiones** incluido en Jupyter Lab."
   ]
  },
  {
   "cell_type": "markdown",
   "metadata": {},
   "source": [
    "![jupyter_labmanager](img/jupyter_labmanager.png)"
   ]
  },
  {
   "cell_type": "markdown",
   "metadata": {},
   "source": [
    "+ La utilización es similar a la del _marketplace_ de Eclipse.\n",
    "+ El manager busca extensiones para JupyterLab en el registro _NPM_.\n",
    "+ _Click_ para instalar, desinstalar y actualizar.\n",
    "+ Algunas de las extensiones más interesantes se describen a continuación:\n",
    "\n",
    "### JupyterLab-TOC\n",
    "\n",
    "+ El equivalente al _Table of Contents_ de Jupyter Notebook.\n",
    "+ Tabla de contenidos con navegabilidad y marcado de celdas."
   ]
  },
  {
   "cell_type": "markdown",
   "metadata": {},
   "source": [
    "![lab_ext1](img/lab_ext1.gif)"
   ]
  },
  {
   "cell_type": "markdown",
   "metadata": {},
   "source": [
    "### JupyterLab-DrawIO\n",
    "\n",
    "+ Herramienta para la creación de diagramas en el notebook."
   ]
  },
  {
   "cell_type": "markdown",
   "metadata": {},
   "source": [
    "![lab_ext2](img/lab_ext2.gif)"
   ]
  },
  {
   "cell_type": "markdown",
   "metadata": {},
   "source": [
    "### JupyterLab Spreadsheet\n",
    "\n",
    "+ Creación de hojas de cálculo como celdas.\n",
    "+ Embebe un entorno _xls_/_xlsx_ en Jupyter."
   ]
  },
  {
   "cell_type": "markdown",
   "metadata": {},
   "source": [
    "![lab_ext3](img/lab_ext3.png)"
   ]
  },
  {
   "cell_type": "markdown",
   "metadata": {},
   "source": [
    "### JupyterLab Kite\n",
    "\n",
    "+ Autocompletado de código.\n",
    "+ Acerca Jupyter al funcionamiento de otros IDEs."
   ]
  },
  {
   "cell_type": "markdown",
   "metadata": {},
   "source": [
    "![lab_ext4](img/lab_ext4.png)"
   ]
  },
  {
   "cell_type": "markdown",
   "metadata": {},
   "source": [
    "### La mayoría de extensiones Jupyter Notebook tienen su equivalente en JupyterLab"
   ]
  }
 ],
 "metadata": {
  "kernelspec": {
   "display_name": "Python 3",
   "language": "python",
   "name": "python3"
  },
  "language_info": {
   "codemirror_mode": {
    "name": "ipython",
    "version": 3
   },
   "file_extension": ".py",
   "mimetype": "text/x-python",
   "name": "python",
   "nbconvert_exporter": "python",
   "pygments_lexer": "ipython3",
   "version": "3.7.2"
  },
  "toc": {
   "base_numbering": 1,
   "nav_menu": {},
   "number_sections": true,
   "sideBar": true,
   "skip_h1_title": false,
   "title_cell": "Table of Contents",
   "title_sidebar": "Contents",
   "toc_cell": false,
   "toc_position": {},
   "toc_section_display": true,
   "toc_window_display": false
  }
 },
 "nbformat": 4,
 "nbformat_minor": 2
}
