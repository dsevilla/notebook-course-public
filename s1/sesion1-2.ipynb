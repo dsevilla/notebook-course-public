{
 "cells": [
  {
   "cell_type": "markdown",
   "id": "c67e4747",
   "metadata": {},
   "source": [
    "# Instalación de Jupyter en Windows/Linux. Ejecución y puesta en marcha"
   ]
  },
  {
   "cell_type": "markdown",
   "id": "d93157bc",
   "metadata": {},
   "source": [
    "**La instalación de Jupyter y sus dependencias se puede llevar a cabo de diversas maneras.**\n",
    "\n",
    "**Aquí veremos las formas más comunes:**\n",
    "\n",
    "- Instalación **manual** de los componentes.\n",
    "- Instalación mediante distribuciones como **Anaconda**.\n",
    "- (**Recomendado**) Instalación mediante imagen **Docker**."
   ]
  },
  {
   "cell_type": "markdown",
   "id": "4ba9e075",
   "metadata": {},
   "source": [
    "# Instalación manual de Jupyter\n",
    "\n",
    "## Prerrequisito: Python"
   ]
  },
  {
   "cell_type": "markdown",
   "id": "5d0c6ee5",
   "metadata": {},
   "source": [
    "![python_logo](img/python_logo.png)"
   ]
  },
  {
   "cell_type": "markdown",
   "id": "1b1de382",
   "metadata": {},
   "source": [
    "Antes de instalar Jupyter en el sistema es necesario haber instalado antes una versión actual de Python:\n",
    "\n",
    "Requisitos mínimos:\n",
    "\n",
    "**Python 3.3 o superior** (preferentemente)\n",
    "\n",
    "o bien\n",
    "\n",
    "**Python 2.7**"
   ]
  },
  {
   "cell_type": "markdown",
   "id": "4f514acf",
   "metadata": {},
   "source": [
    "## Windows\n",
    "\n",
    "1. Descargar **Python 3** de la dirección: https://www.python.org/downloads/windows/ e instalar.\n",
    "   + **¡Asegúrate de que agregas Python al path!**\n",
    "   + **Windows 7**: Solo se puede instalar Python 3.8 o anteriores\n",
    "   + Además de Python, también se ha instalado **pip**, el gestor de paquetes de Python.\n",
    "2. En **PowerShell**: (Ejecutar como administrador si es necesario) ejecutar la instrucción `python`\n",
    "   + `python --version`: Muestra la versión de **python** instalada.\n",
    "      + Si algo va mal, recordar que se debe agregar Python al path.\n",
    "   + `pip --version`: Muestra la versión de **pip** instalada.\n",
    "   + `pip install --upgrade pip`: Para actualizar **pip** y asegurar que Jupyter se instalará correctamente.\n",
    "3. Se dispone de varias opciones para instalar Jupyter Notebook:\n",
    "   + `pip install jupyter`: Metapaquete que instala varios paquetes a la vez: Notebook, Qtconsole, IPython.\n",
    "   + `pip install notebook`: Alternativa - el paquete solo con el clásico Jupyter Notebook.\n",
    "   + `pip install jupyterlab`: Alternativa - si se prefiere la interfaz de Jupyter Lab."
   ]
  },
  {
   "cell_type": "markdown",
   "id": "9e3a2307",
   "metadata": {},
   "source": [
    "![install_windows](img/install_windows.png)"
   ]
  },
  {
   "cell_type": "markdown",
   "id": "6e927001",
   "metadata": {},
   "source": [
    "## Linux\n",
    "\n",
    "1. Abrir una **terminal**\n",
    "2. Instalar Python3 con el administrador de paquetes:\n",
    "    + `sudo apt-get install python3`\n",
    "    + `sudo yum install python3`\n",
    "3. De forma alternativa se puede construir Python 3 desde el código fuente:\n",
    "    + Descargar el código fuente de https://www.python.org/downloads/source/ y descomprimir\n",
    "    + Ejecutar `./configure --prefix=/usr/local/python3.10.7 --enable-optimizations`\n",
    "    + Compilar e instalar con `make && make install`\n",
    "    + Agregar enlaces si la carpeta de instalación no está en el path\n",
    "        + `ln -s /usr/local/python3.10.7/bin/python3.10.7 /usr/bin/python3`\n",
    "        + `ln -s /usr/local/python3.10.7/bin/python3.10.7 /usr/bin/python3.10.7`\n",
    "4. En la **terminal**:\n",
    "   + `python3 --version`: Muestra la versión de **python** instalada.\n",
    "      + Si algo va mal, recordar que se debe agregar Python al path.\n",
    "   + `pip3 --version`: Muestra la versión de **pip** instalada.\n",
    "   + `pip3 install --upgrade pip`: Para actualizar **pip** y asegurar que Jupyter se instalará correctamente.\n",
    "5. Se dispone de varias opciones para instalar Jupyter Notebook:\n",
    "   + `pip3 install jupyter`: Metapaquete que instala varios paquetes a la vez: Notebook, Qtconsole, IPython.\n",
    "   + `pip3 install notebook`: Alternativa - el paquete solo con el clásico Jupyter Notebook.\n",
    "   + `pip3 install jupyterlab`: Alternativa - si se prefiere la interfaz de Jupyter Lab."
   ]
  },
  {
   "cell_type": "markdown",
   "id": "b341abf5",
   "metadata": {},
   "source": [
    "# Lanzamiento de Jupyter Notebook\n",
    "\n",
    "Desde línea de comandos (**PowerShell** o **Terminal**):\n",
    "1. Navegar a la carpeta que se usará de espacio de trabajo y ejecutar: `jupyter notebook`\n",
    "\n",
    "2. El **servidor** de Jupyter Notebook es lanzado y una instancia de un navegador se conecta a él.\n",
    "3. La **carpeta actual** es utilizada como **directorio raíz** del servidor.\n",
    "4. Un **navegador** se lanzará automáticamente mostrando el directorio raíz de Jupyter Notebook.\n",
    "5. Si el navegador no se lanza, abrir la **URL** indicada en la consola en un navegador."
   ]
  },
  {
   "cell_type": "markdown",
   "id": "d442bbd2",
   "metadata": {},
   "source": [
    "![install_linux](img/install_linux.png)"
   ]
  },
  {
   "cell_type": "markdown",
   "id": "eca397f1",
   "metadata": {},
   "source": [
    "La ventana del navegador correspondiente presentará un aspecto similar a este:"
   ]
  },
  {
   "cell_type": "markdown",
   "id": "c7510bbe",
   "metadata": {},
   "source": [
    "![jupyter_web](img/jupyter_web.png)"
   ]
  },
  {
   "cell_type": "markdown",
   "id": "805253fb",
   "metadata": {},
   "source": [
    "# Instalación mediante Anaconda"
   ]
  },
  {
   "cell_type": "markdown",
   "id": "6ec54943",
   "metadata": {},
   "source": [
    "![anaconda_logo](img/anaconda_logo.png)"
   ]
  },
  {
   "cell_type": "markdown",
   "id": "a4ac30ce",
   "metadata": {},
   "source": [
    "**Anaconda** es una distribución utilizada en entornos de **ciencia de datos** y **aprendizaje automático**. La instalación de la distribución Anaconda comprende, entre otros paquetes, instalar los siguientes componentes:\n",
    "\n",
    "- El gestor de paquetes **conda**.\n",
    "- El lenguaje **R**.\n",
    "- El lenguaje **Python**.\n",
    "- El entorno **Jupyter** (Notebook, Lab).\n",
    "- Alrededor de otros **250** paquetes de interés para el desarrollador.\n",
    "\n",
    "https://docs.anaconda.com/anaconda/install/windows/\n",
    "\n",
    "https://docs.anaconda.com/anaconda/install/linux/"
   ]
  },
  {
   "cell_type": "markdown",
   "id": "3ee90bd5",
   "metadata": {},
   "source": [
    "# Instalación mediante imagen **Docker**"
   ]
  },
  {
   "cell_type": "markdown",
   "id": "771f78dd",
   "metadata": {},
   "source": [
    "![docker-logo](img/docker_logo.png)"
   ]
  },
  {
   "cell_type": "markdown",
   "id": "ca30c3d3",
   "metadata": {},
   "source": [
    "Veremos detalladamente una instalación de **Docker** y la selección de la imagen apropiada en la siguiente sección."
   ]
  }
 ],
 "metadata": {
  "kernelspec": {
   "display_name": "Python 3 (ipykernel)",
   "language": "python",
   "name": "python3"
  },
  "language_info": {
   "codemirror_mode": {
    "name": "ipython",
    "version": 3
   },
   "file_extension": ".py",
   "mimetype": "text/x-python",
   "name": "python",
   "nbconvert_exporter": "python",
   "pygments_lexer": "ipython3",
   "version": "3.10.6"
  }
 },
 "nbformat": 4,
 "nbformat_minor": 5
}
