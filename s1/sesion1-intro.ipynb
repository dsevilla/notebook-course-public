{
 "cells": [
  {
   "cell_type": "markdown",
   "metadata": {},
   "source": [
    "![presentacion_0](img/presentacion_0.png)"
   ]
  },
  {
   "cell_type": "markdown",
   "metadata": {},
   "source": [
    "# Vicerrectorado de Formación Continua"
   ]
  },
  {
   "cell_type": "markdown",
   "metadata": {},
   "source": [
    "## Plan de Formación Corporativa 2022"
   ]
  },
  {
   "cell_type": "markdown",
   "metadata": {},
   "source": [
    "# APLICACIÓN A LA DOCENCIA DE LOS NOTEBOOKS INTERACTIVOS"
   ]
  },
  {
   "cell_type": "markdown",
   "metadata": {},
   "source": [
    "**Modalidad**: Semipresencial (videoclases síncronas y trabajo autónomo)\n",
    "  - **Formato**: Formación con proceso de selección\n",
    "  - **Plazas**: 30\n",
    "  - **Duración**: 8 horas (6 horas de videoclases y 2 horas de trabajo autónomo del alumnado tutorizado)\n",
    "  - **Fechas de realización**: Del 4 al 15 de noviembre de 2022. Sesiones a través de videoclases en el Aula Virtual:\n",
    "    - Primera sesión: **Viernes 4 de noviembre de 16:00 a 19:00 horas**\n",
    "    - Segunda sesión: **Martes 8 de noviembre de 16:00 a 19:00 horas**"
   ]
  },
  {
   "cell_type": "markdown",
   "metadata": {},
   "source": [
    "## Personal formador:\n",
    "  - **Diego Sevilla Ruiz**\n",
    "  - **Alberto Hernández Chillón**"
   ]
  },
  {
   "cell_type": "markdown",
   "metadata": {},
   "source": [
    "## Competencias\n",
    "\n",
    "- **Conocer el entorno y las tecnologías que componen Jupyter Notebook, y sus distintos proveedores.**\n",
    "- **Conocer el uso de Jupyter Notebook con diversos lenguajes de programación y bibliotecas.**\n",
    "- **Aprender a identificar escenarios de uso de Jupyter Notebook como apoyo a la docencia de las asignaturas de la Facultad de Informática.**\n",
    "- **Conocer el uso de los Notebooks para generar contenido especializado para cada alumno.**"
   ]
  },
  {
   "cell_type": "markdown",
   "metadata": {},
   "source": [
    "## Contenidos\n",
    "\n",
    "1. **(3 horas) Introducción a Jupyter Notebook**\n",
    "    1. ¿Qué es Jupyter Notebook?¿Por qué Jupyter? Uso de Jupyter en docencia\n",
    "    2. Instalación de Jupyter en Windows/Linux. Ejecución y puesta en marcha\n",
    "    3. Ejecución de Jupyter en Docker. Estructura de ficheros docker-compose\n",
    "    4. Markdown, Python y Magics\n",
    "    5. Aplicación de notebooks en casos paradigmáticos\n",
    "    6. Integración de Jupyter y repositorios Git. Publicación de notebooks\n",
    "\n",
    "2. **(1 hora) Trabajo autónomo del alumnado tutorizado (I)**\n",
    "\n",
    "3. **(3 horas) Aplicación de Jupyter Notebook para docencia**\n",
    "    1. Ejecución de Jupyter Notebook desde Google Colab\n",
    "    2. Ejecución de Jupyter Notebook desde MyBinder\n",
    "    3. Creación de notebooks personalizados y corrección automática\n",
    "    4. Gráficos y reproducible research\n",
    "    5. Módulos y kernels\n",
    "    6. Conexión con librerías de IA y bases de datos\n",
    "\n",
    "4. **(1 horas) Trabajo autónomo del alumnado tutorizado (II)**"
   ]
  },
  {
   "cell_type": "markdown",
   "metadata": {},
   "source": [
    "## Metodología"
   ]
  },
  {
   "cell_type": "markdown",
   "metadata": {},
   "source": [
    "Las sesiones formativas se impartirán a través de la herramienta \"Videoclases\" del Aula Virtual. Los asistentes tendrán que participar activamente durante las sesiones, además de realizar aquellas tareas o exámenes requeridos por el personal formador. Estas sesiones serán completadas con trabajo autónomo del alumnado, a través del material proporcionado y actividades fijadas por el personal formador. La realización de estas actividades será a través de las herramientas  \"Tareas\" y/o \"Exámenes\" del Aula Virtual.\n",
    "La tutorización con el alumnado se podrá realizar a través de las herramientas \"Tareas\" y \"Foros\" del Aula Virtual."
   ]
  },
  {
   "cell_type": "markdown",
   "metadata": {},
   "source": [
    "## Evaluación"
   ]
  },
  {
   "cell_type": "markdown",
   "metadata": {},
   "source": [
    "De acuerdo con los criterios establecidos por el personal formador y el CFDP, la evaluación de la acción formativa consistirá en:\n",
    "  1. Asistir de manera síncrona a las sesiones de videoclases requeridas. La participación en cada sesión será válida únicamente si el alumno asiste como mínimo al 75% de cada sesión programada.\n",
    "  2. Participar activamente durante las sesiones de videoclases.\n",
    "  3. Superar satisfactoriamente las pruebas y actividades evaluables.\n",
    "  4. Cumplimentar el cuestionario de satisfacción con la acción formativa.\n",
    "\n",
    "La falta a cualquiera de las sesiones, independientemente de la causa, imposibilitará la expedición del correspondiente certificado."
   ]
  },
  {
   "cell_type": "markdown",
   "metadata": {},
   "source": [
    "## Observaciones"
   ]
  },
  {
   "cell_type": "markdown",
   "metadata": {},
   "source": [
    "Requisitos técnicos para la realización del curso: ordenador u otro dispositivo con conexión a Internet, cámara web, micrófono y altavoces. En la sesión de videoclase el alumnado deberá tener la cámara web encendida y activar el micrófono solo durante el tiempo de su participación. Será responsabilidad del alumnado disponer de estos requisitos para la realización de la formación."
   ]
  },
  {
   "cell_type": "markdown",
   "metadata": {},
   "source": [
    "## Descarga del material de la sesión 1\n",
    "\n",
    "Ejecuta la siguiente celda de código, que descargará y descomprimirá de forma local los ficheros necesarios para trabajar en la sesión 1:"
   ]
  },
  {
   "cell_type": "code",
   "execution_count": null,
   "metadata": {},
   "outputs": [],
   "source": [
    "%%bash\n",
    "FILE=sesion1.tar.gz\n",
    "wget -O $FILE https://umubox.um.es/index.php/s/auICloP6yv90TFG/download\n",
    "tar zxvf $FILE"
   ]
  },
  {
   "cell_type": "code",
   "execution_count": null,
   "metadata": {},
   "outputs": [],
   "source": []
  }
 ],
 "metadata": {
  "kernelspec": {
   "display_name": "Python 3 (ipykernel)",
   "language": "python",
   "name": "python3"
  },
  "language_info": {
   "codemirror_mode": {
    "name": "ipython",
    "version": 3
   },
   "file_extension": ".py",
   "mimetype": "text/x-python",
   "name": "python",
   "nbconvert_exporter": "python",
   "pygments_lexer": "ipython3",
   "version": "3.10.6"
  },
  "toc": {
   "base_numbering": 1,
   "nav_menu": {},
   "number_sections": true,
   "sideBar": true,
   "skip_h1_title": false,
   "title_cell": "Table of Contents",
   "title_sidebar": "Contents",
   "toc_cell": false,
   "toc_position": {},
   "toc_section_display": true,
   "toc_window_display": false
  }
 },
 "nbformat": 4,
 "nbformat_minor": 4
}
