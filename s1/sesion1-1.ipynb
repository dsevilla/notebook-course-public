{
 "cells": [
  {
   "cell_type": "markdown",
   "metadata": {
    "slideshow": {
     "slide_type": "-"
    }
   },
   "source": [
    "# ¿Qué es Jupyter Notebook?¿Por qué Jupyter?Uso de Jupyter en docencia"
   ]
  },
  {
   "cell_type": "markdown",
   "metadata": {},
   "source": [
    "![jupyter_logo](https://raw.githubusercontent.com/dsevilla/notebook-course-public/main/s1/img/jupyter_logo.png)"
   ]
  },
  {
   "cell_type": "markdown",
   "metadata": {},
   "source": [
    "# ¿Qué es Jupyter Notebook?"
   ]
  },
  {
   "cell_type": "markdown",
   "metadata": {},
   "source": [
    "https://github.com/jupyter/jupyter/blob/master/docs/source/projects/architecture/content-architecture.rst"
   ]
  },
  {
   "cell_type": "markdown",
   "metadata": {},
   "source": [
    "**Jupyter Notebook** es una aplicación cliente-servidor mantenida por el Proyecto Jupyter que permite crear y compartir hojas Jupyter o notebooks.\n",
    "\n",
    "La herramienta Jupyter Notebook proporciona:\n",
    "\n",
    "+ Un **servidor** para gestionar hojas Jupyter.\n",
    "+ Uno más **kernels** o **intérpretes** del código que se escribe en las hojas Jupyter.\n",
    "\n",
    "La arquitectura general se completa con los siguientes elementos:\n",
    "\n",
    "+ Un **navegador** con el que conectarse al servidor Jupyter Notebook.\n",
    "+ Una serie de **hojas Jupyter** que almacenan el contenido en formato **JSON** interpretado, con extensión **.ipynb**.\n",
    "\n",
    "![notebook_components](https://raw.githubusercontent.com/dsevilla/notebook-course-public/main/s1/img/notebook_components.png)\n",
    "\n",
    "La aplicación es usada, principalmente, para los siguientes propósitos:\n",
    "\n",
    "+ **Herramienta de comunicación**: Las hojas se pueden compartir fácilmente.\n",
    "+ **Medio de documentación**: Dada la combinación entre texto y código.\n",
    "+ **Método de visualización**: El resultado de la ejecución de código (por ejemplo, gráficas) se muestra a su vez en la hoja.\n",
    "+ Soporte de desarrollo de **código colaborativo** y control de versiones: Mediante el uso de JupyterHub.\n",
    "+ ...todo esto soportando un gran número de lenguajes, siendo una herramienta gratuita y de código abierto.\n",
    "\n",
    "Jupyter Notebook contiene multitud de módulos que extienden la funcionalidad, como la posibilidad de generar código LaTeX a partir de cada hoja, la posibilidad de cargar ficheros de código del sistema de ficheros, o de volcar la salida apropiadamente.\n",
    "\n",
    "Otros beneficios de Jupyter Notebook:\n",
    "\n",
    "+ Código abierto (licencia BSD modificada)\n",
    "+ Gratuito\n",
    "+ Funciona en el navegador\n",
    "+ Código en vivo\n",
    "+ Control de versiones\n",
    "+ ...\n",
    "\n",
    "Las hojas Jupyter combinan bloques que pueden ser principalmente de dos tipos:\n",
    "\n",
    "+ Bloques de **texto** en formato *markdown*.\n",
    "+ Bloques de **código** a interpretar en un lenguaje de programación (por defecto, Python)."
   ]
  },
  {
   "cell_type": "markdown",
   "metadata": {},
   "source": [
    "## Diferencias entre Jupyter Notebook, IPython Notebook, Jupyter Lab y Google Colab"
   ]
  },
  {
   "cell_type": "markdown",
   "metadata": {},
   "source": [
    "![ipython_logo](https://raw.githubusercontent.com/dsevilla/notebook-course-public/main/s1/img/ipython_logo.png)"
   ]
  },
  {
   "cell_type": "markdown",
   "metadata": {},
   "source": [
    "https://ipython.org/\n",
    "\n",
    "- **IPython** (Interactive Python): Proporciona una terminal **REPL** donde ejecutar instrucciones en Python de manera interactiva."
   ]
  },
  {
   "cell_type": "code",
   "execution_count": null,
   "metadata": {},
   "outputs": [],
   "source": [
    "while True:\n",
    "    code = input(\">>> \")\n",
    "    exec(code)"
   ]
  },
  {
   "cell_type": "markdown",
   "metadata": {},
   "source": [
    "- Surge **IPython Notebook**: Un entorno computacional interactivo donde escribir y ejecutar código, texto, gráficos y otras funciones.\n",
    "\n",
    "- Con el paso del tiempo, el proyecto **IPython** crece y se le agregan componentes agnósticos en cuanto al lenguaje.\n",
    "  + Servidor de notebooks\n",
    "  + QTConsole\n",
    "  + Protocolos de intercambio de mensajes\n",
    "  + Aplicación web\n",
    "\n",
    "- El **proyecto Jupyter** aparece como un spin-off de IPython en 2014:\n",
    "  + El objetivo era desligar el servidor y la interfaz web para el manejo de los notebooks del entorno IPython.\n",
    "  + **IPython Notebook** pasa a llamarse **Jupyter Notebook**.\n",
    "  + En la actualidad IPython proporciona el kernel de Python al entorno Jupyter."
   ]
  },
  {
   "cell_type": "markdown",
   "metadata": {},
   "source": [
    "![jupyterlab_logo](https://raw.githubusercontent.com/dsevilla/notebook-course-public/main/s1/img/jupyterlab_logo.png)"
   ]
  },
  {
   "cell_type": "markdown",
   "metadata": {},
   "source": [
    "https://jupyterlab.readthedocs.io/en/stable/index.html\n",
    "\n",
    "- La interfaz de usuario de próxima generación para el proyecto Jupyter.\n",
    "- El primer lanzamiento estable se anunció en febrero de 2018.\n",
    "- El **sucesor** oficial de Jupyter Notebook.\n",
    "- Proporciona una interfaz más completa y compleja:\n",
    "  + Más opciones de personalización e interacción.\n",
    "  + Accesos directos a Google Drive y otros servicios en la nube.\n",
    "- Utiliza el **mismo servidor** y **formato de ficheros** que Jupyter Notebook.\n",
    "- Los notebooks desarrollados en un entorno son **válidos en el otro**.\n",
    "- El material dado en este curso es perfectamente válido para **Jupyter Lab**."
   ]
  },
  {
   "cell_type": "markdown",
   "metadata": {},
   "source": [
    "![colab_logo](https://raw.githubusercontent.com/dsevilla/notebook-course-public/main/s1/img/colab_logo.png)"
   ]
  },
  {
   "cell_type": "markdown",
   "metadata": {},
   "source": [
    "https://colab.research.google.com\n",
    "\n",
    "- Alternativa _freemium_ de **Google** a Jupyter Notebook/Lab.\n",
    "- Basado en la arquitectura de Jupyter.\n",
    "- Se ejecuta en la **Google Cloud Platform**:\n",
    "  + No hay necesidad de instalar nada en la máquina.\n",
    "  + Almacenamiento de los notebooks en la nube, mecanismos de sincronización de ficheros.\n",
    "- Los notebooks desarrollados en Jupyter **se pueden publicar** en Colab."
   ]
  },
  {
   "cell_type": "markdown",
   "metadata": {},
   "source": [
    "# Uso de Notebooks en docencia"
   ]
  },
  {
   "cell_type": "markdown",
   "metadata": {},
   "source": [
    "https://jupyter4edu.github.io/jupyter-edu-book/why-we-use-jupyter-notebooks.html\n",
    "\n",
    "Los notebooks asisten al diseño de entornos de aprendizaje mediante la creación de **lecciones, clases, cursos y tareas**. Pueden utilizarse para:\n",
    "  + Organizar los materiales y objetivos de la clase.\n",
    "  + Almacenar y proporcionar acceso a los materiales de lectura para los estudiantes.\n",
    "  + Presentar y compartir los materiales de las clases.\n",
    "  + Realizar implementación en vivo.\n",
    "  + Explorar e interactuar con el material.\n",
    "  + Apoyar el aprendizaje a ritmo propio.\n",
    "  + Calificar las tareas de los estudiantes.\n",
    "  + Resolver los ejercicios de los boletines.\n",
    "  + Dejar el material desarrollado reutilizable para otros.\n",
    "\n",
    "Los notebooks correctamente configurados pueden servir para las siguientes tareas:\n",
    "\n",
    "1. Como **libros de texto**:\n",
    "  + Como documentos narrativos lineales (estilo transparencias).\n",
    "  + Como complemento a otro material escrito.\n",
    "  + Con interacción al poder incluir ejemplos ejecutables.\n",
    "\n",
    "\n",
    "2. Como **cuadernos de trabajo**:\n",
    "  + Incluyen elementos activos en los que el alumno puede manipular o crear nuevo contenido.\n",
    "  + Código interactivo ejecutable al momento sin instalación de ningún entorno.\n",
    "\n",
    "\n",
    "3. Como **boletines de ejercicios entregables**:\n",
    "  + Corregibles al momento automáticamente o mediante pruebas unitarias.\n",
    "  + Visualización gráfica de los resultados al instante.\n",
    "\n",
    "\n",
    "4. Como **hojas de notas**:\n",
    "  + El alumno puede tomar apuntes sobre el propio notebook y probar pequeños ejemplos.\n",
    "  + Proporcionar un notebook en blanco con solo los títulos o con huecos a rellenar.\n",
    "\n",
    "\n",
    "5. Como **aplicaciones**: \n",
    "  + Entradas interactivas del usuario (llamadas *input*).\n",
    "  + Cambio de parámetros de entrada sin tener que cambiar el algoritmo a ejecutar.\n",
    "\n",
    "\n",
    "6. Como **plataformas de demostración**:\n",
    "  + Inclusión de formatos multimedia: El contenido didáctivo puede dividirse en vídeos, figuras y texto.\n",
    "  + El notebook puede exportarse a otros formatos, como una presentación PDF.\n",
    "  + Extensiones disponibles para este propósito."
   ]
  },
  {
   "cell_type": "markdown",
   "metadata": {},
   "source": [
    "![notebook_example](https://raw.githubusercontent.com/dsevilla/notebook-course-public/main/s1/img/notebook_example.png)"
   ]
  },
  {
   "cell_type": "markdown",
   "metadata": {},
   "source": [
    "## Beneficios para el profesorado\n",
    "\n",
    "1. Los notebooks se pueden adaptar a diferentes **requisitos, usos y formatos**:\n",
    "  + Flexibilidad en función de las **necesidades del curso**.\n",
    "  + Flexibilidad en función del **interés del profesorado**.\n",
    "  + Demostraciones en clase, laboratorios interactivos, material auxiliar, boletines de ejercicios...\n",
    "\n",
    "\n",
    "2. Aplicación de los notebooks como apuntes interactivos:\n",
    "  + Mezcla de **figuras, vídeos, texto y fragmentos de código** para mostrar resultados.\n",
    "  + **Desarrollo gradual**: Un notebook puede esbozarse rápidamente y refinarse iterativamente, extenderse y compartirse.\n",
    "  + **Reutilización y adaptación** de notebooks, herramientas y recursos ya existentes.\n",
    "\n",
    "\n",
    "3. Integración con diversas herramientas:\n",
    "  + La tecnología soporta **gran cantidad de lenguajes**.\n",
    "  + Ejecución de notebooks en **infraestructuras cloud**: Sin necesidad de instalar componentes.\n",
    "\n",
    "\n",
    "4. Mayor compromiso y participación del alumno:\n",
    "  + La participación del alumno en clase depende, en gran medida, de la interactividad.\n",
    "  + El uso de notebooks promueve la participación al combinar teoría, práctica y preguntas de evaluación.\n",
    "  + Magic **Activity** (extensión): Presenta encuestas con preguntas/respuestas al alumno.\n",
    "\n",
    "![activity1](https://raw.githubusercontent.com/dsevilla/notebook-course-public/main/s1/img/activity1.png)\n",
    "\n",
    "  + Una vez el alumno vota, el magic recopila todas las respuestas y muestra resultados.\n",
    "\n",
    "![activity2](https://raw.githubusercontent.com/dsevilla/notebook-course-public/main/s1/img/activity2.png)\n",
    "\n",
    "\n",
    "5. Asistencia en la corrección y evaluación de resultados:\n",
    "  + Los alumnos pueden participar también corrigiendo ejercicios realizados por otros alumnos.\n",
    "  + Facilita la llegada de comentarios por parte del alumno y mejora la comunicación con el profesor: Retroalimentación.\n",
    "\n",
    "\n",
    "6. Facilidad para enlazar y embeber contenido externo directamente en el notebook:\n",
    "\n",
    "[![Jupyter tutorial](https://img.youtube.com/vi/HW29067qVWk/0.jpg)](https://www.youtube.com/watch?v=HW29067qVWk)"
   ]
  },
  {
   "cell_type": "markdown",
   "metadata": {},
   "source": [
    "## Beneficios para el estudiante\n",
    "\n",
    "La utilización de los notebooks puede ayudar a mejorar la comprensión de la materia por parte del alumno, ayudarle a establecer una mejor conexión con la misma y mejorar su participación en clase, haciendo los contenidos más relevantes sus intereses.\n",
    "\n",
    "1. **Aprendizaje activo**:\n",
    "  + El estudiante se centra más en leer, ejecutar y ver los resultados en la hoja, y no tanto en tomar apuntes.\n",
    "  + Las hojas permiten probar los conceptos explicados al instante.\n",
    "  + El estudiante puede más adelante experimentar con dichos conceptos en la misma hoja.\n",
    "  \n",
    "\n",
    "2. Manejo de herramientas **Open-source**:\n",
    "  + Jupyter Notebook pertenece a un creciente ecosistema de herramientas Open-source.\n",
    "  + Accesibilidad a los recursos, facilidad de uso y disponibilidad de tutoriales.\n",
    "  + El estudiante únicamente necesita un navegador web moderno. Sin necesidad de instalar nada más.\n",
    "\n",
    "\n",
    "3. **Pensamiento computacional**:\n",
    "  + El estudiante obtiene un mayor conocimiento del dominio mediante la prueba del sistema repetidas veces variando sus parámetros para entender su funcionamiento.\n",
    "  + **Interactividad** con el medio de aprendizaje: El alumno puede ejecutar en el momento fragmentos de código.\n",
    "  + El uso de notebooks ofrece al estudiante un entorno que vincula los **fundamentos básicos** del pensamiento computacional:\n",
    "    - **Descomposición**: De datos, procesos o problemas en partes más pequeñas y manejables.\n",
    "    - **Reconocimiento de patrones**: Observar patrones, tendencias y regularidades en los datos.\n",
    "    - **Abstracción**: Identificación de los principios generales que generan estos patrones.\n",
    "    - **Diseño de algoritmos**: Desarrollo de las instrucciones paso a paso para resolver este y otros problemas similares."
   ]
  },
  {
   "cell_type": "markdown",
   "metadata": {},
   "source": [
    "# _Flavors_ de Notebooks"
   ]
  },
  {
   "cell_type": "markdown",
   "metadata": {
    "tags": []
   },
   "source": [
    "## Jupyter Notebook / Jupyter Lab"
   ]
  },
  {
   "cell_type": "markdown",
   "metadata": {},
   "source": [
    "[https://jupyter.org/](https://jupyter.org/)\n",
    "\n",
    "https://jupyterlab.readthedocs.io/en/stable/index.html"
   ]
  },
  {
   "cell_type": "markdown",
   "metadata": {},
   "source": [
    "![jupyter_files](https://raw.githubusercontent.com/dsevilla/notebook-course-public/main/s1/img/jupyter_files.png)"
   ]
  },
  {
   "cell_type": "markdown",
   "metadata": {},
   "source": [
    "## Google Colab"
   ]
  },
  {
   "cell_type": "markdown",
   "metadata": {},
   "source": [
    "[https://colab.research.google.com/](https://colab.research.google.com/)"
   ]
  },
  {
   "cell_type": "markdown",
   "metadata": {},
   "source": [
    "![colab_screen](https://raw.githubusercontent.com/dsevilla/notebook-course-public/main/s1/img/colab_screen.png)"
   ]
  },
  {
   "cell_type": "markdown",
   "metadata": {},
   "source": [
    "## Visual Studio Code\n",
    "\n",
    "[https://code.visualstudio.com/](https://code.visualstudio.com/)\n",
    "\n",
    "+ Visual Studio Code también permite la ejecución de notebooks\n",
    "+ Soporta varios kernels\n",
    "+ En el caso de la versión OSS (de libre distribución), requiere del uso del parámetro `--enable-proposed-api ms-toolsai.jupyter`:\n",
    "\n",
    "![vscode](https://raw.githubusercontent.com/dsevilla/notebook-course-public/main/s1/img/vscode.png)"
   ]
  },
  {
   "cell_type": "markdown",
   "metadata": {},
   "source": [
    "## MyBinder"
   ]
  },
  {
   "cell_type": "markdown",
   "metadata": {},
   "source": [
    "+ Permite un entorno de ejecución de un notebook (que generalmente se guarda en un repositorio Git público).\n",
    "+ Se genera bajo demanda un entorno de ejcución en una máquina virtual remota y ofrece una página web.\n",
    "\n",
    "[https://mybinder.org/](https://mybinder.org/)\n",
    "\n",
    "[![Binder](https://mybinder.org/badge_logo.svg)](https://mybinder.org/v2/gh/dsevilla/black-fiumer/HEAD?labpath=black_fiumer_2022.ipynb)\n",
    "\n",
    "![Binder welcome](https://github.com/dsevilla/black-fiumer/raw/main/img/binder.png)"
   ]
  },
  {
   "cell_type": "markdown",
   "metadata": {
    "tags": []
   },
   "source": [
    "## nbviewer\n",
    "\n",
    "+ Permite visualizar cualquier Notebook existente en la red, ofreciendo una URL accesible desde cualquier web.\n",
    "\n",
    "[https://nbviewer.org/](https://nbviewer.org/)\n",
    "\n",
    "![nbviewer_screen](https://raw.githubusercontent.com/dsevilla/notebook-course-public/main/s1/img/nbviewer_screen.png)"
   ]
  }
 ],
 "metadata": {
  "kernelspec": {
   "display_name": "Python 3",
   "language": "python",
   "name": "python3"
  },
  "language_info": {
   "codemirror_mode": {
    "name": "ipython",
    "version": 3
   },
   "file_extension": ".py",
   "mimetype": "text/x-python",
   "name": "python",
   "nbconvert_exporter": "python",
   "pygments_lexer": "ipython3",
   "version": "3.7.2"
  },
  "toc": {
   "base_numbering": 1,
   "nav_menu": {},
   "number_sections": true,
   "sideBar": true,
   "skip_h1_title": false,
   "title_cell": "Table of Contents",
   "title_sidebar": "Contents",
   "toc_cell": false,
   "toc_position": {},
   "toc_section_display": true,
   "toc_window_display": true
  },
  "vscode": {
   "interpreter": {
    "hash": "767d51c1340bd893661ea55ea3124f6de3c7a262a8b4abca0554b478b1e2ff90"
   }
  }
 },
 "nbformat": 4,
 "nbformat_minor": 4
}
