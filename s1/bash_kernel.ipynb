{
 "cells": [
  {
   "cell_type": "markdown",
   "id": "ae216855-9c54-48f6-9804-3298b34b1230",
   "metadata": {},
   "source": [
    "# Bash Kernel!"
   ]
  },
  {
   "cell_type": "code",
   "execution_count": null,
   "id": "5fab714c-2eb9-47c8-a618-f48b5dc542ad",
   "metadata": {
    "tags": []
   },
   "outputs": [],
   "source": [
    "pip install bash_kernel\n",
    "python -m bash_kernel.install"
   ]
  },
  {
   "cell_type": "code",
   "execution_count": null,
   "id": "fff7ffe4-f16b-43a3-b0f7-2c484e5dd7aa",
   "metadata": {},
   "outputs": [],
   "source": [
    "ls"
   ]
  },
  {
   "cell_type": "code",
   "execution_count": 3,
   "id": "c1c690f9-f0f6-4859-8f59-3c677f741d10",
   "metadata": {},
   "outputs": [],
   "source": [
    "A=2"
   ]
  },
  {
   "cell_type": "code",
   "execution_count": 4,
   "id": "cf94e76e-3a8b-499f-99ec-8b189672f696",
   "metadata": {},
   "outputs": [
    {
     "name": "stdout",
     "output_type": "stream",
     "text": [
      "2\n"
     ]
    }
   ],
   "source": [
    "echo $A"
   ]
  },
  {
   "cell_type": "code",
   "execution_count": 4,
   "id": "8172c020-d03f-4851-af69-3644a7bad9bc",
   "metadata": {},
   "outputs": [],
   "source": [
    "cat <<EOF >/tmp/script.sh\n",
    "#! /bin/sh\n",
    "echo \"Hola!\"\n",
    "EOF"
   ]
  },
  {
   "cell_type": "code",
   "execution_count": 5,
   "id": "da124b7c-9732-4041-a5cb-186a5ab6314a",
   "metadata": {},
   "outputs": [],
   "source": [
    "chmod a+x /tmp/script.sh"
   ]
  },
  {
   "cell_type": "code",
   "execution_count": 6,
   "id": "9e8c598c-102d-4cb2-b82d-f0b5b28ff349",
   "metadata": {},
   "outputs": [
    {
     "name": "stdout",
     "output_type": "stream",
     "text": [
      "Hola!\n"
     ]
    }
   ],
   "source": [
    "/tmp/script.sh"
   ]
  },
  {
   "cell_type": "code",
   "execution_count": null,
   "id": "13974b1c-39d6-4b9d-ad24-2d168c85710e",
   "metadata": {},
   "outputs": [],
   "source": []
  }
 ],
 "metadata": {
  "kernelspec": {
   "display_name": "Bash",
   "language": "bash",
   "name": "bash"
  },
  "language_info": {
   "codemirror_mode": "shell",
   "file_extension": ".sh",
   "mimetype": "text/x-sh",
   "name": "bash"
  }
 },
 "nbformat": 4,
 "nbformat_minor": 5
}
